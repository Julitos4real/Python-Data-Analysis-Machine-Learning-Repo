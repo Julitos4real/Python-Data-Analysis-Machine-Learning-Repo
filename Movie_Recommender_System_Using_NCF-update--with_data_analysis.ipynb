{
 "cells": [
  {
   "cell_type": "markdown",
   "id": "5112d4b1",
   "metadata": {
    "id": "5112d4b1"
   },
   "source": [
    "## Title: Deep Movie Recommender System with Neural Collaborative Filtering\n",
    "\n",
    "\n",
    "\n",
    "## Name: Julius Aderonmu\n",
    "## Project: Msc Research"
   ]
  },
  {
   "cell_type": "markdown",
   "id": "0f1cd4bd",
   "metadata": {},
   "source": [
    "### Introduction\n",
    "\n",
    "***A Recommender System is a sophisticated framework designed to anticipate or sift through user preferences based on their selections. These systems find applications across diverse domains such as movies, music, news, books, research articles, search queries, social tags, and various product categories.***\n",
    "\n",
    "***We present the NCF model for movie recomendation system and show the effectiveness of the approach by performing a data analysis of the result.*** "
   ]
  },
  {
   "cell_type": "markdown",
   "id": "b2cb4bca",
   "metadata": {},
   "source": [
    "### Research Questions\n",
    "\n",
    "#### The following questions are the driving force for this study:\n",
    "1.\tHow can a deep learning technique be used to develop a recommendation system that provides more accurate recommendations to users?\n",
    "2.\tHow can deep learning-based recommender systems effectively address the cold start problem?\n",
    "3.\tHow does the performance of the developed model compare to existing recommender systems?\n",
    "4.\tHow does incorporating latent features from the deep network enhance the accuracy of recommendation systems?\n"
   ]
  },
  {
   "cell_type": "markdown",
   "id": "be8c7f89",
   "metadata": {
    "id": "be8c7f89"
   },
   "source": [
    "### Code\n",
    "### Importing Necessary Libraries"
   ]
  },
  {
   "cell_type": "code",
   "execution_count": 1,
   "id": "05c68e6f",
   "metadata": {
    "id": "05c68e6f"
   },
   "outputs": [],
   "source": [
    "import pandas as pd\n",
    "import numpy as np\n",
    "from zipfile import ZipFile\n",
    "import tensorflow as tf\n",
    "from tensorflow import keras\n",
    "from tensorflow.keras import layers\n",
    "from pathlib import Path\n",
    "import matplotlib.pyplot as plt\n",
    "import seaborn as sns\n",
    "import matplotlib.pyplot as plt\n",
    "from sklearn.metrics import mean_squared_error, mean_absolute_error, precision_score, recall_score, accuracy_score, mean_squared_error\n"
   ]
  },
  {
   "cell_type": "markdown",
   "id": "b229c69e",
   "metadata": {
    "id": "b229c69e"
   },
   "source": [
    "### Loading Datasets"
   ]
  },
  {
   "cell_type": "code",
   "execution_count": 2,
   "id": "t5ClSYBiw9-U",
   "metadata": {
    "colab": {
     "base_uri": "https://localhost:8080/"
    },
    "id": "t5ClSYBiw9-U",
    "outputId": "52af1c26-c182-4dac-a90e-c5cf65bdadb4"
   },
   "outputs": [],
   "source": [
    "# from google.colab import drive\n",
    "# drive.mount('/content/drive')"
   ]
  },
  {
   "cell_type": "code",
   "execution_count": 3,
   "id": "346acb69",
   "metadata": {
    "id": "346acb69"
   },
   "outputs": [],
   "source": [
    "movie_df = pd.read_csv('rotten_tomatoes_movies.csv',encoding='utf-8')\n",
    "ratings_df = pd.read_csv('rotten_tomatoes_critic_reviews.csv')\n"
   ]
  },
  {
   "cell_type": "code",
   "execution_count": 4,
   "id": "3c8866dd",
   "metadata": {
    "colab": {
     "base_uri": "https://localhost:8080/",
     "height": 785
    },
    "id": "3c8866dd",
    "outputId": "2dffde5c-77fd-41df-a57e-afd5d0cd2809"
   },
   "outputs": [
    {
     "data": {
      "text/html": [
       "<div>\n",
       "<style scoped>\n",
       "    .dataframe tbody tr th:only-of-type {\n",
       "        vertical-align: middle;\n",
       "    }\n",
       "\n",
       "    .dataframe tbody tr th {\n",
       "        vertical-align: top;\n",
       "    }\n",
       "\n",
       "    .dataframe thead th {\n",
       "        text-align: right;\n",
       "    }\n",
       "</style>\n",
       "<table border=\"1\" class=\"dataframe\">\n",
       "  <thead>\n",
       "    <tr style=\"text-align: right;\">\n",
       "      <th></th>\n",
       "      <th>rotten_tomatoes_link</th>\n",
       "      <th>movie_title</th>\n",
       "      <th>movie_info</th>\n",
       "      <th>critics_consensus</th>\n",
       "      <th>content_rating</th>\n",
       "      <th>genres</th>\n",
       "      <th>directors</th>\n",
       "      <th>authors</th>\n",
       "      <th>actors</th>\n",
       "      <th>original_release_date</th>\n",
       "      <th>...</th>\n",
       "      <th>production_company</th>\n",
       "      <th>tomatometer_status</th>\n",
       "      <th>tomatometer_rating</th>\n",
       "      <th>tomatometer_count</th>\n",
       "      <th>audience_status</th>\n",
       "      <th>audience_rating</th>\n",
       "      <th>audience_count</th>\n",
       "      <th>tomatometer_top_critics_count</th>\n",
       "      <th>tomatometer_fresh_critics_count</th>\n",
       "      <th>tomatometer_rotten_critics_count</th>\n",
       "    </tr>\n",
       "  </thead>\n",
       "  <tbody>\n",
       "    <tr>\n",
       "      <th>0</th>\n",
       "      <td>m/0814255</td>\n",
       "      <td>Percy Jackson &amp; the Olympians: The Lightning T...</td>\n",
       "      <td>Always trouble-prone, the life of teenager Per...</td>\n",
       "      <td>Though it may seem like just another Harry Pot...</td>\n",
       "      <td>PG</td>\n",
       "      <td>Action &amp; Adventure, Comedy, Drama, Science Fic...</td>\n",
       "      <td>Chris Columbus</td>\n",
       "      <td>Craig Titley, Chris Columbus, Rick Riordan</td>\n",
       "      <td>Logan Lerman, Brandon T. Jackson, Alexandra Da...</td>\n",
       "      <td>2010-02-12</td>\n",
       "      <td>...</td>\n",
       "      <td>20th Century Fox</td>\n",
       "      <td>Rotten</td>\n",
       "      <td>49.0</td>\n",
       "      <td>149.0</td>\n",
       "      <td>Spilled</td>\n",
       "      <td>53.0</td>\n",
       "      <td>254421.0</td>\n",
       "      <td>43</td>\n",
       "      <td>73</td>\n",
       "      <td>76</td>\n",
       "    </tr>\n",
       "    <tr>\n",
       "      <th>1</th>\n",
       "      <td>m/0878835</td>\n",
       "      <td>Please Give</td>\n",
       "      <td>Kate (Catherine Keener) and her husband Alex (...</td>\n",
       "      <td>Nicole Holofcener's newest might seem slight i...</td>\n",
       "      <td>R</td>\n",
       "      <td>Comedy</td>\n",
       "      <td>Nicole Holofcener</td>\n",
       "      <td>Nicole Holofcener</td>\n",
       "      <td>Catherine Keener, Amanda Peet, Oliver Platt, R...</td>\n",
       "      <td>2010-04-30</td>\n",
       "      <td>...</td>\n",
       "      <td>Sony Pictures Classics</td>\n",
       "      <td>Certified-Fresh</td>\n",
       "      <td>87.0</td>\n",
       "      <td>142.0</td>\n",
       "      <td>Upright</td>\n",
       "      <td>64.0</td>\n",
       "      <td>11574.0</td>\n",
       "      <td>44</td>\n",
       "      <td>123</td>\n",
       "      <td>19</td>\n",
       "    </tr>\n",
       "    <tr>\n",
       "      <th>2</th>\n",
       "      <td>m/10</td>\n",
       "      <td>10</td>\n",
       "      <td>A successful, middle-aged Hollywood songwriter...</td>\n",
       "      <td>Blake Edwards' bawdy comedy may not score a pe...</td>\n",
       "      <td>R</td>\n",
       "      <td>Comedy, Romance</td>\n",
       "      <td>Blake Edwards</td>\n",
       "      <td>Blake Edwards</td>\n",
       "      <td>Dudley Moore, Bo Derek, Julie Andrews, Robert ...</td>\n",
       "      <td>1979-10-05</td>\n",
       "      <td>...</td>\n",
       "      <td>Waner Bros.</td>\n",
       "      <td>Fresh</td>\n",
       "      <td>67.0</td>\n",
       "      <td>24.0</td>\n",
       "      <td>Spilled</td>\n",
       "      <td>53.0</td>\n",
       "      <td>14684.0</td>\n",
       "      <td>2</td>\n",
       "      <td>16</td>\n",
       "      <td>8</td>\n",
       "    </tr>\n",
       "    <tr>\n",
       "      <th>3</th>\n",
       "      <td>m/1000013-12_angry_men</td>\n",
       "      <td>12 Angry Men (Twelve Angry Men)</td>\n",
       "      <td>Following the closing arguments in a murder tr...</td>\n",
       "      <td>Sidney Lumet's feature debut is a superbly wri...</td>\n",
       "      <td>NR</td>\n",
       "      <td>Classics, Drama</td>\n",
       "      <td>Sidney Lumet</td>\n",
       "      <td>Reginald Rose</td>\n",
       "      <td>Martin Balsam, John Fiedler, Lee J. Cobb, E.G....</td>\n",
       "      <td>1957-04-13</td>\n",
       "      <td>...</td>\n",
       "      <td>Criterion Collection</td>\n",
       "      <td>Certified-Fresh</td>\n",
       "      <td>100.0</td>\n",
       "      <td>54.0</td>\n",
       "      <td>Upright</td>\n",
       "      <td>97.0</td>\n",
       "      <td>105386.0</td>\n",
       "      <td>6</td>\n",
       "      <td>54</td>\n",
       "      <td>0</td>\n",
       "    </tr>\n",
       "    <tr>\n",
       "      <th>4</th>\n",
       "      <td>m/1000079-20000_leagues_under_the_sea</td>\n",
       "      <td>20,000 Leagues Under The Sea</td>\n",
       "      <td>In 1866, Professor Pierre M. Aronnax (Paul Luk...</td>\n",
       "      <td>One of Disney's finest live-action adventures,...</td>\n",
       "      <td>G</td>\n",
       "      <td>Action &amp; Adventure, Drama, Kids &amp; Family</td>\n",
       "      <td>Richard Fleischer</td>\n",
       "      <td>Earl Felton</td>\n",
       "      <td>James Mason, Kirk Douglas, Paul Lukas, Peter L...</td>\n",
       "      <td>1954-01-01</td>\n",
       "      <td>...</td>\n",
       "      <td>Disney</td>\n",
       "      <td>Fresh</td>\n",
       "      <td>89.0</td>\n",
       "      <td>27.0</td>\n",
       "      <td>Upright</td>\n",
       "      <td>74.0</td>\n",
       "      <td>68918.0</td>\n",
       "      <td>5</td>\n",
       "      <td>24</td>\n",
       "      <td>3</td>\n",
       "    </tr>\n",
       "  </tbody>\n",
       "</table>\n",
       "<p>5 rows × 22 columns</p>\n",
       "</div>"
      ],
      "text/plain": [
       "                    rotten_tomatoes_link  \\\n",
       "0                              m/0814255   \n",
       "1                              m/0878835   \n",
       "2                                   m/10   \n",
       "3                 m/1000013-12_angry_men   \n",
       "4  m/1000079-20000_leagues_under_the_sea   \n",
       "\n",
       "                                         movie_title  \\\n",
       "0  Percy Jackson & the Olympians: The Lightning T...   \n",
       "1                                        Please Give   \n",
       "2                                                 10   \n",
       "3                    12 Angry Men (Twelve Angry Men)   \n",
       "4                       20,000 Leagues Under The Sea   \n",
       "\n",
       "                                          movie_info  \\\n",
       "0  Always trouble-prone, the life of teenager Per...   \n",
       "1  Kate (Catherine Keener) and her husband Alex (...   \n",
       "2  A successful, middle-aged Hollywood songwriter...   \n",
       "3  Following the closing arguments in a murder tr...   \n",
       "4  In 1866, Professor Pierre M. Aronnax (Paul Luk...   \n",
       "\n",
       "                                   critics_consensus content_rating  \\\n",
       "0  Though it may seem like just another Harry Pot...             PG   \n",
       "1  Nicole Holofcener's newest might seem slight i...              R   \n",
       "2  Blake Edwards' bawdy comedy may not score a pe...              R   \n",
       "3  Sidney Lumet's feature debut is a superbly wri...             NR   \n",
       "4  One of Disney's finest live-action adventures,...              G   \n",
       "\n",
       "                                              genres          directors  \\\n",
       "0  Action & Adventure, Comedy, Drama, Science Fic...     Chris Columbus   \n",
       "1                                             Comedy  Nicole Holofcener   \n",
       "2                                    Comedy, Romance      Blake Edwards   \n",
       "3                                    Classics, Drama       Sidney Lumet   \n",
       "4           Action & Adventure, Drama, Kids & Family  Richard Fleischer   \n",
       "\n",
       "                                      authors  \\\n",
       "0  Craig Titley, Chris Columbus, Rick Riordan   \n",
       "1                           Nicole Holofcener   \n",
       "2                               Blake Edwards   \n",
       "3                               Reginald Rose   \n",
       "4                                 Earl Felton   \n",
       "\n",
       "                                              actors original_release_date  \\\n",
       "0  Logan Lerman, Brandon T. Jackson, Alexandra Da...            2010-02-12   \n",
       "1  Catherine Keener, Amanda Peet, Oliver Platt, R...            2010-04-30   \n",
       "2  Dudley Moore, Bo Derek, Julie Andrews, Robert ...            1979-10-05   \n",
       "3  Martin Balsam, John Fiedler, Lee J. Cobb, E.G....            1957-04-13   \n",
       "4  James Mason, Kirk Douglas, Paul Lukas, Peter L...            1954-01-01   \n",
       "\n",
       "   ...      production_company  tomatometer_status tomatometer_rating  \\\n",
       "0  ...        20th Century Fox              Rotten               49.0   \n",
       "1  ...  Sony Pictures Classics     Certified-Fresh               87.0   \n",
       "2  ...             Waner Bros.               Fresh               67.0   \n",
       "3  ...    Criterion Collection     Certified-Fresh              100.0   \n",
       "4  ...                  Disney               Fresh               89.0   \n",
       "\n",
       "  tomatometer_count  audience_status  audience_rating audience_count  \\\n",
       "0             149.0          Spilled             53.0       254421.0   \n",
       "1             142.0          Upright             64.0        11574.0   \n",
       "2              24.0          Spilled             53.0        14684.0   \n",
       "3              54.0          Upright             97.0       105386.0   \n",
       "4              27.0          Upright             74.0        68918.0   \n",
       "\n",
       "   tomatometer_top_critics_count  tomatometer_fresh_critics_count  \\\n",
       "0                             43                               73   \n",
       "1                             44                              123   \n",
       "2                              2                               16   \n",
       "3                              6                               54   \n",
       "4                              5                               24   \n",
       "\n",
       "   tomatometer_rotten_critics_count  \n",
       "0                                76  \n",
       "1                                19  \n",
       "2                                 8  \n",
       "3                                 0  \n",
       "4                                 3  \n",
       "\n",
       "[5 rows x 22 columns]"
      ]
     },
     "execution_count": 4,
     "metadata": {},
     "output_type": "execute_result"
    }
   ],
   "source": [
    "movie_df.head(5)"
   ]
  },
  {
   "cell_type": "code",
   "execution_count": 5,
   "id": "e6489040",
   "metadata": {
    "colab": {
     "base_uri": "https://localhost:8080/"
    },
    "id": "e6489040",
    "outputId": "1c51eb24-806c-40a3-c092-8be2e2c21add"
   },
   "outputs": [
    {
     "data": {
      "text/plain": [
       "(17712, 22)"
      ]
     },
     "execution_count": 5,
     "metadata": {},
     "output_type": "execute_result"
    }
   ],
   "source": [
    "movie_df.shape"
   ]
  },
  {
   "cell_type": "code",
   "execution_count": 6,
   "id": "45eceab7",
   "metadata": {
    "colab": {
     "base_uri": "https://localhost:8080/",
     "height": 206
    },
    "id": "45eceab7",
    "outputId": "d7932012-4ca4-4b70-86f2-c89c8f9e3b7e"
   },
   "outputs": [
    {
     "data": {
      "text/html": [
       "<div>\n",
       "<style scoped>\n",
       "    .dataframe tbody tr th:only-of-type {\n",
       "        vertical-align: middle;\n",
       "    }\n",
       "\n",
       "    .dataframe tbody tr th {\n",
       "        vertical-align: top;\n",
       "    }\n",
       "\n",
       "    .dataframe thead th {\n",
       "        text-align: right;\n",
       "    }\n",
       "</style>\n",
       "<table border=\"1\" class=\"dataframe\">\n",
       "  <thead>\n",
       "    <tr style=\"text-align: right;\">\n",
       "      <th></th>\n",
       "      <th>rotten_tomatoes_link</th>\n",
       "      <th>critic_name</th>\n",
       "      <th>top_critic</th>\n",
       "      <th>publisher_name</th>\n",
       "      <th>review_type</th>\n",
       "      <th>review_score</th>\n",
       "      <th>review_date</th>\n",
       "      <th>review_content</th>\n",
       "    </tr>\n",
       "  </thead>\n",
       "  <tbody>\n",
       "    <tr>\n",
       "      <th>0</th>\n",
       "      <td>m/0814255</td>\n",
       "      <td>Andrew L. Urban</td>\n",
       "      <td>False</td>\n",
       "      <td>Urban Cinefile</td>\n",
       "      <td>Fresh</td>\n",
       "      <td>NaN</td>\n",
       "      <td>2010-02-06</td>\n",
       "      <td>A fantasy adventure that fuses Greek mythology...</td>\n",
       "    </tr>\n",
       "    <tr>\n",
       "      <th>1</th>\n",
       "      <td>m/0814255</td>\n",
       "      <td>Louise Keller</td>\n",
       "      <td>False</td>\n",
       "      <td>Urban Cinefile</td>\n",
       "      <td>Fresh</td>\n",
       "      <td>NaN</td>\n",
       "      <td>2010-02-06</td>\n",
       "      <td>Uma Thurman as Medusa, the gorgon with a coiff...</td>\n",
       "    </tr>\n",
       "    <tr>\n",
       "      <th>2</th>\n",
       "      <td>m/0814255</td>\n",
       "      <td>NaN</td>\n",
       "      <td>False</td>\n",
       "      <td>FILMINK (Australia)</td>\n",
       "      <td>Fresh</td>\n",
       "      <td>NaN</td>\n",
       "      <td>2010-02-09</td>\n",
       "      <td>With a top-notch cast and dazzling special eff...</td>\n",
       "    </tr>\n",
       "    <tr>\n",
       "      <th>3</th>\n",
       "      <td>m/0814255</td>\n",
       "      <td>Ben McEachen</td>\n",
       "      <td>False</td>\n",
       "      <td>Sunday Mail (Australia)</td>\n",
       "      <td>Fresh</td>\n",
       "      <td>3.5/5</td>\n",
       "      <td>2010-02-09</td>\n",
       "      <td>Whether audiences will get behind The Lightnin...</td>\n",
       "    </tr>\n",
       "    <tr>\n",
       "      <th>4</th>\n",
       "      <td>m/0814255</td>\n",
       "      <td>Ethan Alter</td>\n",
       "      <td>True</td>\n",
       "      <td>Hollywood Reporter</td>\n",
       "      <td>Rotten</td>\n",
       "      <td>NaN</td>\n",
       "      <td>2010-02-10</td>\n",
       "      <td>What's really lacking in The Lightning Thief i...</td>\n",
       "    </tr>\n",
       "  </tbody>\n",
       "</table>\n",
       "</div>"
      ],
      "text/plain": [
       "  rotten_tomatoes_link      critic_name  top_critic           publisher_name  \\\n",
       "0            m/0814255  Andrew L. Urban       False           Urban Cinefile   \n",
       "1            m/0814255    Louise Keller       False           Urban Cinefile   \n",
       "2            m/0814255              NaN       False      FILMINK (Australia)   \n",
       "3            m/0814255     Ben McEachen       False  Sunday Mail (Australia)   \n",
       "4            m/0814255      Ethan Alter        True       Hollywood Reporter   \n",
       "\n",
       "  review_type review_score review_date  \\\n",
       "0       Fresh          NaN  2010-02-06   \n",
       "1       Fresh          NaN  2010-02-06   \n",
       "2       Fresh          NaN  2010-02-09   \n",
       "3       Fresh        3.5/5  2010-02-09   \n",
       "4      Rotten          NaN  2010-02-10   \n",
       "\n",
       "                                      review_content  \n",
       "0  A fantasy adventure that fuses Greek mythology...  \n",
       "1  Uma Thurman as Medusa, the gorgon with a coiff...  \n",
       "2  With a top-notch cast and dazzling special eff...  \n",
       "3  Whether audiences will get behind The Lightnin...  \n",
       "4  What's really lacking in The Lightning Thief i...  "
      ]
     },
     "execution_count": 6,
     "metadata": {},
     "output_type": "execute_result"
    }
   ],
   "source": [
    "ratings_df.head(5)"
   ]
  },
  {
   "cell_type": "code",
   "execution_count": 7,
   "id": "54b223a9",
   "metadata": {
    "colab": {
     "base_uri": "https://localhost:8080/"
    },
    "id": "54b223a9",
    "outputId": "4a0feee9-baf9-47b4-9509-09d71dad3cfa"
   },
   "outputs": [
    {
     "data": {
      "text/plain": [
       "(1130017, 8)"
      ]
     },
     "execution_count": 7,
     "metadata": {},
     "output_type": "execute_result"
    }
   ],
   "source": [
    "ratings_df.shape"
   ]
  },
  {
   "cell_type": "markdown",
   "id": "60874bd9",
   "metadata": {
    "id": "60874bd9"
   },
   "source": [
    "### Data Preprocessing"
   ]
  },
  {
   "cell_type": "code",
   "execution_count": 8,
   "id": "d6c00629",
   "metadata": {
    "colab": {
     "base_uri": "https://localhost:8080/",
     "height": 733
    },
    "id": "d6c00629",
    "outputId": "a7dfbba0-8c1e-4407-f994-bc8c4391dc06"
   },
   "outputs": [
    {
     "data": {
      "text/html": [
       "<div>\n",
       "<style scoped>\n",
       "    .dataframe tbody tr th:only-of-type {\n",
       "        vertical-align: middle;\n",
       "    }\n",
       "\n",
       "    .dataframe tbody tr th {\n",
       "        vertical-align: top;\n",
       "    }\n",
       "\n",
       "    .dataframe thead th {\n",
       "        text-align: right;\n",
       "    }\n",
       "</style>\n",
       "<table border=\"1\" class=\"dataframe\">\n",
       "  <thead>\n",
       "    <tr style=\"text-align: right;\">\n",
       "      <th></th>\n",
       "      <th>rotten_tomatoes_link</th>\n",
       "      <th>critic_name</th>\n",
       "      <th>top_critic</th>\n",
       "      <th>publisher_name</th>\n",
       "      <th>review_type</th>\n",
       "      <th>review_score</th>\n",
       "      <th>review_date</th>\n",
       "      <th>review_content</th>\n",
       "      <th>movie_title</th>\n",
       "      <th>movie_info</th>\n",
       "      <th>...</th>\n",
       "      <th>production_company</th>\n",
       "      <th>tomatometer_status</th>\n",
       "      <th>tomatometer_rating</th>\n",
       "      <th>tomatometer_count</th>\n",
       "      <th>audience_status</th>\n",
       "      <th>audience_rating</th>\n",
       "      <th>audience_count</th>\n",
       "      <th>tomatometer_top_critics_count</th>\n",
       "      <th>tomatometer_fresh_critics_count</th>\n",
       "      <th>tomatometer_rotten_critics_count</th>\n",
       "    </tr>\n",
       "  </thead>\n",
       "  <tbody>\n",
       "    <tr>\n",
       "      <th>0</th>\n",
       "      <td>m/0814255</td>\n",
       "      <td>Andrew L. Urban</td>\n",
       "      <td>False</td>\n",
       "      <td>Urban Cinefile</td>\n",
       "      <td>Fresh</td>\n",
       "      <td>NaN</td>\n",
       "      <td>2010-02-06</td>\n",
       "      <td>A fantasy adventure that fuses Greek mythology...</td>\n",
       "      <td>Percy Jackson &amp; the Olympians: The Lightning T...</td>\n",
       "      <td>Always trouble-prone, the life of teenager Per...</td>\n",
       "      <td>...</td>\n",
       "      <td>20th Century Fox</td>\n",
       "      <td>Rotten</td>\n",
       "      <td>49.0</td>\n",
       "      <td>149.0</td>\n",
       "      <td>Spilled</td>\n",
       "      <td>53.0</td>\n",
       "      <td>254421.0</td>\n",
       "      <td>43</td>\n",
       "      <td>73</td>\n",
       "      <td>76</td>\n",
       "    </tr>\n",
       "    <tr>\n",
       "      <th>1</th>\n",
       "      <td>m/0814255</td>\n",
       "      <td>Louise Keller</td>\n",
       "      <td>False</td>\n",
       "      <td>Urban Cinefile</td>\n",
       "      <td>Fresh</td>\n",
       "      <td>NaN</td>\n",
       "      <td>2010-02-06</td>\n",
       "      <td>Uma Thurman as Medusa, the gorgon with a coiff...</td>\n",
       "      <td>Percy Jackson &amp; the Olympians: The Lightning T...</td>\n",
       "      <td>Always trouble-prone, the life of teenager Per...</td>\n",
       "      <td>...</td>\n",
       "      <td>20th Century Fox</td>\n",
       "      <td>Rotten</td>\n",
       "      <td>49.0</td>\n",
       "      <td>149.0</td>\n",
       "      <td>Spilled</td>\n",
       "      <td>53.0</td>\n",
       "      <td>254421.0</td>\n",
       "      <td>43</td>\n",
       "      <td>73</td>\n",
       "      <td>76</td>\n",
       "    </tr>\n",
       "    <tr>\n",
       "      <th>2</th>\n",
       "      <td>m/0814255</td>\n",
       "      <td>NaN</td>\n",
       "      <td>False</td>\n",
       "      <td>FILMINK (Australia)</td>\n",
       "      <td>Fresh</td>\n",
       "      <td>NaN</td>\n",
       "      <td>2010-02-09</td>\n",
       "      <td>With a top-notch cast and dazzling special eff...</td>\n",
       "      <td>Percy Jackson &amp; the Olympians: The Lightning T...</td>\n",
       "      <td>Always trouble-prone, the life of teenager Per...</td>\n",
       "      <td>...</td>\n",
       "      <td>20th Century Fox</td>\n",
       "      <td>Rotten</td>\n",
       "      <td>49.0</td>\n",
       "      <td>149.0</td>\n",
       "      <td>Spilled</td>\n",
       "      <td>53.0</td>\n",
       "      <td>254421.0</td>\n",
       "      <td>43</td>\n",
       "      <td>73</td>\n",
       "      <td>76</td>\n",
       "    </tr>\n",
       "    <tr>\n",
       "      <th>3</th>\n",
       "      <td>m/0814255</td>\n",
       "      <td>Ben McEachen</td>\n",
       "      <td>False</td>\n",
       "      <td>Sunday Mail (Australia)</td>\n",
       "      <td>Fresh</td>\n",
       "      <td>3.5/5</td>\n",
       "      <td>2010-02-09</td>\n",
       "      <td>Whether audiences will get behind The Lightnin...</td>\n",
       "      <td>Percy Jackson &amp; the Olympians: The Lightning T...</td>\n",
       "      <td>Always trouble-prone, the life of teenager Per...</td>\n",
       "      <td>...</td>\n",
       "      <td>20th Century Fox</td>\n",
       "      <td>Rotten</td>\n",
       "      <td>49.0</td>\n",
       "      <td>149.0</td>\n",
       "      <td>Spilled</td>\n",
       "      <td>53.0</td>\n",
       "      <td>254421.0</td>\n",
       "      <td>43</td>\n",
       "      <td>73</td>\n",
       "      <td>76</td>\n",
       "    </tr>\n",
       "    <tr>\n",
       "      <th>4</th>\n",
       "      <td>m/0814255</td>\n",
       "      <td>Ethan Alter</td>\n",
       "      <td>True</td>\n",
       "      <td>Hollywood Reporter</td>\n",
       "      <td>Rotten</td>\n",
       "      <td>NaN</td>\n",
       "      <td>2010-02-10</td>\n",
       "      <td>What's really lacking in The Lightning Thief i...</td>\n",
       "      <td>Percy Jackson &amp; the Olympians: The Lightning T...</td>\n",
       "      <td>Always trouble-prone, the life of teenager Per...</td>\n",
       "      <td>...</td>\n",
       "      <td>20th Century Fox</td>\n",
       "      <td>Rotten</td>\n",
       "      <td>49.0</td>\n",
       "      <td>149.0</td>\n",
       "      <td>Spilled</td>\n",
       "      <td>53.0</td>\n",
       "      <td>254421.0</td>\n",
       "      <td>43</td>\n",
       "      <td>73</td>\n",
       "      <td>76</td>\n",
       "    </tr>\n",
       "  </tbody>\n",
       "</table>\n",
       "<p>5 rows × 29 columns</p>\n",
       "</div>"
      ],
      "text/plain": [
       "  rotten_tomatoes_link      critic_name  top_critic           publisher_name  \\\n",
       "0            m/0814255  Andrew L. Urban       False           Urban Cinefile   \n",
       "1            m/0814255    Louise Keller       False           Urban Cinefile   \n",
       "2            m/0814255              NaN       False      FILMINK (Australia)   \n",
       "3            m/0814255     Ben McEachen       False  Sunday Mail (Australia)   \n",
       "4            m/0814255      Ethan Alter        True       Hollywood Reporter   \n",
       "\n",
       "  review_type review_score review_date  \\\n",
       "0       Fresh          NaN  2010-02-06   \n",
       "1       Fresh          NaN  2010-02-06   \n",
       "2       Fresh          NaN  2010-02-09   \n",
       "3       Fresh        3.5/5  2010-02-09   \n",
       "4      Rotten          NaN  2010-02-10   \n",
       "\n",
       "                                      review_content  \\\n",
       "0  A fantasy adventure that fuses Greek mythology...   \n",
       "1  Uma Thurman as Medusa, the gorgon with a coiff...   \n",
       "2  With a top-notch cast and dazzling special eff...   \n",
       "3  Whether audiences will get behind The Lightnin...   \n",
       "4  What's really lacking in The Lightning Thief i...   \n",
       "\n",
       "                                         movie_title  \\\n",
       "0  Percy Jackson & the Olympians: The Lightning T...   \n",
       "1  Percy Jackson & the Olympians: The Lightning T...   \n",
       "2  Percy Jackson & the Olympians: The Lightning T...   \n",
       "3  Percy Jackson & the Olympians: The Lightning T...   \n",
       "4  Percy Jackson & the Olympians: The Lightning T...   \n",
       "\n",
       "                                          movie_info  ... production_company  \\\n",
       "0  Always trouble-prone, the life of teenager Per...  ...   20th Century Fox   \n",
       "1  Always trouble-prone, the life of teenager Per...  ...   20th Century Fox   \n",
       "2  Always trouble-prone, the life of teenager Per...  ...   20th Century Fox   \n",
       "3  Always trouble-prone, the life of teenager Per...  ...   20th Century Fox   \n",
       "4  Always trouble-prone, the life of teenager Per...  ...   20th Century Fox   \n",
       "\n",
       "  tomatometer_status tomatometer_rating tomatometer_count audience_status  \\\n",
       "0             Rotten               49.0             149.0         Spilled   \n",
       "1             Rotten               49.0             149.0         Spilled   \n",
       "2             Rotten               49.0             149.0         Spilled   \n",
       "3             Rotten               49.0             149.0         Spilled   \n",
       "4             Rotten               49.0             149.0         Spilled   \n",
       "\n",
       "  audience_rating audience_count tomatometer_top_critics_count  \\\n",
       "0            53.0       254421.0                            43   \n",
       "1            53.0       254421.0                            43   \n",
       "2            53.0       254421.0                            43   \n",
       "3            53.0       254421.0                            43   \n",
       "4            53.0       254421.0                            43   \n",
       "\n",
       "   tomatometer_fresh_critics_count tomatometer_rotten_critics_count  \n",
       "0                               73                               76  \n",
       "1                               73                               76  \n",
       "2                               73                               76  \n",
       "3                               73                               76  \n",
       "4                               73                               76  \n",
       "\n",
       "[5 rows x 29 columns]"
      ]
     },
     "execution_count": 8,
     "metadata": {},
     "output_type": "execute_result"
    }
   ],
   "source": [
    "# Combine both dataframes\n",
    "merged_data = pd.merge(ratings_df, movie_df, how='inner')\n",
    "merged_data.head(5)"
   ]
  },
  {
   "cell_type": "code",
   "execution_count": 9,
   "id": "a976befc",
   "metadata": {
    "colab": {
     "base_uri": "https://localhost:8080/"
    },
    "id": "a976befc",
    "outputId": "23788e4f-a57b-459d-d07b-212f9ad80df8"
   },
   "outputs": [
    {
     "data": {
      "text/plain": [
       "(1129887, 29)"
      ]
     },
     "execution_count": 9,
     "metadata": {},
     "output_type": "execute_result"
    }
   ],
   "source": [
    "merged_data.shape"
   ]
  },
  {
   "cell_type": "code",
   "execution_count": 10,
   "id": "6c3dd872",
   "metadata": {
    "colab": {
     "base_uri": "https://localhost:8080/"
    },
    "id": "6c3dd872",
    "outputId": "f1e4dc9d-9d18-48bf-88d0-258f457a039d"
   },
   "outputs": [
    {
     "data": {
      "text/plain": [
       "Index(['rotten_tomatoes_link', 'critic_name', 'top_critic', 'publisher_name',\n",
       "       'review_type', 'review_score', 'review_date', 'review_content',\n",
       "       'movie_title', 'movie_info', 'critics_consensus', 'content_rating',\n",
       "       'genres', 'directors', 'authors', 'actors', 'original_release_date',\n",
       "       'streaming_release_date', 'runtime', 'production_company',\n",
       "       'tomatometer_status', 'tomatometer_rating', 'tomatometer_count',\n",
       "       'audience_status', 'audience_rating', 'audience_count',\n",
       "       'tomatometer_top_critics_count', 'tomatometer_fresh_critics_count',\n",
       "       'tomatometer_rotten_critics_count'],\n",
       "      dtype='object')"
      ]
     },
     "execution_count": 10,
     "metadata": {},
     "output_type": "execute_result"
    }
   ],
   "source": [
    "merged_data.columns"
   ]
  },
  {
   "cell_type": "code",
   "execution_count": 11,
   "id": "2d0286c3",
   "metadata": {
    "colab": {
     "base_uri": "https://localhost:8080/",
     "height": 72
    },
    "id": "2d0286c3",
    "outputId": "29a92a8f-8f16-4ff6-bc6a-23b1da101070"
   },
   "outputs": [
    {
     "data": {
      "text/plain": [
       "\"Always trouble-prone, the life of teenager Percy Jackson (Logan Lerman) gets a lot more complicated when he learns he's the son of the Greek god Poseidon. At a training ground for the children of deities, Percy learns to harness his divine powers and prepare for the adventure of a lifetime: he must prevent a feud among the Olympians from erupting into a devastating war on Earth, and rescue his mother from the clutches of Hades, god of the underworld.\""
      ]
     },
     "execution_count": 11,
     "metadata": {},
     "output_type": "execute_result"
    }
   ],
   "source": [
    "merged_data['movie_info'][0]"
   ]
  },
  {
   "cell_type": "code",
   "execution_count": 12,
   "id": "eefe9c5a",
   "metadata": {
    "colab": {
     "base_uri": "https://localhost:8080/",
     "height": 36
    },
    "id": "eefe9c5a",
    "outputId": "25a23f56-822c-4d48-de92-28c7e5c5a988"
   },
   "outputs": [
    {
     "data": {
      "text/plain": [
       "'A fantasy adventure that fuses Greek mythology to contemporary American places and values. Anyone around 15 (give or take a couple of years) will thrill to the visual spectacle'"
      ]
     },
     "execution_count": 12,
     "metadata": {},
     "output_type": "execute_result"
    }
   ],
   "source": [
    "merged_data['review_content'][0]"
   ]
  },
  {
   "cell_type": "code",
   "execution_count": 13,
   "id": "cd17411e",
   "metadata": {
    "colab": {
     "base_uri": "https://localhost:8080/",
     "height": 36
    },
    "id": "cd17411e",
    "outputId": "02c6e5c1-f389-4b21-c25e-fb42bf3c59d8"
   },
   "outputs": [
    {
     "data": {
      "text/plain": [
       "\"Blake Edwards' bawdy comedy may not score a perfect 10, but Dudley Moore's self-deprecating performance makes this midlife crisis persistently funny.\""
      ]
     },
     "execution_count": 13,
     "metadata": {},
     "output_type": "execute_result"
    }
   ],
   "source": [
    "\n",
    "merged_data['critics_consensus'][300]"
   ]
  },
  {
   "cell_type": "code",
   "execution_count": 14,
   "id": "89b0a88b",
   "metadata": {
    "colab": {
     "base_uri": "https://localhost:8080/"
    },
    "id": "89b0a88b",
    "outputId": "bf6ecf69-9b31-448c-eeee-056fdb8333e0"
   },
   "outputs": [
    {
     "data": {
      "text/plain": [
       "array([nan, '3.5/5', '1/4', 'B', '3/5', '4/5', '2/4', '2/5', 'C', '2.5/4',\n",
       "       '3/4', 'C-', '2.75/5', 'B-', '2.5/5', '5.5/10', '1/5', 'C+', 'D+',\n",
       "       '1.5/4', '6.5/10', '3/10', '1.5/5', '4/10', '7/10', '6/10', 'B+',\n",
       "       '5/5', 'A-', '4.5/5', '5.78/10', '3.5/4', 'A', '9/10', '8.5/10',\n",
       "       '4/4', '83/100', '8/10', '92/100', '82/100', '84/100', '10/10',\n",
       "       'D-', 'F', '0.5/4', 'D', '5/10', '2/10', '2/6', '0.5/5', '0/4',\n",
       "       '0/5', '76/100', '87/100', '74/100', '86/100', '81/100', '56/100',\n",
       "       '78/100', '2.25/5', '8.8/10', '0/10', '44/100', '2.75/4', '2.4/5',\n",
       "       '8.6/10', '79/100', '68/100', '80/100', '90/100', '66/100',\n",
       "       '91/100', '0.3/5', '9.2/10', '2.7/5', '57/100', '4/6', '3/6',\n",
       "       '73/100', '42/100', '65/100', '7.5/10', '4.5/10', '5/6', '1/6',\n",
       "       '70/100', '3.5/10', '71/100', '0.1/5', '3.25/10', '89/100',\n",
       "       '40/100', '64/100', '62/100', '1/10', '3.75/5', '37/100', '49/100',\n",
       "       '60/100', '3.3/5', '77/100', '5.25/10', '1.4/4', '75/100', '1.5/6',\n",
       "       '85/100', '4.25/10', '47/100', '6/8', '52/100', '63/100', '50/100',\n",
       "       '41/100', '46/100', '6.95/10', '53/100', '9.5/10', '59/100',\n",
       "       '43/100', '9.45/10', '45/100', '69/100', '7.25/10', '5.85/10',\n",
       "       '9.88/10', '39/100', '0.13/1', '8.25/10', '5.75/10', '6.1/10',\n",
       "       '6.8/10', '8.9/10', '8.75/10', '2.5/10', '5.9/10', '4.2/10',\n",
       "       '7.35/10', '4.6/10', '6.75/10', '4.90/10', '4.827/10', '2/2',\n",
       "       '58/100', '4.75/10', '3.4/10', '88/100', '5.48/10', '9.16/10',\n",
       "       '3.4/4', '4.25/5', '3.7/10', '6.765/10', '67/100', '34/100',\n",
       "       '51/100', '3.4/5', '72/100', '93/100', '5', '95/95', '98/100',\n",
       "       '94/100', '99/100', '4', '55/100', '61/100', '35/100', '95/100',\n",
       "       '1/3', '5/8', '7', '4.2/5', '3', '30/100', '54/100', '48/100',\n",
       "       '18/100', '10', '25/100', '7/5', '3.25/5', '7.4/10', '2', '6.2/10',\n",
       "       '5.12/10', '5/100', '1', '0.75/5', '8', '100/100', '2.8/4',\n",
       "       '2.25/4', '31/100', '2.4/4', '32/100', '3.8/5', '8.3/10', '8.4/10',\n",
       "       '5.3/10', '0/100', '0.2/5', '8.7/10', '2.2/5', '2.3/5', '3.2/5',\n",
       "       '2.8/5', '2.75/3', '4.85/10', '3.5/6', '3.25/4', '0.5/10',\n",
       "       '1.75/4', '28/100', '9.25/10', '5.80/10', '6.25/10', '7.2/10',\n",
       "       '6.9/10', '1.2/5', '8.35/10', '6.4/10', '7/11', '8.70/10',\n",
       "       '9.75/10', '1.21/10', '1.35/5', '23/100', '38/100', '6.3/10',\n",
       "       '8.85/10', '7.3/10', '7.15/10', '1.25/4', '3.9/10', '4.21/10',\n",
       "       '9.35/10', '2.75/10', '8.76/10', '7.7/10', '7.75/10', '5.15/10',\n",
       "       '7.85/10', '1.8/5', '0', '6.45/10', '5.95/10', '8.1/10', '3.7/5',\n",
       "       '7.9/10', '9.9/10', '13/20', '6', '4.75/5', '2.83/5', '17/20',\n",
       "       '8.74/10', '9', '7.8/10', '5.8311/10', '47/50', '3.20/10',\n",
       "       '6.65/10', '5.88/10', '19/100', '2.5/3', '15/100', '8.621/10',\n",
       "       '16/20', '1.75/5', '5.8/10', '1.5/10', '8.50/10', '5.65/10',\n",
       "       '10.50/20', '9.19/10', '4.4/10', '5.6/10', '14.5/20', '4.1/5',\n",
       "       '8.05/10', '0/6', '1.6/5', '3.1/5', '6.85/10', '4.35/10', '9.1/10',\n",
       "       '8.88/10', '6.6/10', '6.7/10', '5.4/10', '20/20', '8.2/10',\n",
       "       '16.5/20', '7.1/10', '5.7/10', '11/20', '8.95/10', '3.75/10',\n",
       "       '15/20', '3.6/5', '7.6/10', '5.9737991/10', '18.5/20', '14/20',\n",
       "       '7.05/10', '18/20', '9.86/10', '4.8/10', '4.7/10', '2.74/10',\n",
       "       '4.9/10', '26/100', '2.12/5', '5.2/10', '7.96/10', '21/100',\n",
       "       '6.9921/10', '4.5/4', '7.892/10', '5.5/5', '1/54', '1.2/10',\n",
       "       '8.89/10', '33/100', '8.99/10', '5.5/20', '8.10/10', '6.68/10',\n",
       "       '13/100', '2.9/10', '5.61/10', '4.65/10', '8/20', '9.12/10', '3/3',\n",
       "       '5.49/10', '20/100', '6.78/10', '10/20', '0.02/5', '3.8/10',\n",
       "       '8.65/10', '5.1/10', '9/5', '1.7/5', '25', '8.7328/10',\n",
       "       '7.00122/10', '9.851/10', '8.251/10', '5/20', '7.57/10', '12/20',\n",
       "       '2.1/5', '9.5/20', '10/100', '5.51/10', '1.4/5', '2.6/6', '9.4/10',\n",
       "       '4.8/5', '4.45/10', '4.65/5', '2.6/5', '3.15/5', '6.98/10',\n",
       "       '4.7/5', '4.1/10', '3.5/3', '4.4/5', '9.3/10', '4.3/5', '3.9/5',\n",
       "       '2.20282652/10', '3.75/4', '3.3/10', '11.5/20', '7.5/20',\n",
       "       '8.53899/10', '6/13', '2.11/5', '9.7/10', '2.6/10', '0.7221/10',\n",
       "       '3.76/5', '2.95/10', '6.15/10', '7.5314585/10', '8.15/10',\n",
       "       '9.85/10', '97/100', '7.83/10', '3.2121/10', '8.55/10',\n",
       "       '2.282303/10', '88', '1.5/2', '4.21382343/10', '8/100', '17.5/20',\n",
       "       '1.24/5', '1.25/5', '4.3/10', '2.7/10', '4.521/10', '6.0001/10',\n",
       "       '4.143641/10', '9.15/10', '48', '4.05524/10', '8/5', '3/100',\n",
       "       '3.83412437/10', '9.6/10', '9.79/10', '7.21/10', '9.5/5', '3.2/10',\n",
       "       '7.696/10', '5.872/10', '9.50/20', '5.1921/10', '2.892521821/10',\n",
       "       '0.81/1', '27/100', '6.35/10', '2.9/5', '9.74/10', '9.33/10',\n",
       "       '7.02/10', '2.1/10', '7.89/10', '2.50/5', '9.21/10', '5.57/10',\n",
       "       '19/20', '9.8/10', '8.32/10', '1/1', '5.9821/10', '8.385/10',\n",
       "       '0.5/5.5', '45', '7.95/10', '6.09/10', '1.9/10', '3.55/10',\n",
       "       '7.45/10', '7.62121/10', '1.9/5', '3.515/10', '15.5/20', '3.85/10',\n",
       "       '8.72/10', '35/4', '5.5/6', '36/100', '9.1221/10', '9.65/10',\n",
       "       '4.70/10', '2.2/10', '7.61/10', '2.3/4', '6.4821/10', '7.3821/10',\n",
       "       '8.3721/10', '5.44/10', '8.92/10', '7.49/10', '8.225/10', '0.25/4',\n",
       "       '1.5242228/10', '5.56/10', '9/20', '24/100', '7.01/10', '9.67/10',\n",
       "       '7.2234238/10', '6.00024/10', '7.111113314/10', '8.21/10',\n",
       "       '5.21/10', '79/80', '9.145/10', '9.865/10', '4.95/10', '5.6642/10',\n",
       "       '9/100', '6.875/10', '0.66/10', '1.2/4', '5.8943/10', '3.99/10',\n",
       "       '13.5/20', '61/00', '5.72/10', '1.3/5', '0.05/4', '4.6/5',\n",
       "       '8.57/10', '24', '0/1000', '5.35/10', '29/100', '1.9528/10', '35',\n",
       "       '7.65/10', '5.55/10', '2.5/20', '69/70', '9.26/10', '8.735/10',\n",
       "       '6.1121/10', '6.0000001/10', '2/8', '9.78/10', '5.45/10',\n",
       "       '14.50/20', '6.26/10', '2.85/5', '2.6/4', '7.218/10', '0.6/1',\n",
       "       '3.021/10', '7.10/10', '0.96/10', '8.666/10', '3/40', '0.82/10',\n",
       "       '7.98/10', '5.5542/10', '8.901/10', '2.55/5', '7.22/10', '5.70/10',\n",
       "       'A  -', '7.04/10', '2.4/10', '5.89521/10', '2.8/10', '7.3856/10',\n",
       "       '8.899327/10', '1.1/2', '8.2621/10', '7.212121/10', '4.89215/10',\n",
       "       '9.89/10', '2.212521/10', '22/100', '5.6521/10', '8.87/10',\n",
       "       '3.1/10', '4/5.5', '4.95/5', '8.19/10', '9.552/10', '7/20',\n",
       "       '4.211/10', '4/3.5', '46', '4.9837/10', '9.38/10', '5.284849/10',\n",
       "       '8.67/10', '6.9621/10', '2.5/50', '2.255/5', '90', '75', '8.61/10',\n",
       "       '3.5/5.5', '5.81/10', '66/70', '3.222423/10', '4.2112/10',\n",
       "       '1.82/10', '6.000003231/10', '3.76/10', '5.76/10', '2/54', '0.8/5',\n",
       "       '6/11', '8.458/10', '2.89/5', '5.8921/10', '8.496/10', '2.3/10',\n",
       "       '0.21/10', '4.51/10', '9.76/10', '59/60', '0.9/10', '3.65/5',\n",
       "       '6/6', '6.7/8', '9.46/10', '8.45/10', '8.26/10', '1.85/10',\n",
       "       '0.75/10', '4.89/10', '6.55/10', '1.62/5', '0.85/10', '9.121/10',\n",
       "       '9.6421/10', '8.5788222/10', '3.45/5', '96/100', '67/10',\n",
       "       '7.2621/10', '2/3', '5.23/10', '7.79/10', '9.1421/10', '87/10',\n",
       "       '12.50/20', '7.825/10', '8.921/10', '6.24/10', '8.124/10',\n",
       "       '8.01/10', '4.56/10', '1.5/3', '4.79/10', '8.16/10', '0.59/1',\n",
       "       '2.7/4', '1.1/5', '89', '4.55/10', '2.5/6', '9.8521/10',\n",
       "       '3.7822391/10', '7.2521/10', '7.18321/10', '3.6/4', 'C  -',\n",
       "       '8.42/10', '9.73889/10', '12/100', '7.44/10', '8.5/5', '6/20',\n",
       "       '6.01/10', '34', '8.98/10', '7.48/10', '3.65/10', '7.0921/10',\n",
       "       '3.35/5', '1.4/10', '4/0', '6.96/10', '7.001/10', '5.22/10',\n",
       "       '1.8/4', '16/100', '9.889/10', '14/100', '8.999/10', '9.188/10',\n",
       "       '7.021/10', '4.42/10', '8.212121/10', '3.6/10', '0.7765823/10',\n",
       "       '8.425/10', '9.48/10', '9.30/10', '4.86/10', '7.5211/10', '5/11',\n",
       "       '8.71/10', '68', '3.7521/10', '4.021/10', '8.881/10', '5.10/10',\n",
       "       '3/5.5', '95', '5.623433899/10', '0.65/10', '7/8', '9.18/10',\n",
       "       '5.82/10', '5.212/10', '5.895/10', '6.8666/10', '920', '3.0782/10',\n",
       "       '2.95/5', '4.22/10', '0.13/5', '2.65/10', '0.4/5', '8.453895/10',\n",
       "       '6.001/10', '9.52/10', '6.16/10', '8.9521/10', '9.85621/10',\n",
       "       '76/10', '0.664363/10', '9.51/10', '5.02120621/10', '3.2/4',\n",
       "       '2/20', '5.1221/10', '12.5/20', '8.327/10', '1.88/10', '11/100',\n",
       "       '75/10', '8.39421/10', '910', '9.95/10', '2/9', '8.199/10',\n",
       "       '8.485/10', '7.621/10', '5.232121/10', '5.67/10', '8.24/10',\n",
       "       '39/40', '3/5.4', '2/100', '7.94215/10', '9.68/10', '6/5',\n",
       "       '6.19/10', '25/4', '4.5/6', '9.021/10', '8.32321/10', '7.87/10',\n",
       "       '5.50/10', '8.2521/10', '2.1/2', '5.05/10', '0.6/10', '3.5/20',\n",
       "       '9.14/10', '7.42/10', '9.2021/10', '6.05/10', '4/8', '3.54/5',\n",
       "       '14', '9.49/10', '6.97/10', '4.9834326/10', '10/90', '72', '67',\n",
       "       '45/5', '7.0155/10', '3.3/4', '6.89/10', '9.921/10', '80',\n",
       "       '0.666/4', '2.55/4', '1.1/10', '3.5/18', '73/10', '8.30/10',\n",
       "       '8.56/10', '6.8843/10', '6.00001/10', '4.364221/10', '4.293382/10',\n",
       "       '6.84/10', '9.01/10', '8.68/10', '9.649821/10', '3/45',\n",
       "       '8.692121/10', '70', '6.02/10', '0.58/1', '5.4221/10', '7.12/10',\n",
       "       '8.1921/10', '9.87/10', '8.84/10', '9.20/10', '0.8/10',\n",
       "       '8.9621/10', '3/20', '0.52/1', '8.3/100', '4/100', '1.75/10',\n",
       "       '1.8/10', '4.0001/10', '77', '5.9999/10', '9.66/10', '9.99/10',\n",
       "       '5.751/10', '7.55/10', '5.01/10', '3.56339/10', '4.558/10',\n",
       "       '7.94/10', '3.5/44', '8.765/10', '4.35/5', '21/24', '6.02121/10',\n",
       "       '1/2', '7.4921/10', '5.046/10', '9.56/10'], dtype=object)"
      ]
     },
     "execution_count": 14,
     "metadata": {},
     "output_type": "execute_result"
    }
   ],
   "source": [
    "merged_data['review_score'].unique()"
   ]
  },
  {
   "cell_type": "code",
   "execution_count": 15,
   "id": "8f8317cf",
   "metadata": {
    "id": "8f8317cf"
   },
   "outputs": [],
   "source": [
    "merged_data['review_score'].fillna(0, inplace=True)\n",
    "merged_data['review_content'].fillna(' ', inplace=True)"
   ]
  },
  {
   "cell_type": "code",
   "execution_count": 16,
   "id": "3522c449",
   "metadata": {
    "colab": {
     "base_uri": "https://localhost:8080/"
    },
    "id": "3522c449",
    "outputId": "7dcb102b-276c-450f-eb86-ca17b57b1b09"
   },
   "outputs": [
    {
     "data": {
      "text/plain": [
       "array(['Spilled', 'Upright', nan], dtype=object)"
      ]
     },
     "execution_count": 16,
     "metadata": {},
     "output_type": "execute_result"
    }
   ],
   "source": [
    "merged_data['audience_status'].unique()"
   ]
  },
  {
   "cell_type": "code",
   "execution_count": 17,
   "id": "024c6ac7",
   "metadata": {
    "colab": {
     "base_uri": "https://localhost:8080/"
    },
    "id": "024c6ac7",
    "outputId": "08e6e3d2-2db3-4fb6-b9ec-4b5f6b95e654"
   },
   "outputs": [
    {
     "data": {
      "text/plain": [
       "array([False,  True])"
      ]
     },
     "execution_count": 17,
     "metadata": {},
     "output_type": "execute_result"
    }
   ],
   "source": [
    "merged_data['top_critic'].unique()"
   ]
  },
  {
   "cell_type": "code",
   "execution_count": 18,
   "id": "bb02ef01",
   "metadata": {
    "colab": {
     "base_uri": "https://localhost:8080/"
    },
    "id": "bb02ef01",
    "outputId": "13429044-2a08-457b-f353-94d402d319a6"
   },
   "outputs": [
    {
     "data": {
      "text/plain": [
       "array(['Fresh', 'Rotten'], dtype=object)"
      ]
     },
     "execution_count": 18,
     "metadata": {},
     "output_type": "execute_result"
    }
   ],
   "source": [
    "merged_data['review_type'].unique()"
   ]
  },
  {
   "cell_type": "code",
   "execution_count": 19,
   "id": "d0b339a1",
   "metadata": {
    "colab": {
     "base_uri": "https://localhost:8080/"
    },
    "id": "d0b339a1",
    "outputId": "0d58a4a7-9950-4bd4-db88-cf9891ac320c"
   },
   "outputs": [
    {
     "data": {
      "text/plain": [
       "array(['PG', 'R', 'NR', 'G', 'PG-13', 'NC17'], dtype=object)"
      ]
     },
     "execution_count": 19,
     "metadata": {},
     "output_type": "execute_result"
    }
   ],
   "source": [
    "merged_data['content_rating'].unique()"
   ]
  },
  {
   "cell_type": "code",
   "execution_count": 20,
   "id": "c1acc74b",
   "metadata": {
    "colab": {
     "base_uri": "https://localhost:8080/"
    },
    "id": "c1acc74b",
    "outputId": "10f84626-529a-491e-d4a9-c4b051b3fd2c"
   },
   "outputs": [
    {
     "data": {
      "text/plain": [
       "array(['Rotten', 'Certified-Fresh', 'Fresh', nan], dtype=object)"
      ]
     },
     "execution_count": 20,
     "metadata": {},
     "output_type": "execute_result"
    }
   ],
   "source": [
    "merged_data['tomatometer_status'].unique()"
   ]
  },
  {
   "cell_type": "code",
   "execution_count": 21,
   "id": "8a5c560a",
   "metadata": {
    "colab": {
     "base_uri": "https://localhost:8080/"
    },
    "id": "8a5c560a",
    "outputId": "9ca7bdfa-f81f-46b4-b444-5559a046cae8"
   },
   "outputs": [
    {
     "data": {
      "text/plain": [
       "array([ 49.,  87.,  67., 100.,  89.,   8.,  96.,  20.,  82.,  80.,  91.,\n",
       "        25.,   4.,  69.,  92.,  75.,   0.,  31.,  63.,  38.,  41.,  93.,\n",
       "        22.,  33.,  21.,  15.,  64.,  32.,  61.,  52.,  24.,  14.,  44.,\n",
       "        60.,  97.,  36.,  99.,  42.,  30.,  10.,  85.,  84.,  95.,  88.,\n",
       "        81.,  86.,  40.,  78.,  50.,  54.,  35.,  83.,  58.,  17.,  55.,\n",
       "        45.,  13.,  73.,  37.,  47.,   7.,  56.,  34.,  26.,  76.,  16.,\n",
       "        12.,  94.,  19.,  70.,  68.,   9.,  62.,  72.,  71.,  29.,  79.,\n",
       "         5.,  53.,  46.,  39.,  28.,  23.,  74.,  48.,  11.,  27.,  90.,\n",
       "        43.,  77.,  51.,  98.,  59.,  57.,  65.,  nan,  66.,   6.,  18.,\n",
       "         3.,   2.,   1.])"
      ]
     },
     "execution_count": 21,
     "metadata": {},
     "output_type": "execute_result"
    }
   ],
   "source": [
    "merged_data['tomatometer_rating'].unique()"
   ]
  },
  {
   "cell_type": "code",
   "execution_count": 22,
   "id": "1fffab5f",
   "metadata": {
    "colab": {
     "base_uri": "https://localhost:8080/"
    },
    "id": "1fffab5f",
    "outputId": "7b8d4866-aa2b-4878-8a30-908884d07824"
   },
   "outputs": [
    {
     "data": {
      "text/plain": [
       "array([ 53.,  64.,  97.,  74.,  37.,  86.,  79.,  87.,  40.,  66.,  35.,\n",
       "        57.,  82.,  80.,  89.,  75.,  60.,  91.,  63.,  71.,  nan,  61.,\n",
       "        30.,  48.,  56.,  83.,  39.,  88.,  65.,  73.,  85.,  42.,  76.,\n",
       "        78.,  67.,  94.,  20.,  68.,  58.,  55.,  69.,  84.,  93.,  45.,\n",
       "        31.,  38.,  29.,  24.,  32.,  43.,  59.,  33.,  52.,  22.,  46.,\n",
       "        34.,  50.,  54.,  36.,  21.,  27.,  62.,  72.,  44.,  18.,  47.,\n",
       "        26.,  90.,  25.,  81.,  28.,  41.,  19.,  17.,  49.,  11.,  92.,\n",
       "       100.,  12.,  70.,  77.,  95.,  51.,  98.,  23.,  16.,  14.,  15.,\n",
       "        96.,   9.,  10.,   5.,   8.,  13.,  99.,   7.,   0.,   6.,   4.])"
      ]
     },
     "execution_count": 22,
     "metadata": {},
     "output_type": "execute_result"
    }
   ],
   "source": [
    "merged_data['audience_rating'].unique()"
   ]
  },
  {
   "cell_type": "code",
   "execution_count": 23,
   "id": "ac98b97b",
   "metadata": {
    "colab": {
     "base_uri": "https://localhost:8080/"
    },
    "id": "ac98b97b",
    "outputId": "84bdbf0c-b187-4d64-c8e9-d79ff255e493"
   },
   "outputs": [
    {
     "data": {
      "text/plain": [
       "array([149., 142.,  24.,  54.,  27.,  51.,  28.,  10.,  11.,  15.,  22.,\n",
       "        83.,  18., 124.,   5.,  52.,  48.,  12.,   8.,   6., 121.,  16.,\n",
       "       131.,  92.,  34., 156.,  13.,  30.,  69.,  75., 143.,  21.,  29.,\n",
       "         7.,  76.,  14.,  77.,  38.,  59.,  41.,  50.,  42.,  32.,  36.,\n",
       "         9., 126.,  40.,  63., 125.,  82., 183.,  89.,  20.,  26., 201.,\n",
       "        55.,  99.,  80.,  33., 154., 116.,  46.,  47.,  95., 133., 164.,\n",
       "        71., 120., 118.,  19., 148., 105.,  49.,  25., 123., 190.,  37.,\n",
       "        35., 155., 170.,  66., 213.,  31.,  43., 100.,  39.,  45., 137.,\n",
       "       215., 127., 278.,  58., 110., 146.,  98.,  93.,  84., 132., 119.,\n",
       "        17., 188., 239., 108., 162., 122.,  60.,  64., 115.,  53., 243.,\n",
       "       163., 167., 151.,  97., 206., 152., 174., 224., 202.,  23.,  65.,\n",
       "        56.,  44.,  67.,  57.,  61.,  72.,  62.,  70.,  74.,  68.,  nan,\n",
       "        78.,  90., 106.,  96., 104., 102.,  87., 101., 113.,  73.,  79.,\n",
       "        86., 165., 138., 135.,  81.,  85., 309., 130.,  91., 161., 171.,\n",
       "       111., 150., 194., 159., 128., 129., 112.,  94., 145., 153., 203.,\n",
       "       210., 139., 141., 140., 173., 219., 134., 160., 191., 158., 178.,\n",
       "       241., 193., 196., 226., 175., 200., 180., 107., 114., 176., 144.,\n",
       "       109., 259., 246., 185., 209., 205., 198.,  88., 240., 258., 231.,\n",
       "       157., 166., 184., 230., 147., 182., 245., 204., 263., 192., 276.,\n",
       "       235., 365., 179., 222., 444., 244., 221., 232., 195., 199., 168.,\n",
       "       181., 208., 189., 274., 229., 207., 262., 373., 223., 247., 517.,\n",
       "       334., 187., 375., 261., 103., 197., 217., 370., 254., 402., 324.,\n",
       "       236., 252., 253., 169., 212., 211., 289., 267., 294., 186., 313.,\n",
       "       268., 117., 426., 328., 356., 317., 367., 528., 472., 384., 257.,\n",
       "       136., 220., 250., 286., 423., 310., 172., 374., 225., 352., 410.,\n",
       "       288., 512., 436., 435., 228., 403., 318., 359., 266., 321., 248.,\n",
       "       177., 287., 307., 269., 227., 414., 301., 523., 319., 251., 270.,\n",
       "       218., 214., 264., 282., 342., 216., 234., 273., 256., 306., 303.,\n",
       "       255., 312., 412., 260., 280., 265., 300., 299., 249., 363., 453.,\n",
       "       305., 237., 275., 338., 323., 337., 329., 325., 238., 272., 386.,\n",
       "       293., 358., 242., 354., 415., 277., 371., 330., 279., 314., 339.,\n",
       "       377., 357., 379., 364., 348., 322., 343., 574., 327., 351., 422.,\n",
       "       395., 304., 454., 458., 391., 233., 347., 381., 387., 428., 297.,\n",
       "       291., 271., 296., 554., 290., 451., 281., 346., 285., 302., 433.,\n",
       "       446., 308., 404., 474., 441., 390., 383., 353., 292., 437., 473.,\n",
       "       496., 378., 341., 335., 332., 340., 345., 405., 298., 439., 424.,\n",
       "       311., 398., 397., 448., 284., 315., 443., 331., 535., 349., 411.,\n",
       "       295.])"
      ]
     },
     "execution_count": 23,
     "metadata": {},
     "output_type": "execute_result"
    }
   ],
   "source": [
    "merged_data['tomatometer_count'].unique()"
   ]
  },
  {
   "cell_type": "code",
   "execution_count": 24,
   "id": "ad88596b",
   "metadata": {
    "colab": {
     "base_uri": "https://localhost:8080/"
    },
    "id": "ad88596b",
    "outputId": "cc817a2a-b8d6-4bbc-dcb1-980cc7c9bbcf"
   },
   "outputs": [
    {
     "data": {
      "text/plain": [
       "rotten_tomatoes_link                     0\n",
       "critic_name                          18521\n",
       "top_critic                               0\n",
       "publisher_name                           0\n",
       "review_type                              0\n",
       "review_score                             0\n",
       "review_date                              0\n",
       "review_content                           0\n",
       "movie_title                              0\n",
       "movie_info                            9685\n",
       "critics_consensus                   137980\n",
       "content_rating                           0\n",
       "genres                                 245\n",
       "directors                            14464\n",
       "authors                              54723\n",
       "actors                               10395\n",
       "original_release_date                23100\n",
       "streaming_release_date               10159\n",
       "runtime                               8264\n",
       "production_company                   11826\n",
       "tomatometer_status                    1466\n",
       "tomatometer_rating                    1466\n",
       "tomatometer_count                     1466\n",
       "audience_status                      36721\n",
       "audience_rating                       4289\n",
       "audience_count                        4657\n",
       "tomatometer_top_critics_count            0\n",
       "tomatometer_fresh_critics_count          0\n",
       "tomatometer_rotten_critics_count         0\n",
       "dtype: int64"
      ]
     },
     "execution_count": 24,
     "metadata": {},
     "output_type": "execute_result"
    }
   ],
   "source": [
    "merged_data.isnull().sum()"
   ]
  },
  {
   "cell_type": "code",
   "execution_count": 25,
   "id": "ee984b12",
   "metadata": {
    "id": "ee984b12"
   },
   "outputs": [],
   "source": [
    "#Drop null rows\n",
    "new_data = merged_data.dropna()"
   ]
  },
  {
   "cell_type": "code",
   "execution_count": 26,
   "id": "f7ac3ba7",
   "metadata": {
    "colab": {
     "base_uri": "https://localhost:8080/"
    },
    "id": "f7ac3ba7",
    "outputId": "dd3999e3-0886-4c47-9bea-b20964e197dd"
   },
   "outputs": [
    {
     "data": {
      "text/plain": [
       "rotten_tomatoes_link                0\n",
       "critic_name                         0\n",
       "top_critic                          0\n",
       "publisher_name                      0\n",
       "review_type                         0\n",
       "review_score                        0\n",
       "review_date                         0\n",
       "review_content                      0\n",
       "movie_title                         0\n",
       "movie_info                          0\n",
       "critics_consensus                   0\n",
       "content_rating                      0\n",
       "genres                              0\n",
       "directors                           0\n",
       "authors                             0\n",
       "actors                              0\n",
       "original_release_date               0\n",
       "streaming_release_date              0\n",
       "runtime                             0\n",
       "production_company                  0\n",
       "tomatometer_status                  0\n",
       "tomatometer_rating                  0\n",
       "tomatometer_count                   0\n",
       "audience_status                     0\n",
       "audience_rating                     0\n",
       "audience_count                      0\n",
       "tomatometer_top_critics_count       0\n",
       "tomatometer_fresh_critics_count     0\n",
       "tomatometer_rotten_critics_count    0\n",
       "dtype: int64"
      ]
     },
     "execution_count": 26,
     "metadata": {},
     "output_type": "execute_result"
    }
   ],
   "source": [
    "new_data.isnull().sum()"
   ]
  },
  {
   "cell_type": "code",
   "execution_count": 27,
   "id": "7904720e",
   "metadata": {
    "colab": {
     "base_uri": "https://localhost:8080/"
    },
    "id": "7904720e",
    "outputId": "5fbeb730-88e8-472b-82e0-c8bdf1a24cc5"
   },
   "outputs": [
    {
     "data": {
      "text/plain": [
       "(881353, 29)"
      ]
     },
     "execution_count": 27,
     "metadata": {},
     "output_type": "execute_result"
    }
   ],
   "source": [
    "new_data.shape"
   ]
  },
  {
   "cell_type": "code",
   "execution_count": 28,
   "id": "152ea13a",
   "metadata": {
    "colab": {
     "base_uri": "https://localhost:8080/",
     "height": 497
    },
    "id": "152ea13a",
    "outputId": "8645880c-70f7-442e-fd04-007b39d3e271"
   },
   "outputs": [
    {
     "data": {
      "text/html": [
       "<div>\n",
       "<style scoped>\n",
       "    .dataframe tbody tr th:only-of-type {\n",
       "        vertical-align: middle;\n",
       "    }\n",
       "\n",
       "    .dataframe tbody tr th {\n",
       "        vertical-align: top;\n",
       "    }\n",
       "\n",
       "    .dataframe thead th {\n",
       "        text-align: right;\n",
       "    }\n",
       "</style>\n",
       "<table border=\"1\" class=\"dataframe\">\n",
       "  <thead>\n",
       "    <tr style=\"text-align: right;\">\n",
       "      <th></th>\n",
       "      <th>rotten_tomatoes_link</th>\n",
       "      <th>critic_name</th>\n",
       "      <th>top_critic</th>\n",
       "      <th>publisher_name</th>\n",
       "      <th>review_type</th>\n",
       "      <th>review_score</th>\n",
       "      <th>review_date</th>\n",
       "      <th>review_content</th>\n",
       "      <th>movie_title</th>\n",
       "      <th>movie_info</th>\n",
       "      <th>...</th>\n",
       "      <th>production_company</th>\n",
       "      <th>tomatometer_status</th>\n",
       "      <th>tomatometer_rating</th>\n",
       "      <th>tomatometer_count</th>\n",
       "      <th>audience_status</th>\n",
       "      <th>audience_rating</th>\n",
       "      <th>audience_count</th>\n",
       "      <th>tomatometer_top_critics_count</th>\n",
       "      <th>tomatometer_fresh_critics_count</th>\n",
       "      <th>tomatometer_rotten_critics_count</th>\n",
       "    </tr>\n",
       "  </thead>\n",
       "  <tbody>\n",
       "    <tr>\n",
       "      <th>0</th>\n",
       "      <td>m/0814255</td>\n",
       "      <td>Andrew L. Urban</td>\n",
       "      <td>False</td>\n",
       "      <td>Urban Cinefile</td>\n",
       "      <td>Fresh</td>\n",
       "      <td>0</td>\n",
       "      <td>2010-02-06</td>\n",
       "      <td>A fantasy adventure that fuses Greek mythology...</td>\n",
       "      <td>Percy Jackson &amp; the Olympians: The Lightning T...</td>\n",
       "      <td>Always trouble-prone, the life of teenager Per...</td>\n",
       "      <td>...</td>\n",
       "      <td>20th Century Fox</td>\n",
       "      <td>Rotten</td>\n",
       "      <td>49.0</td>\n",
       "      <td>149.0</td>\n",
       "      <td>Spilled</td>\n",
       "      <td>53.0</td>\n",
       "      <td>254421.0</td>\n",
       "      <td>43</td>\n",
       "      <td>73</td>\n",
       "      <td>76</td>\n",
       "    </tr>\n",
       "    <tr>\n",
       "      <th>1</th>\n",
       "      <td>m/0814255</td>\n",
       "      <td>Louise Keller</td>\n",
       "      <td>False</td>\n",
       "      <td>Urban Cinefile</td>\n",
       "      <td>Fresh</td>\n",
       "      <td>0</td>\n",
       "      <td>2010-02-06</td>\n",
       "      <td>Uma Thurman as Medusa, the gorgon with a coiff...</td>\n",
       "      <td>Percy Jackson &amp; the Olympians: The Lightning T...</td>\n",
       "      <td>Always trouble-prone, the life of teenager Per...</td>\n",
       "      <td>...</td>\n",
       "      <td>20th Century Fox</td>\n",
       "      <td>Rotten</td>\n",
       "      <td>49.0</td>\n",
       "      <td>149.0</td>\n",
       "      <td>Spilled</td>\n",
       "      <td>53.0</td>\n",
       "      <td>254421.0</td>\n",
       "      <td>43</td>\n",
       "      <td>73</td>\n",
       "      <td>76</td>\n",
       "    </tr>\n",
       "    <tr>\n",
       "      <th>3</th>\n",
       "      <td>m/0814255</td>\n",
       "      <td>Ben McEachen</td>\n",
       "      <td>False</td>\n",
       "      <td>Sunday Mail (Australia)</td>\n",
       "      <td>Fresh</td>\n",
       "      <td>3.5/5</td>\n",
       "      <td>2010-02-09</td>\n",
       "      <td>Whether audiences will get behind The Lightnin...</td>\n",
       "      <td>Percy Jackson &amp; the Olympians: The Lightning T...</td>\n",
       "      <td>Always trouble-prone, the life of teenager Per...</td>\n",
       "      <td>...</td>\n",
       "      <td>20th Century Fox</td>\n",
       "      <td>Rotten</td>\n",
       "      <td>49.0</td>\n",
       "      <td>149.0</td>\n",
       "      <td>Spilled</td>\n",
       "      <td>53.0</td>\n",
       "      <td>254421.0</td>\n",
       "      <td>43</td>\n",
       "      <td>73</td>\n",
       "      <td>76</td>\n",
       "    </tr>\n",
       "  </tbody>\n",
       "</table>\n",
       "<p>3 rows × 29 columns</p>\n",
       "</div>"
      ],
      "text/plain": [
       "  rotten_tomatoes_link      critic_name  top_critic           publisher_name  \\\n",
       "0            m/0814255  Andrew L. Urban       False           Urban Cinefile   \n",
       "1            m/0814255    Louise Keller       False           Urban Cinefile   \n",
       "3            m/0814255     Ben McEachen       False  Sunday Mail (Australia)   \n",
       "\n",
       "  review_type review_score review_date  \\\n",
       "0       Fresh            0  2010-02-06   \n",
       "1       Fresh            0  2010-02-06   \n",
       "3       Fresh        3.5/5  2010-02-09   \n",
       "\n",
       "                                      review_content  \\\n",
       "0  A fantasy adventure that fuses Greek mythology...   \n",
       "1  Uma Thurman as Medusa, the gorgon with a coiff...   \n",
       "3  Whether audiences will get behind The Lightnin...   \n",
       "\n",
       "                                         movie_title  \\\n",
       "0  Percy Jackson & the Olympians: The Lightning T...   \n",
       "1  Percy Jackson & the Olympians: The Lightning T...   \n",
       "3  Percy Jackson & the Olympians: The Lightning T...   \n",
       "\n",
       "                                          movie_info  ... production_company  \\\n",
       "0  Always trouble-prone, the life of teenager Per...  ...   20th Century Fox   \n",
       "1  Always trouble-prone, the life of teenager Per...  ...   20th Century Fox   \n",
       "3  Always trouble-prone, the life of teenager Per...  ...   20th Century Fox   \n",
       "\n",
       "  tomatometer_status tomatometer_rating tomatometer_count audience_status  \\\n",
       "0             Rotten               49.0             149.0         Spilled   \n",
       "1             Rotten               49.0             149.0         Spilled   \n",
       "3             Rotten               49.0             149.0         Spilled   \n",
       "\n",
       "  audience_rating audience_count tomatometer_top_critics_count  \\\n",
       "0            53.0       254421.0                            43   \n",
       "1            53.0       254421.0                            43   \n",
       "3            53.0       254421.0                            43   \n",
       "\n",
       "   tomatometer_fresh_critics_count tomatometer_rotten_critics_count  \n",
       "0                               73                               76  \n",
       "1                               73                               76  \n",
       "3                               73                               76  \n",
       "\n",
       "[3 rows x 29 columns]"
      ]
     },
     "execution_count": 28,
     "metadata": {},
     "output_type": "execute_result"
    }
   ],
   "source": [
    "new_data.head(3)"
   ]
  },
  {
   "cell_type": "code",
   "execution_count": 29,
   "id": "2b3f6e08",
   "metadata": {
    "colab": {
     "base_uri": "https://localhost:8080/"
    },
    "id": "2b3f6e08",
    "outputId": "e4d0b552-70ea-4afd-aadf-a78f962763f3"
   },
   "outputs": [
    {
     "data": {
      "text/plain": [
       "array(['Action & Adventure, Comedy, Drama, Science Fiction & Fantasy',\n",
       "       'Comedy', 'Comedy, Romance', 'Classics, Drama',\n",
       "       'Action & Adventure, Drama, Kids & Family',\n",
       "       'Action & Adventure, Classics, Drama',\n",
       "       'Action & Adventure, Classics, Mystery & Suspense', 'Drama',\n",
       "       'Classics, Comedy, Romance',\n",
       "       'Art House & International, Drama, Faith & Spirituality',\n",
       "       'Drama, Mystery & Suspense', 'Documentary, Special Interest',\n",
       "       'Action & Adventure, Classics, Romance',\n",
       "       'Drama, Science Fiction & Fantasy, Romance',\n",
       "       'Action & Adventure, Drama, Mystery & Suspense',\n",
       "       'Action & Adventure, Drama, Horror, Science Fiction & Fantasy',\n",
       "       'Animation, Kids & Family, Science Fiction & Fantasy',\n",
       "       'Horror, Mystery & Suspense',\n",
       "       'Action & Adventure, Comedy, Drama, Mystery & Suspense',\n",
       "       'Art House & International, Drama', 'Comedy, Drama',\n",
       "       'Drama, Kids & Family',\n",
       "       'Action & Adventure, Classics, Drama, Western', 'Drama, Romance',\n",
       "       'Classics, Comedy, Drama, Romance',\n",
       "       'Action & Adventure, Horror, Science Fiction & Fantasy',\n",
       "       'Comedy, Science Fiction & Fantasy',\n",
       "       'Documentary, Sports & Fitness',\n",
       "       'Art House & International, Drama, Horror, Mystery & Suspense',\n",
       "       'Art House & International, Comedy, Drama, Science Fiction & Fantasy',\n",
       "       'Drama, Mystery & Suspense, Science Fiction & Fantasy',\n",
       "       'Documentary, Musical & Performing Arts',\n",
       "       'Animation, Drama, Kids & Family, Science Fiction & Fantasy',\n",
       "       'Drama, Horror, Mystery & Suspense',\n",
       "       'Documentary, Musical & Performing Arts, Special Interest',\n",
       "       'Documentary, Drama, Musical & Performing Arts, Special Interest',\n",
       "       'Art House & International, Drama, Musical & Performing Arts, Romance',\n",
       "       'Action & Adventure, Western',\n",
       "       'Comedy, Drama, Mystery & Suspense, Romance',\n",
       "       'Kids & Family, Romance',\n",
       "       'Action & Adventure, Comedy, Science Fiction & Fantasy',\n",
       "       'Art House & International, Horror, Special Interest',\n",
       "       'Horror, Mystery & Suspense, Science Fiction & Fantasy',\n",
       "       'Art House & International, Drama, Romance',\n",
       "       'Art House & International, Drama, Mystery & Suspense',\n",
       "       'Action & Adventure, Horror, Mystery & Suspense, Science Fiction & Fantasy, Western',\n",
       "       'Art House & International, Mystery & Suspense',\n",
       "       'Drama, Sports & Fitness',\n",
       "       'Action & Adventure, Comedy, Kids & Family, Science Fiction & Fantasy',\n",
       "       'Action & Adventure, Drama', 'Comedy, Drama, Kids & Family',\n",
       "       'Action & Adventure, Comedy, Mystery & Suspense, Science Fiction & Fantasy',\n",
       "       'Drama, Musical & Performing Arts',\n",
       "       'Comedy, Musical & Performing Arts',\n",
       "       'Animation, Comedy, Kids & Family',\n",
       "       'Art House & International, Comedy, Drama',\n",
       "       'Mystery & Suspense, Science Fiction & Fantasy',\n",
       "       'Action & Adventure, Art House & International',\n",
       "       'Comedy, Drama, Mystery & Suspense',\n",
       "       'Action & Adventure, Drama, Mystery & Suspense, Science Fiction & Fantasy',\n",
       "       'Mystery & Suspense', 'Drama, Horror',\n",
       "       'Action & Adventure, Drama, Romance',\n",
       "       'Drama, Musical & Performing Arts, Romance', 'Documentary',\n",
       "       'Art House & International, Drama, Horror',\n",
       "       'Action & Adventure, Art House & International, Horror, Science Fiction & Fantasy',\n",
       "       'Action & Adventure, Science Fiction & Fantasy',\n",
       "       'Kids & Family, Mystery & Suspense, Science Fiction & Fantasy',\n",
       "       'Action & Adventure, Comedy, Drama, Kids & Family',\n",
       "       'Drama, Kids & Family, Romance', 'Classics, Comedy',\n",
       "       'Classics, Comedy, Drama, Sports & Fitness',\n",
       "       'Classics, Drama, Mystery & Suspense',\n",
       "       'Classics, Horror, Mystery & Suspense',\n",
       "       'Action & Adventure, Kids & Family, Science Fiction & Fantasy',\n",
       "       'Action & Adventure, Drama, Horror, Mystery & Suspense',\n",
       "       'Art House & International, Classics, Drama, Musical & Performing Arts',\n",
       "       'Classics, Comedy, Drama', 'Classics, Drama, Television',\n",
       "       'Classics, Drama, Romance',\n",
       "       'Action & Adventure, Classics, Western',\n",
       "       'Classics, Comedy, Kids & Family, Musical & Performing Arts',\n",
       "       'Classics, Comedy, Horror, Mystery & Suspense', 'Horror',\n",
       "       'Action & Adventure, Classics, Comedy', 'Drama, Horror, Romance',\n",
       "       'Classics, Comedy, Drama, Mystery & Suspense',\n",
       "       'Animation, Kids & Family',\n",
       "       'Cult Movies, Horror, Mystery & Suspense',\n",
       "       'Classics, Drama, Western', 'Action & Adventure',\n",
       "       'Classics, Cult Movies, Horror, Science Fiction & Fantasy',\n",
       "       'Classics, Drama, Science Fiction & Fantasy',\n",
       "       'Classics, Drama, Television, Romance', 'Classics, Horror',\n",
       "       'Mystery & Suspense, Television',\n",
       "       'Classics, Science Fiction & Fantasy',\n",
       "       'Classics, Horror, Mystery & Suspense, Science Fiction & Fantasy',\n",
       "       'Drama, Horror, Science Fiction & Fantasy',\n",
       "       'Comedy, Kids & Family, Science Fiction & Fantasy',\n",
       "       'Drama, Horror, Mystery & Suspense, Science Fiction & Fantasy',\n",
       "       'Comedy, Drama, Romance',\n",
       "       'Comedy, Drama, Musical & Performing Arts',\n",
       "       'Comedy, Science Fiction & Fantasy, Romance, Sports & Fitness',\n",
       "       'Action & Adventure, Art House & International, Classics, Drama',\n",
       "       'Classics, Drama, Horror',\n",
       "       'Classics, Drama, Horror, Special Interest', 'Classics',\n",
       "       'Classics, Mystery & Suspense, Science Fiction & Fantasy',\n",
       "       'Classics, Comedy, Horror, Science Fiction & Fantasy',\n",
       "       'Action & Adventure, Horror, Mystery & Suspense, Science Fiction & Fantasy',\n",
       "       'Classics, Drama, Horror, Mystery & Suspense',\n",
       "       'Action & Adventure, Classics, Kids & Family, Science Fiction & Fantasy',\n",
       "       'Drama, Musical & Performing Arts, Faith & Spirituality',\n",
       "       'Action & Adventure, Classics, Horror',\n",
       "       'Classics, Drama, Faith & Spirituality',\n",
       "       'Classics, Mystery & Suspense',\n",
       "       'Art House & International, Classics, Comedy, Drama, Mystery & Suspense',\n",
       "       'Drama, Science Fiction & Fantasy',\n",
       "       'Comedy, Horror, Musical & Performing Arts, Science Fiction & Fantasy',\n",
       "       'Action & Adventure, Classics, Comedy, Drama',\n",
       "       'Art House & International, Comedy, Musical & Performing Arts, Science Fiction & Fantasy, Television, Romance',\n",
       "       'Action & Adventure, Mystery & Suspense',\n",
       "       'Comedy, Science Fiction & Fantasy, Romance',\n",
       "       'Action & Adventure, Art House & International, Classics, Drama, Science Fiction & Fantasy',\n",
       "       'Action & Adventure, Mystery & Suspense, Science Fiction & Fantasy',\n",
       "       'Classics, Horror, Romance',\n",
       "       'Horror, Mystery & Suspense, Western, Romance',\n",
       "       'Classics, Comedy, Musical & Performing Arts, Romance',\n",
       "       'Classics, Cult Movies, Horror',\n",
       "       'Animation, Kids & Family, Musical & Performing Arts, Science Fiction & Fantasy',\n",
       "       'Comedy, Mystery & Suspense, Romance',\n",
       "       'Comedy, Horror, Science Fiction & Fantasy', 'Cult Movies, Horror',\n",
       "       'Action & Adventure, Classics, Drama, Mystery & Suspense',\n",
       "       'Action & Adventure, Comedy, Kids & Family, Musical & Performing Arts',\n",
       "       'Classics, Drama, Musical & Performing Arts, Romance',\n",
       "       'Action & Adventure, Animation, Kids & Family, Musical & Performing Arts, Romance',\n",
       "       'Action & Adventure, Drama, Science Fiction & Fantasy',\n",
       "       'Animation, Classics, Kids & Family, Television',\n",
       "       'Action & Adventure, Comedy', 'Action & Adventure, Classics',\n",
       "       'Animation, Classics, Kids & Family, Science Fiction & Fantasy',\n",
       "       'Comedy, Mystery & Suspense',\n",
       "       'Classics, Drama, Musical & Performing Arts',\n",
       "       'Animation, Classics, Comedy, Kids & Family, Mystery & Suspense',\n",
       "       'Classics, Musical & Performing Arts, Romance',\n",
       "       'Classics, Horror, Science Fiction & Fantasy',\n",
       "       'Horror, Science Fiction & Fantasy', 'Comedy, Western',\n",
       "       'Action & Adventure, Classics, Science Fiction & Fantasy',\n",
       "       'Art House & International, Classics, Drama, Mystery & Suspense, Science Fiction & Fantasy',\n",
       "       'Action & Adventure, Classics, Drama, Science Fiction & Fantasy',\n",
       "       'Action & Adventure, Cult Movies, Drama',\n",
       "       'Classics, Kids & Family, Musical & Performing Arts, Special Interest',\n",
       "       'Drama, Mystery & Suspense, Romance',\n",
       "       'Animation, Classics, Comedy, Kids & Family, Science Fiction & Fantasy',\n",
       "       'Action & Adventure, Comedy, Drama', 'Comedy, Kids & Family',\n",
       "       'Comedy, Drama, Mystery & Suspense, Science Fiction & Fantasy, Romance',\n",
       "       'Action & Adventure, Classics, Comedy, Drama, Mystery & Suspense',\n",
       "       'Comedy, Kids & Family, Special Interest',\n",
       "       'Action & Adventure, Animation, Comedy, Science Fiction & Fantasy',\n",
       "       'Comedy, Drama, Horror, Kids & Family', 'Drama, Western',\n",
       "       'Action & Adventure, Art House & International, Drama, Mystery & Suspense, Science Fiction & Fantasy',\n",
       "       'Mystery & Suspense, Western',\n",
       "       'Action & Adventure, Comedy, Kids & Family, Romance',\n",
       "       'Action & Adventure, Drama, Western',\n",
       "       'Drama, Horror, Science Fiction & Fantasy, Romance',\n",
       "       'Action & Adventure, Cult Movies, Western',\n",
       "       'Action & Adventure, Animation, Drama',\n",
       "       'Action & Adventure, Drama, Kids & Family, Science Fiction & Fantasy',\n",
       "       'Action & Adventure, Comedy, Kids & Family, Science Fiction & Fantasy, Romance',\n",
       "       'Action & Adventure, Animation, Science Fiction & Fantasy',\n",
       "       'Art House & International, Comedy',\n",
       "       'Action & Adventure, Comedy, Kids & Family',\n",
       "       'Animation, Drama, Kids & Family',\n",
       "       'Drama, Mystery & Suspense, Western, Romance',\n",
       "       'Action & Adventure, Art House & International, Drama',\n",
       "       'Art House & International, Comedy, Drama, Romance',\n",
       "       'Action & Adventure, Animation, Drama, Kids & Family',\n",
       "       'Animation, Drama, Mystery & Suspense',\n",
       "       'Kids & Family, Science Fiction & Fantasy',\n",
       "       'Drama, Special Interest',\n",
       "       'Action & Adventure, Comedy, Drama, Mystery & Suspense, Romance',\n",
       "       'Art House & International, Drama, Musical & Performing Arts',\n",
       "       'Animation, Comedy, Documentary, Drama, Special Interest, Romance',\n",
       "       'Action & Adventure, Horror, Mystery & Suspense',\n",
       "       'Animation, Kids & Family, Musical & Performing Arts',\n",
       "       'Science Fiction & Fantasy',\n",
       "       'Comedy, Drama, Kids & Family, Science Fiction & Fantasy',\n",
       "       'Action & Adventure, Drama, Horror, Mystery & Suspense, Science Fiction & Fantasy',\n",
       "       'Comedy, Drama, Science Fiction & Fantasy',\n",
       "       'Drama, Mystery & Suspense, Sports & Fitness',\n",
       "       'Action & Adventure, Animation, Kids & Family',\n",
       "       'Action & Adventure, Art House & International, Drama, Mystery & Suspense',\n",
       "       'Comedy, Kids & Family, Romance', 'Drama, Television',\n",
       "       'Art House & International, Comedy, Documentary, Drama',\n",
       "       'Art House & International, Comedy, Kids & Family, Science Fiction & Fantasy',\n",
       "       'Drama, Faith & Spirituality', 'Action & Adventure, Horror',\n",
       "       'Action & Adventure, Drama, Special Interest, Western',\n",
       "       'Documentary, Drama, Mystery & Suspense',\n",
       "       'Action & Adventure, Animation, Anime & Manga, Art House & International, Science Fiction & Fantasy',\n",
       "       'Comedy, Drama, Television',\n",
       "       'Drama, Horror, Mystery & Suspense, Romance',\n",
       "       'Comedy, Documentary',\n",
       "       'Comedy, Musical & Performing Arts, Romance',\n",
       "       'Art House & International, Comedy, Drama, Romance, Sports & Fitness',\n",
       "       'Documentary, Drama',\n",
       "       'Art House & International, Horror, Mystery & Suspense',\n",
       "       'Art House & International, Comedy, Drama, Mystery & Suspense',\n",
       "       'Action & Adventure, Comedy, Mystery & Suspense',\n",
       "       'Comedy, Documentary, Science Fiction & Fantasy, Special Interest',\n",
       "       'Art House & International, Comedy, Drama, Special Interest',\n",
       "       'Documentary, Television', 'Musical & Performing Arts',\n",
       "       'Art House & International, Comedy, Drama, Musical & Performing Arts',\n",
       "       'Action & Adventure, Animation, Comedy, Kids & Family',\n",
       "       'Animation, Comedy, Kids & Family, Musical & Performing Arts, Science Fiction & Fantasy, Romance',\n",
       "       'Comedy, Horror',\n",
       "       'Action & Adventure, Art House & International, Comedy',\n",
       "       'Drama, Kids & Family, Sports & Fitness',\n",
       "       'Documentary, Drama, Special Interest',\n",
       "       'Action & Adventure, Animation, Drama, Science Fiction & Fantasy',\n",
       "       'Animation, Comedy, Drama',\n",
       "       'Action & Adventure, Animation, Comedy, Kids & Family, Science Fiction & Fantasy',\n",
       "       'Animation, Drama, Special Interest',\n",
       "       'Art House & International, Documentary, Drama',\n",
       "       'Art House & International, Drama, Horror, Romance',\n",
       "       'Comedy, Drama, Sports & Fitness',\n",
       "       'Drama, Mystery & Suspense, Science Fiction & Fantasy, Romance',\n",
       "       'Documentary, Musical & Performing Arts, Television',\n",
       "       'Action & Adventure, Comedy, Romance',\n",
       "       'Action & Adventure, Cult Movies, Science Fiction & Fantasy',\n",
       "       'Action & Adventure, Drama, Mystery & Suspense, Television',\n",
       "       'Art House & International, Classics, Drama',\n",
       "       'Art House & International, Drama, Science Fiction & Fantasy',\n",
       "       'Documentary, Special Interest, Faith & Spirituality',\n",
       "       'Animation, Art House & International, Comedy',\n",
       "       'Art House & International, Drama, Mystery & Suspense, Special Interest',\n",
       "       'Animation, Art House & International, Comedy, Kids & Family, Mystery & Suspense',\n",
       "       'Horror, Mystery & Suspense, Romance',\n",
       "       'Action & Adventure, Art House & International, Classics, Drama, Mystery & Suspense',\n",
       "       'Art House & International, Classics, Comedy, Drama, Romance',\n",
       "       'Art House & International, Drama, Mystery & Suspense, Romance',\n",
       "       'Animation, Comedy',\n",
       "       'Action & Adventure, Animation, Art House & International, Kids & Family',\n",
       "       'Art House & International, Comedy, Cult Movies, Drama, Mystery & Suspense',\n",
       "       'Musical & Performing Arts, Romance',\n",
       "       'Science Fiction & Fantasy, Romance',\n",
       "       'Comedy, Documentary, Drama, Special Interest',\n",
       "       'Action & Adventure, Documentary, Special Interest',\n",
       "       'Action & Adventure, Comedy, Kids & Family, Mystery & Suspense',\n",
       "       'Action & Adventure, Art House & International, Classics, Drama, Romance',\n",
       "       'Action & Adventure, Animation, Drama, Mystery & Suspense, Science Fiction & Fantasy',\n",
       "       'Action & Adventure, Kids & Family, Mystery & Suspense',\n",
       "       'Kids & Family',\n",
       "       'Comedy, Drama, Mystery & Suspense, Science Fiction & Fantasy',\n",
       "       'Action & Adventure, Romance',\n",
       "       'Art House & International, Drama, Mystery & Suspense, Science Fiction & Fantasy',\n",
       "       'Comedy, Documentary, Musical & Performing Arts, Special Interest',\n",
       "       'Art House & International, Classics, Drama, Mystery & Suspense',\n",
       "       'Comedy, Drama, Horror, Mystery & Suspense',\n",
       "       'Art House & International, Documentary, Musical & Performing Arts, Special Interest',\n",
       "       'Action & Adventure, Art House & International, Drama, Mystery & Suspense, Romance',\n",
       "       'Art House & International, Comedy, Science Fiction & Fantasy, Romance',\n",
       "       'Comedy, Kids & Family, Musical & Performing Arts',\n",
       "       'Drama, Kids & Family, Musical & Performing Arts',\n",
       "       'Animation, Comedy, Drama, Kids & Family',\n",
       "       'Animation, Comedy, Kids & Family, Science Fiction & Fantasy',\n",
       "       'Action & Adventure, Animation, Comedy',\n",
       "       'Comedy, Horror, Mystery & Suspense, Science Fiction & Fantasy',\n",
       "       'Animation, Comedy, Kids & Family, Musical & Performing Arts',\n",
       "       'Action & Adventure, Comedy, Horror, Science Fiction & Fantasy',\n",
       "       'Documentary, Mystery & Suspense, Special Interest',\n",
       "       'Action & Adventure, Animation, Kids & Family, Science Fiction & Fantasy',\n",
       "       'Action & Adventure, Classics, Mystery & Suspense, Romance',\n",
       "       'Action & Adventure, Comedy, Documentary, Musical & Performing Arts',\n",
       "       'Comedy, Drama, Horror',\n",
       "       'Action & Adventure, Classics, Cult Movies, Drama, Mystery & Suspense',\n",
       "       'Art House & International, Horror, Science Fiction & Fantasy',\n",
       "       'Comedy, Drama, Musical & Performing Arts, Romance',\n",
       "       'Classics, Comedy, Musical & Performing Arts',\n",
       "       'Action & Adventure, Animation, Comedy, Cult Movies, Kids & Family, Musical & Performing Arts, Science Fiction & Fantasy',\n",
       "       'Drama, Musical & Performing Arts, Science Fiction & Fantasy, Romance',\n",
       "       'Comedy, Drama, Kids & Family, Sports & Fitness',\n",
       "       'Action & Adventure, Comedy, Kids & Family, Musical & Performing Arts, Science Fiction & Fantasy',\n",
       "       'Comedy, Sports & Fitness',\n",
       "       'Comedy, Horror, Kids & Family, Mystery & Suspense',\n",
       "       'Action & Adventure, Classics, Drama, Romance',\n",
       "       'Art House & International, Comedy, Romance',\n",
       "       'Comedy, Documentary, Television',\n",
       "       'Documentary, Special Interest, Sports & Fitness',\n",
       "       'Classics, Comedy, Drama, Mystery & Suspense, Romance',\n",
       "       'Comedy, Drama, Romance, Gay & Lesbian',\n",
       "       'Action & Adventure, Comedy, Drama, Romance',\n",
       "       'Comedy, Gay & Lesbian',\n",
       "       'Art House & International, Classics, Comedy, Drama, Musical & Performing Arts, Science Fiction & Fantasy, Romance',\n",
       "       'Documentary, Musical & Performing Arts, Special Interest, Gay & Lesbian',\n",
       "       'Classics, Comedy, Western',\n",
       "       'Comedy, Documentary, Musical & Performing Arts',\n",
       "       'Drama, Mystery & Suspense, Special Interest',\n",
       "       'Action & Adventure, Horror, Western',\n",
       "       'Action & Adventure, Drama, Horror',\n",
       "       'Art House & International, Mystery & Suspense, Science Fiction & Fantasy, Romance',\n",
       "       'Comedy, Cult Movies, Drama, Mystery & Suspense, Science Fiction & Fantasy',\n",
       "       'Animation, Art House & International',\n",
       "       'Comedy, Drama, Gay & Lesbian',\n",
       "       'Drama, Kids & Family, Science Fiction & Fantasy',\n",
       "       'Classics, Horror, Science Fiction & Fantasy, Special Interest',\n",
       "       'Action & Adventure, Comedy, Horror',\n",
       "       'Comedy, Drama, Kids & Family, Musical & Performing Arts',\n",
       "       'Art House & International, Comedy, Mystery & Suspense',\n",
       "       'Comedy, Horror, Romance',\n",
       "       'Art House & International, Drama, Horror, Mystery & Suspense, Science Fiction & Fantasy',\n",
       "       'Classics, Drama, Musical & Performing Arts, Science Fiction & Fantasy',\n",
       "       'Comedy, Special Interest',\n",
       "       'Action & Adventure, Classics, Drama, Mystery & Suspense, Romance',\n",
       "       'Comedy, Kids & Family, Musical & Performing Arts, Television, Romance',\n",
       "       'Art House & International, Classics, Drama, Television',\n",
       "       'Drama, Musical & Performing Arts, Mystery & Suspense',\n",
       "       'Action & Adventure, Kids & Family',\n",
       "       'Comedy, Horror, Mystery & Suspense',\n",
       "       'Documentary, Television, Gay & Lesbian',\n",
       "       'Action & Adventure, Art House & International, Comedy, Drama',\n",
       "       'Art House & International, Drama, Sports & Fitness',\n",
       "       'Action & Adventure, Animation, Comedy, Drama, Kids & Family',\n",
       "       'Animation, Drama',\n",
       "       'Art House & International, Classics, Drama, Romance',\n",
       "       'Kids & Family, Science Fiction & Fantasy, Romance',\n",
       "       'Comedy, Drama, Kids & Family, Romance',\n",
       "       'Art House & International, Documentary, Kids & Family, Science Fiction & Fantasy',\n",
       "       'Action & Adventure, Art House & International, Drama, Science Fiction & Fantasy',\n",
       "       'Action & Adventure, Comedy, Western', 'Drama, Western, Romance',\n",
       "       'Classics, Drama, Mystery & Suspense, Science Fiction & Fantasy',\n",
       "       'Comedy, Special Interest, Romance',\n",
       "       'Art House & International, Comedy, Horror',\n",
       "       'Action & Adventure, Classics, Comedy, Kids & Family',\n",
       "       'Action & Adventure, Science Fiction & Fantasy, Western',\n",
       "       'Action & Adventure, Drama, Sports & Fitness',\n",
       "       'Action & Adventure, Art House & International, Drama, Romance',\n",
       "       'Drama, Science Fiction & Fantasy, Western',\n",
       "       'Action & Adventure, Art House & International, Comedy, Horror',\n",
       "       'Animation, Documentary, Kids & Family, Special Interest',\n",
       "       'Animation, Science Fiction & Fantasy',\n",
       "       'Art House & International, Mystery & Suspense, Romance',\n",
       "       'Action & Adventure, Classics, Mystery & Suspense, Science Fiction & Fantasy',\n",
       "       'Action & Adventure, Documentary, Drama, Special Interest',\n",
       "       'Action & Adventure, Animation, Comedy, Kids & Family, Musical & Performing Arts',\n",
       "       'Action & Adventure, Art House & International, Science Fiction & Fantasy',\n",
       "       'Comedy, Mystery & Suspense, Science Fiction & Fantasy, Romance',\n",
       "       'Art House & International, Drama, Musical & Performing Arts, Science Fiction & Fantasy, Romance',\n",
       "       'Action & Adventure, Animation, Kids & Family, Special Interest',\n",
       "       'Classics, Comedy, Science Fiction & Fantasy', 'Animation',\n",
       "       'Action & Adventure, Art House & International, Comedy, Special Interest',\n",
       "       'Art House & International, Special Interest',\n",
       "       'Action & Adventure, Comedy, Special Interest',\n",
       "       'Action & Adventure, Documentary, Sports & Fitness',\n",
       "       'Comedy, Musical & Performing Arts, Science Fiction & Fantasy',\n",
       "       'Comedy, Cult Movies', 'Drama, Mystery & Suspense, Television',\n",
       "       'Art House & International, Drama, Special Interest',\n",
       "       'Comedy, Kids & Family, Science Fiction & Fantasy, Romance',\n",
       "       'Drama, Horror, Special Interest',\n",
       "       'Comedy, Drama, Science Fiction & Fantasy, Romance',\n",
       "       'Art House & International, Comedy, Musical & Performing Arts',\n",
       "       'Art House & International, Documentary, Faith & Spirituality',\n",
       "       'Documentary, Musical & Performing Arts, Special Interest, Television',\n",
       "       'Art House & International, Documentary, Musical & Performing Arts',\n",
       "       'Animation, Art House & International, Drama, Science Fiction & Fantasy',\n",
       "       'Action & Adventure, Art House & International, Mystery & Suspense',\n",
       "       'Comedy, Drama, Special Interest',\n",
       "       'Classics, Comedy, Drama, Kids & Family, Musical & Performing Arts',\n",
       "       'Drama, Kids & Family, Science Fiction & Fantasy, Sports & Fitness',\n",
       "       'Romance', 'Art House & International, Documentary',\n",
       "       'Action & Adventure, Art House & International, Classics, Western',\n",
       "       'Action & Adventure, Drama, Special Interest',\n",
       "       'Animation, Comedy, Horror, Science Fiction & Fantasy',\n",
       "       'Drama, Horror, Mystery & Suspense, Special Interest, Romance',\n",
       "       'Comedy, Musical & Performing Arts, Television, Romance',\n",
       "       'Animation, Art House & International, Drama, Kids & Family',\n",
       "       'Action & Adventure, Animation, Classics, Comedy, Kids & Family, Musical & Performing Arts',\n",
       "       'Classics, Comedy, Drama, Musical & Performing Arts',\n",
       "       'Action & Adventure, Art House & International, Drama, Special Interest',\n",
       "       'Animation, Anime & Manga, Drama, Mystery & Suspense, Science Fiction & Fantasy',\n",
       "       'Classics, Drama, Western, Romance',\n",
       "       'Classics, Comedy, Drama, Mystery & Suspense, Special Interest, Romance',\n",
       "       'Horror, Romance',\n",
       "       'Action & Adventure, Animation, Comedy, Kids & Family, Musical & Performing Arts, Romance',\n",
       "       'Comedy, Documentary, Special Interest',\n",
       "       'Horror, Kids & Family, Mystery & Suspense',\n",
       "       'Comedy, Horror, Kids & Family',\n",
       "       'Animation, Anime & Manga, Art House & International, Drama',\n",
       "       'Classics, Drama, Kids & Family, Romance',\n",
       "       'Comedy, Science Fiction & Fantasy, Special Interest, Romance',\n",
       "       'Art House & International, Horror',\n",
       "       'Animation, Comedy, Horror, Romance', 'Horror, Kids & Family',\n",
       "       'Animation, Art House & International, Kids & Family',\n",
       "       'Art House & International, Documentary, Special Interest',\n",
       "       'Action & Adventure, Art House & International, Comedy, Drama, Mystery & Suspense',\n",
       "       'Action & Adventure, Drama, Kids & Family, Mystery & Suspense, Science Fiction & Fantasy',\n",
       "       'Action & Adventure, Comedy, Horror, Mystery & Suspense',\n",
       "       'Comedy, Horror, Kids & Family, Mystery & Suspense, Science Fiction & Fantasy',\n",
       "       'Art House & International, Comedy, Horror, Science Fiction & Fantasy, Special Interest',\n",
       "       'Documentary, Special Interest, Television',\n",
       "       'Comedy, Cult Movies, Drama',\n",
       "       'Action & Adventure, Art House & International, Comedy, Romance',\n",
       "       'Action & Adventure, Art House & International, Classics, Drama, Kids & Family',\n",
       "       'Drama, Science Fiction & Fantasy, Special Interest, Romance',\n",
       "       'Animation, Comedy, Kids & Family, Special Interest',\n",
       "       'Action & Adventure, Science Fiction & Fantasy, Television',\n",
       "       'Drama, Science Fiction & Fantasy, Special Interest',\n",
       "       'Art House & International, Drama, Science Fiction & Fantasy, Special Interest',\n",
       "       'Art House & International, Classics, Drama, Horror',\n",
       "       'Classics, Drama, Kids & Family',\n",
       "       'Documentary, Faith & Spirituality, Sports & Fitness',\n",
       "       'Action & Adventure, Comedy, Science Fiction & Fantasy, Romance',\n",
       "       'Animation, Drama, Kids & Family, Science Fiction & Fantasy, Romance',\n",
       "       'Kids & Family, Mystery & Suspense',\n",
       "       'Art House & International, Comedy, Documentary, Drama, Special Interest',\n",
       "       'Animation, Drama, Science Fiction & Fantasy',\n",
       "       'Action & Adventure, Comedy, Mystery & Suspense, Romance',\n",
       "       'Action & Adventure, Animation, Comedy, Documentary, Kids & Family',\n",
       "       'Art House & International, Comedy, Drama, Musical & Performing Arts, Science Fiction & Fantasy',\n",
       "       'Classics, Drama, Mystery & Suspense, Romance',\n",
       "       'Art House & International, Documentary, Drama, Special Interest',\n",
       "       'Action & Adventure, Comedy, Horror, Romance',\n",
       "       'Horror, Science Fiction & Fantasy, Romance',\n",
       "       'Documentary, Faith & Spirituality',\n",
       "       'Kids & Family, Musical & Performing Arts',\n",
       "       'Animation, Documentary, Kids & Family',\n",
       "       'Classics, Drama, Kids & Family, Science Fiction & Fantasy',\n",
       "       'Action & Adventure, Comedy, Documentary',\n",
       "       'Action & Adventure, Musical & Performing Arts, Science Fiction & Fantasy',\n",
       "       'Action & Adventure, Horror, Kids & Family, Science Fiction & Fantasy',\n",
       "       'Action & Adventure, Classics, Drama, Musical & Performing Arts, Western',\n",
       "       'Animation, Comedy, Kids & Family, Faith & Spirituality',\n",
       "       'Action & Adventure, Drama, Horror, Western',\n",
       "       'Action & Adventure, Animation, Art House & International, Kids & Family, Science Fiction & Fantasy',\n",
       "       'Drama, Gay & Lesbian',\n",
       "       'Documentary, Drama, Special Interest, Television',\n",
       "       'Action & Adventure, Comedy, Cult Movies, Mystery & Suspense',\n",
       "       'Action & Adventure, Drama, Mystery & Suspense, Romance',\n",
       "       'Action & Adventure, Art House & International, Comedy, Drama, Romance',\n",
       "       'Art House & International, Drama, Horror, Science Fiction & Fantasy, Special Interest, Romance',\n",
       "       'Action & Adventure, Cult Movies, Kids & Family, Science Fiction & Fantasy',\n",
       "       'Action & Adventure, Kids & Family, Science Fiction & Fantasy, Romance',\n",
       "       'Science Fiction & Fantasy, Special Interest',\n",
       "       'Art House & International, Comedy, Drama, Mystery & Suspense, Romance',\n",
       "       'Comedy, Kids & Family, Television',\n",
       "       'Art House & International, Mystery & Suspense, Special Interest',\n",
       "       'Art House & International, Classics, Horror',\n",
       "       'Art House & International, Documentary, Television',\n",
       "       'Drama, Kids & Family, Faith & Spirituality',\n",
       "       'Classics, Comedy, Documentary, Sports & Fitness',\n",
       "       'Art House & International, Comedy, Drama, Sports & Fitness',\n",
       "       'Documentary, Drama, Musical & Performing Arts, Special Interest, Television',\n",
       "       'Comedy, Documentary, Drama, Special Interest, Romance',\n",
       "       'Animation, Anime & Manga, Art House & International, Comedy, Kids & Family',\n",
       "       'Documentary, Kids & Family, Musical & Performing Arts, Special Interest',\n",
       "       'Comedy, Television',\n",
       "       'Art House & International, Classics, Documentary, Special Interest',\n",
       "       'Action & Adventure, Animation, Art House & International',\n",
       "       'Classics, Comedy, Kids & Family, Musical & Performing Arts, Science Fiction & Fantasy',\n",
       "       'Drama, Romance, Gay & Lesbian',\n",
       "       'Classics, Drama, Kids & Family, Musical & Performing Arts, Romance',\n",
       "       'Documentary, Musical & Performing Arts, Mystery & Suspense',\n",
       "       'Drama, Musical & Performing Arts, Special Interest',\n",
       "       'Animation, Drama, Romance',\n",
       "       'Action & Adventure, Drama, Mystery & Suspense, Science Fiction & Fantasy, Romance',\n",
       "       'Classics, Drama, Kids & Family, Science Fiction & Fantasy, Special Interest, Romance',\n",
       "       'Animation, Anime & Manga, Art House & International, Kids & Family',\n",
       "       'Animation, Comedy, Science Fiction & Fantasy',\n",
       "       'Classics, Comedy, Drama, Special Interest',\n",
       "       'Animation, Horror, Kids & Family',\n",
       "       'Art House & International, Drama, Horror, Science Fiction & Fantasy, Romance',\n",
       "       'Art House & International, Drama, Horror, Science Fiction & Fantasy',\n",
       "       'Art House & International, Drama, Science Fiction & Fantasy, Romance',\n",
       "       'Comedy, Science Fiction & Fantasy, Special Interest',\n",
       "       'Comedy, Documentary, Kids & Family',\n",
       "       'Drama, Kids & Family, Mystery & Suspense',\n",
       "       'Documentary, Drama, Special Interest, Sports & Fitness',\n",
       "       'Action & Adventure, Classics, Drama, Kids & Family',\n",
       "       'Art House & International, Cult Movies, Drama',\n",
       "       'Action & Adventure, Art House & International, Drama, Horror, Science Fiction & Fantasy',\n",
       "       'Comedy, Television, Romance',\n",
       "       'Art House & International, Classics, Horror, Science Fiction & Fantasy',\n",
       "       'Action & Adventure, Classics, Drama, Kids & Family, Western',\n",
       "       'Action & Adventure, Mystery & Suspense, Romance',\n",
       "       'Art House & International, Comedy, Television, Romance',\n",
       "       'Action & Adventure, Art House & International, Comedy, Mystery & Suspense',\n",
       "       'Comedy, Documentary, Drama', 'Classics, Western',\n",
       "       'Art House & International, Comedy, Science Fiction & Fantasy',\n",
       "       'Animation, Drama, Kids & Family, Mystery & Suspense',\n",
       "       'Drama, Horror, Musical & Performing Arts, Special Interest, Romance',\n",
       "       'Classics, Drama, Horror, Musical & Performing Arts, Mystery & Suspense, Special Interest',\n",
       "       'Classics, Comedy, Cult Movies, Horror, Musical & Performing Arts',\n",
       "       'Drama, Special Interest, Television',\n",
       "       'Action & Adventure, Art House & International, Drama, Mystery & Suspense, Science Fiction & Fantasy, Special Interest',\n",
       "       'Art House & International, Classics, Drama, Special Interest',\n",
       "       'Cult Movies, Horror, Science Fiction & Fantasy',\n",
       "       'Mystery & Suspense, Romance',\n",
       "       'Action & Adventure, Animation, Kids & Family, Science Fiction & Fantasy, Television',\n",
       "       'Animation, Anime & Manga, Kids & Family, Science Fiction & Fantasy',\n",
       "       'Action & Adventure, Animation',\n",
       "       'Comedy, Documentary, Special Interest, Television',\n",
       "       'Comedy, Horror, Musical & Performing Arts',\n",
       "       'Action & Adventure, Comedy, Drama, Kids & Family, Mystery & Suspense, Science Fiction & Fantasy',\n",
       "       'Classics, Documentary, Drama',\n",
       "       'Animation, Drama, Kids & Family, Musical & Performing Arts',\n",
       "       'Action & Adventure, Science Fiction & Fantasy, Romance',\n",
       "       'Action & Adventure, Animation, Drama, Kids & Family, Science Fiction & Fantasy',\n",
       "       'Science Fiction & Fantasy, Western',\n",
       "       'Art House & International, Comedy, Special Interest, Romance',\n",
       "       'Action & Adventure, Art House & International, Comedy, Drama, Mystery & Suspense, Science Fiction & Fantasy',\n",
       "       'Drama, Horror, Mystery & Suspense, Special Interest',\n",
       "       'Action & Adventure, Art House & International, Drama, Mystery & Suspense, Western',\n",
       "       'Comedy, Documentary, Faith & Spirituality',\n",
       "       'Action & Adventure, Animation, Musical & Performing Arts, Mystery & Suspense, Science Fiction & Fantasy',\n",
       "       'Horror, Musical & Performing Arts, Science Fiction & Fantasy',\n",
       "       'Classics, Comedy, Cult Movies, Horror, Musical & Performing Arts, Science Fiction & Fantasy',\n",
       "       'Art House & International, Comedy, Musical & Performing Arts, Romance',\n",
       "       'Animation, Kids & Family, Television',\n",
       "       'Comedy, Drama, Musical & Performing Arts, Special Interest',\n",
       "       'Drama, Special Interest, Romance',\n",
       "       'Drama, Horror, Mystery & Suspense, Television',\n",
       "       'Animation, Classics, Comedy, Kids & Family, Special Interest',\n",
       "       'Classics, Comedy, Kids & Family, Science Fiction & Fantasy',\n",
       "       'Art House & International, Drama, Horror, Science Fiction & Fantasy, Special Interest',\n",
       "       'Art House & International, Drama, Television',\n",
       "       'Drama, Musical & Performing Arts, Science Fiction & Fantasy',\n",
       "       'Classics, Drama, Horror, Mystery & Suspense, Science Fiction & Fantasy',\n",
       "       'Action & Adventure, Art House & International, Kids & Family, Science Fiction & Fantasy, Romance',\n",
       "       'Action & Adventure, Drama, Mystery & Suspense, Western',\n",
       "       'Classics, Comedy, Drama, Musical & Performing Arts, Western',\n",
       "       'Drama, Horror, Mystery & Suspense, Science Fiction & Fantasy, Television',\n",
       "       'Action & Adventure, Comedy, Horror, Science Fiction & Fantasy, Special Interest',\n",
       "       'Comedy, Horror, Mystery & Suspense, Television',\n",
       "       'Action & Adventure, Documentary, Drama, Western',\n",
       "       'Action & Adventure, Animation, Kids & Family, Romance',\n",
       "       'Animation, Comedy, Musical & Performing Arts',\n",
       "       'Animation, Musical & Performing Arts, Romance',\n",
       "       'Art House & International, Science Fiction & Fantasy',\n",
       "       'Action & Adventure, Drama, Science Fiction & Fantasy, Romance',\n",
       "       'Action & Adventure, Comedy, Drama, Kids & Family, Science Fiction & Fantasy',\n",
       "       'Classics, Drama, Kids & Family, Musical & Performing Arts',\n",
       "       'Action & Adventure, Art House & International, Comedy, Musical & Performing Arts, Mystery & Suspense, Romance',\n",
       "       'Animation, Comedy, Musical & Performing Arts, Special Interest',\n",
       "       'Comedy, Musical & Performing Arts, Mystery & Suspense, Science Fiction & Fantasy',\n",
       "       'Action & Adventure, Animation, Horror, Mystery & Suspense, Science Fiction & Fantasy',\n",
       "       'Action & Adventure, Art House & International, Comedy, Cult Movies, Drama',\n",
       "       'Cult Movies, Kids & Family, Science Fiction & Fantasy',\n",
       "       'Cult Movies, Science Fiction & Fantasy',\n",
       "       'Documentary, Special Interest, Romance',\n",
       "       'Action & Adventure, Drama, Musical & Performing Arts',\n",
       "       'Art House & International, Drama, Kids & Family',\n",
       "       'Art House & International, Drama, Special Interest, Romance',\n",
       "       'Action & Adventure, Kids & Family, Science Fiction & Fantasy, Western',\n",
       "       'Action & Adventure, Comedy, Sports & Fitness',\n",
       "       'Animation, Comedy, Kids & Family, Musical & Performing Arts, Television',\n",
       "       'Action & Adventure, Art House & International, Drama, Western, Romance',\n",
       "       'Animation, Art House & International, Drama',\n",
       "       'Animation, Art House & International, Kids & Family, Science Fiction & Fantasy',\n",
       "       'Action & Adventure, Art House & International, Science Fiction & Fantasy, Special Interest, Western',\n",
       "       'Classics, Comedy, Drama, Science Fiction & Fantasy, Romance, Faith & Spirituality',\n",
       "       'Action & Adventure, Drama, Musical & Performing Arts, Mystery & Suspense, Romance',\n",
       "       'Animation, Romance',\n",
       "       'Art House & International, Comedy, Drama, Science Fiction & Fantasy, Romance',\n",
       "       'Comedy, Mystery & Suspense, Special Interest',\n",
       "       'Art House & International, Classics, Cult Movies, Horror, Mystery & Suspense',\n",
       "       'Documentary, Kids & Family, Special Interest',\n",
       "       'Action & Adventure, Documentary, Mystery & Suspense',\n",
       "       'Action & Adventure, Comedy, Kids & Family, Special Interest',\n",
       "       'Horror, Science Fiction & Fantasy, Western', 'Cult Movies, Drama',\n",
       "       'Art House & International, Documentary, Kids & Family',\n",
       "       'Art House & International, Comedy, Drama, Mystery & Suspense, Science Fiction & Fantasy',\n",
       "       'Art House & International, Documentary, Drama, Kids & Family',\n",
       "       'Western',\n",
       "       'Action & Adventure, Art House & International, Western',\n",
       "       'Action & Adventure, Art House & International, Comedy, Drama, Horror',\n",
       "       'Animation, Art House & International, Comedy, Drama',\n",
       "       'Drama, Mystery & Suspense, Western',\n",
       "       'Action & Adventure, Animation, Drama, Kids & Family, Musical & Performing Arts',\n",
       "       'Animation, Kids & Family, Musical & Performing Arts, Science Fiction & Fantasy, Romance',\n",
       "       'Comedy, Cult Movies, Drama, Science Fiction & Fantasy',\n",
       "       'Action & Adventure, Kids & Family, Western', 'Horror, Western',\n",
       "       'Art House & International, Cult Movies, Drama, Special Interest',\n",
       "       'Mystery & Suspense, Science Fiction & Fantasy, Western',\n",
       "       'Action & Adventure, Art House & International, Documentary, Drama, Science Fiction & Fantasy, Special Interest',\n",
       "       'Animation, Art House & International, Science Fiction & Fantasy',\n",
       "       'Action & Adventure, Documentary, Mystery & Suspense, Special Interest',\n",
       "       'Animation, Classics, Comedy, Kids & Family',\n",
       "       'Mystery & Suspense, Science Fiction & Fantasy, Romance',\n",
       "       'Action & Adventure, Classics, Horror, Science Fiction & Fantasy',\n",
       "       'Art House & International, Documentary, Drama, Mystery & Suspense, Special Interest',\n",
       "       'Horror, Kids & Family, Science Fiction & Fantasy',\n",
       "       'Classics, Kids & Family, Musical & Performing Arts, Science Fiction & Fantasy',\n",
       "       'Art House & International, Classics, Musical & Performing Arts, Romance',\n",
       "       'Classics, Comedy, Horror', 'Art House & International',\n",
       "       'Comedy, Drama, Horror, Mystery & Suspense, Science Fiction & Fantasy',\n",
       "       'Classics, Comedy, Mystery & Suspense',\n",
       "       'Action & Adventure, Art House & International, Classics, Science Fiction & Fantasy',\n",
       "       'Comedy, Drama, Mystery & Suspense, Sports & Fitness',\n",
       "       'Art House & International, Documentary, Drama, Musical & Performing Arts',\n",
       "       'Action & Adventure, Comedy, Drama, Horror',\n",
       "       'Action & Adventure, Comedy, Drama, Science Fiction & Fantasy, Romance',\n",
       "       'Action & Adventure, Art House & International, Mystery & Suspense, Science Fiction & Fantasy',\n",
       "       'Classics, Mystery & Suspense, Romance',\n",
       "       'Animation, Art House & International, Comedy, Drama, Science Fiction & Fantasy',\n",
       "       'Action & Adventure, Drama, Musical & Performing Arts, Science Fiction & Fantasy',\n",
       "       'Action & Adventure, Classics, Comedy, Romance',\n",
       "       'Comedy, Cult Movies, Horror, Science Fiction & Fantasy',\n",
       "       'Action & Adventure, Art House & International, Horror, Mystery & Suspense',\n",
       "       'Mystery & Suspense, Special Interest',\n",
       "       'Art House & International, Cult Movies, Drama, Horror, Musical & Performing Arts, Special Interest',\n",
       "       'Art House & International, Comedy, Cult Movies, Musical & Performing Arts',\n",
       "       'Drama, Kids & Family, Musical & Performing Arts, Science Fiction & Fantasy, Romance',\n",
       "       'Art House & International, Comedy, Drama, Television, Romance',\n",
       "       'Horror, Mystery & Suspense, Science Fiction & Fantasy, Romance',\n",
       "       'Action & Adventure, Animation, Comedy, Musical & Performing Arts',\n",
       "       'Art House & International, Comedy, Science Fiction & Fantasy, Special Interest',\n",
       "       'Action & Adventure, Comedy, Drama, Horror, Mystery & Suspense, Science Fiction & Fantasy, Romance',\n",
       "       'Comedy, Drama, Western',\n",
       "       'Animation, Art House & International, Drama, Special Interest',\n",
       "       'Art House & International, Musical & Performing Arts, Romance',\n",
       "       'Documentary, Kids & Family',\n",
       "       'Animation, Art House & International, Documentary, Special Interest',\n",
       "       'Art House & International, Comedy, Drama, Romance, Gay & Lesbian',\n",
       "       'Action & Adventure, Comedy, Drama, Musical & Performing Arts, Romance, Gay & Lesbian',\n",
       "       'Action & Adventure, Classics, Science Fiction & Fantasy, Western',\n",
       "       'Classics, Cult Movies, Drama, Horror, Mystery & Suspense',\n",
       "       'Documentary, Drama, Science Fiction & Fantasy, Faith & Spirituality',\n",
       "       'Action & Adventure, Animation, Comedy, Drama, Kids & Family, Science Fiction & Fantasy',\n",
       "       'Action & Adventure, Animation, Comedy, Kids & Family, Mystery & Suspense',\n",
       "       'Classics, Comedy, Drama, Kids & Family, Musical & Performing Arts, Science Fiction & Fantasy',\n",
       "       'Action & Adventure, Classics, Musical & Performing Arts, Science Fiction & Fantasy',\n",
       "       'Musical & Performing Arts, Science Fiction & Fantasy',\n",
       "       'Classics, Documentary, Musical & Performing Arts, Special Interest, Television',\n",
       "       'Animation, Art House & International, Drama, Science Fiction & Fantasy, Romance',\n",
       "       'Action & Adventure, Drama, Horror, Kids & Family, Mystery & Suspense'],\n",
       "      dtype=object)"
      ]
     },
     "execution_count": 29,
     "metadata": {},
     "output_type": "execute_result"
    }
   ],
   "source": [
    "new_data['genres'].unique()"
   ]
  },
  {
   "cell_type": "code",
   "execution_count": 30,
   "id": "f9948909",
   "metadata": {
    "colab": {
     "base_uri": "https://localhost:8080/"
    },
    "id": "f9948909",
    "outputId": "14b72de8-7364-4ab4-8ddf-3b993f8462f8"
   },
   "outputs": [
    {
     "data": {
      "text/plain": [
       "Drama                                                                                        116937\n",
       "Comedy                                                                                        72642\n",
       "Comedy, Drama                                                                                 54066\n",
       "Drama, Mystery & Suspense                                                                     45323\n",
       "Action & Adventure, Drama                                                                     29400\n",
       "                                                                                              ...  \n",
       "Action & Adventure, Science Fiction & Fantasy, Television                                        17\n",
       "Animation, Classics, Comedy, Kids & Family                                                       14\n",
       "Art House & International, Comedy, Drama, Mystery & Suspense, Romance                            13\n",
       "Classics, Drama, Television                                                                      13\n",
       "Action & Adventure, Animation, Classics, Comedy, Kids & Family, Musical & Performing Arts         7\n",
       "Name: genres, Length: 652, dtype: int64"
      ]
     },
     "execution_count": 30,
     "metadata": {},
     "output_type": "execute_result"
    }
   ],
   "source": [
    "new_data['genres'].value_counts()"
   ]
  },
  {
   "cell_type": "code",
   "execution_count": 31,
   "id": "1dd6c6a8",
   "metadata": {
    "colab": {
     "base_uri": "https://localhost:8080/"
    },
    "id": "1dd6c6a8",
    "outputId": "adf99365-0a0b-4ef0-e82b-d5b31cd84099"
   },
   "outputs": [
    {
     "name": "stderr",
     "output_type": "stream",
     "text": [
      "C:\\Users\\701492\\AppData\\Local\\Temp\\ipykernel_13736\\3417958209.py:2: SettingWithCopyWarning: \n",
      "A value is trying to be set on a copy of a slice from a DataFrame.\n",
      "Try using .loc[row_indexer,col_indexer] = value instead\n",
      "\n",
      "See the caveats in the documentation: https://pandas.pydata.org/pandas-docs/stable/user_guide/indexing.html#returning-a-view-versus-a-copy\n",
      "  new_data['original_release_date'] = pd.to_datetime(new_data['original_release_date'], errors='coerce')\n",
      "C:\\Users\\701492\\AppData\\Local\\Temp\\ipykernel_13736\\3417958209.py:4: SettingWithCopyWarning: \n",
      "A value is trying to be set on a copy of a slice from a DataFrame.\n",
      "Try using .loc[row_indexer,col_indexer] = value instead\n",
      "\n",
      "See the caveats in the documentation: https://pandas.pydata.org/pandas-docs/stable/user_guide/indexing.html#returning-a-view-versus-a-copy\n",
      "  new_data['Movie_Release_Year'] = new_data['original_release_date'].dt.year\n"
     ]
    }
   ],
   "source": [
    "#convert date columns to datetype\n",
    "new_data['original_release_date'] = pd.to_datetime(new_data['original_release_date'], errors='coerce')\n",
    "#Create release year from release date\n",
    "new_data['Movie_Release_Year'] = new_data['original_release_date'].dt.year"
   ]
  },
  {
   "cell_type": "code",
   "execution_count": 32,
   "id": "84ee2b24",
   "metadata": {
    "colab": {
     "base_uri": "https://localhost:8080/",
     "height": 733
    },
    "id": "84ee2b24",
    "outputId": "89ff6133-1740-447b-fd17-8f8503be619e",
    "scrolled": true
   },
   "outputs": [
    {
     "data": {
      "text/html": [
       "<div>\n",
       "<style scoped>\n",
       "    .dataframe tbody tr th:only-of-type {\n",
       "        vertical-align: middle;\n",
       "    }\n",
       "\n",
       "    .dataframe tbody tr th {\n",
       "        vertical-align: top;\n",
       "    }\n",
       "\n",
       "    .dataframe thead th {\n",
       "        text-align: right;\n",
       "    }\n",
       "</style>\n",
       "<table border=\"1\" class=\"dataframe\">\n",
       "  <thead>\n",
       "    <tr style=\"text-align: right;\">\n",
       "      <th></th>\n",
       "      <th>rotten_tomatoes_link</th>\n",
       "      <th>critic_name</th>\n",
       "      <th>top_critic</th>\n",
       "      <th>publisher_name</th>\n",
       "      <th>review_type</th>\n",
       "      <th>review_score</th>\n",
       "      <th>review_date</th>\n",
       "      <th>review_content</th>\n",
       "      <th>movie_title</th>\n",
       "      <th>movie_info</th>\n",
       "      <th>...</th>\n",
       "      <th>tomatometer_status</th>\n",
       "      <th>tomatometer_rating</th>\n",
       "      <th>tomatometer_count</th>\n",
       "      <th>audience_status</th>\n",
       "      <th>audience_rating</th>\n",
       "      <th>audience_count</th>\n",
       "      <th>tomatometer_top_critics_count</th>\n",
       "      <th>tomatometer_fresh_critics_count</th>\n",
       "      <th>tomatometer_rotten_critics_count</th>\n",
       "      <th>Movie_Release_Year</th>\n",
       "    </tr>\n",
       "  </thead>\n",
       "  <tbody>\n",
       "    <tr>\n",
       "      <th>0</th>\n",
       "      <td>m/0814255</td>\n",
       "      <td>Andrew L. Urban</td>\n",
       "      <td>False</td>\n",
       "      <td>Urban Cinefile</td>\n",
       "      <td>Fresh</td>\n",
       "      <td>0</td>\n",
       "      <td>2010-02-06</td>\n",
       "      <td>A fantasy adventure that fuses Greek mythology...</td>\n",
       "      <td>Percy Jackson &amp; the Olympians: The Lightning T...</td>\n",
       "      <td>Always trouble-prone, the life of teenager Per...</td>\n",
       "      <td>...</td>\n",
       "      <td>Rotten</td>\n",
       "      <td>49.0</td>\n",
       "      <td>149.0</td>\n",
       "      <td>Spilled</td>\n",
       "      <td>53.0</td>\n",
       "      <td>254421.0</td>\n",
       "      <td>43</td>\n",
       "      <td>73</td>\n",
       "      <td>76</td>\n",
       "      <td>2010</td>\n",
       "    </tr>\n",
       "    <tr>\n",
       "      <th>1</th>\n",
       "      <td>m/0814255</td>\n",
       "      <td>Louise Keller</td>\n",
       "      <td>False</td>\n",
       "      <td>Urban Cinefile</td>\n",
       "      <td>Fresh</td>\n",
       "      <td>0</td>\n",
       "      <td>2010-02-06</td>\n",
       "      <td>Uma Thurman as Medusa, the gorgon with a coiff...</td>\n",
       "      <td>Percy Jackson &amp; the Olympians: The Lightning T...</td>\n",
       "      <td>Always trouble-prone, the life of teenager Per...</td>\n",
       "      <td>...</td>\n",
       "      <td>Rotten</td>\n",
       "      <td>49.0</td>\n",
       "      <td>149.0</td>\n",
       "      <td>Spilled</td>\n",
       "      <td>53.0</td>\n",
       "      <td>254421.0</td>\n",
       "      <td>43</td>\n",
       "      <td>73</td>\n",
       "      <td>76</td>\n",
       "      <td>2010</td>\n",
       "    </tr>\n",
       "    <tr>\n",
       "      <th>3</th>\n",
       "      <td>m/0814255</td>\n",
       "      <td>Ben McEachen</td>\n",
       "      <td>False</td>\n",
       "      <td>Sunday Mail (Australia)</td>\n",
       "      <td>Fresh</td>\n",
       "      <td>3.5/5</td>\n",
       "      <td>2010-02-09</td>\n",
       "      <td>Whether audiences will get behind The Lightnin...</td>\n",
       "      <td>Percy Jackson &amp; the Olympians: The Lightning T...</td>\n",
       "      <td>Always trouble-prone, the life of teenager Per...</td>\n",
       "      <td>...</td>\n",
       "      <td>Rotten</td>\n",
       "      <td>49.0</td>\n",
       "      <td>149.0</td>\n",
       "      <td>Spilled</td>\n",
       "      <td>53.0</td>\n",
       "      <td>254421.0</td>\n",
       "      <td>43</td>\n",
       "      <td>73</td>\n",
       "      <td>76</td>\n",
       "      <td>2010</td>\n",
       "    </tr>\n",
       "    <tr>\n",
       "      <th>4</th>\n",
       "      <td>m/0814255</td>\n",
       "      <td>Ethan Alter</td>\n",
       "      <td>True</td>\n",
       "      <td>Hollywood Reporter</td>\n",
       "      <td>Rotten</td>\n",
       "      <td>0</td>\n",
       "      <td>2010-02-10</td>\n",
       "      <td>What's really lacking in The Lightning Thief i...</td>\n",
       "      <td>Percy Jackson &amp; the Olympians: The Lightning T...</td>\n",
       "      <td>Always trouble-prone, the life of teenager Per...</td>\n",
       "      <td>...</td>\n",
       "      <td>Rotten</td>\n",
       "      <td>49.0</td>\n",
       "      <td>149.0</td>\n",
       "      <td>Spilled</td>\n",
       "      <td>53.0</td>\n",
       "      <td>254421.0</td>\n",
       "      <td>43</td>\n",
       "      <td>73</td>\n",
       "      <td>76</td>\n",
       "      <td>2010</td>\n",
       "    </tr>\n",
       "    <tr>\n",
       "      <th>5</th>\n",
       "      <td>m/0814255</td>\n",
       "      <td>David Germain</td>\n",
       "      <td>True</td>\n",
       "      <td>Associated Press</td>\n",
       "      <td>Rotten</td>\n",
       "      <td>0</td>\n",
       "      <td>2010-02-10</td>\n",
       "      <td>It's more a list of ingredients than a movie-m...</td>\n",
       "      <td>Percy Jackson &amp; the Olympians: The Lightning T...</td>\n",
       "      <td>Always trouble-prone, the life of teenager Per...</td>\n",
       "      <td>...</td>\n",
       "      <td>Rotten</td>\n",
       "      <td>49.0</td>\n",
       "      <td>149.0</td>\n",
       "      <td>Spilled</td>\n",
       "      <td>53.0</td>\n",
       "      <td>254421.0</td>\n",
       "      <td>43</td>\n",
       "      <td>73</td>\n",
       "      <td>76</td>\n",
       "      <td>2010</td>\n",
       "    </tr>\n",
       "  </tbody>\n",
       "</table>\n",
       "<p>5 rows × 30 columns</p>\n",
       "</div>"
      ],
      "text/plain": [
       "  rotten_tomatoes_link      critic_name  top_critic           publisher_name  \\\n",
       "0            m/0814255  Andrew L. Urban       False           Urban Cinefile   \n",
       "1            m/0814255    Louise Keller       False           Urban Cinefile   \n",
       "3            m/0814255     Ben McEachen       False  Sunday Mail (Australia)   \n",
       "4            m/0814255      Ethan Alter        True       Hollywood Reporter   \n",
       "5            m/0814255    David Germain        True         Associated Press   \n",
       "\n",
       "  review_type review_score review_date  \\\n",
       "0       Fresh            0  2010-02-06   \n",
       "1       Fresh            0  2010-02-06   \n",
       "3       Fresh        3.5/5  2010-02-09   \n",
       "4      Rotten            0  2010-02-10   \n",
       "5      Rotten            0  2010-02-10   \n",
       "\n",
       "                                      review_content  \\\n",
       "0  A fantasy adventure that fuses Greek mythology...   \n",
       "1  Uma Thurman as Medusa, the gorgon with a coiff...   \n",
       "3  Whether audiences will get behind The Lightnin...   \n",
       "4  What's really lacking in The Lightning Thief i...   \n",
       "5  It's more a list of ingredients than a movie-m...   \n",
       "\n",
       "                                         movie_title  \\\n",
       "0  Percy Jackson & the Olympians: The Lightning T...   \n",
       "1  Percy Jackson & the Olympians: The Lightning T...   \n",
       "3  Percy Jackson & the Olympians: The Lightning T...   \n",
       "4  Percy Jackson & the Olympians: The Lightning T...   \n",
       "5  Percy Jackson & the Olympians: The Lightning T...   \n",
       "\n",
       "                                          movie_info  ... tomatometer_status  \\\n",
       "0  Always trouble-prone, the life of teenager Per...  ...             Rotten   \n",
       "1  Always trouble-prone, the life of teenager Per...  ...             Rotten   \n",
       "3  Always trouble-prone, the life of teenager Per...  ...             Rotten   \n",
       "4  Always trouble-prone, the life of teenager Per...  ...             Rotten   \n",
       "5  Always trouble-prone, the life of teenager Per...  ...             Rotten   \n",
       "\n",
       "  tomatometer_rating tomatometer_count audience_status audience_rating  \\\n",
       "0               49.0             149.0         Spilled            53.0   \n",
       "1               49.0             149.0         Spilled            53.0   \n",
       "3               49.0             149.0         Spilled            53.0   \n",
       "4               49.0             149.0         Spilled            53.0   \n",
       "5               49.0             149.0         Spilled            53.0   \n",
       "\n",
       "  audience_count tomatometer_top_critics_count  \\\n",
       "0       254421.0                            43   \n",
       "1       254421.0                            43   \n",
       "3       254421.0                            43   \n",
       "4       254421.0                            43   \n",
       "5       254421.0                            43   \n",
       "\n",
       "  tomatometer_fresh_critics_count  tomatometer_rotten_critics_count  \\\n",
       "0                              73                                76   \n",
       "1                              73                                76   \n",
       "3                              73                                76   \n",
       "4                              73                                76   \n",
       "5                              73                                76   \n",
       "\n",
       "  Movie_Release_Year  \n",
       "0               2010  \n",
       "1               2010  \n",
       "3               2010  \n",
       "4               2010  \n",
       "5               2010  \n",
       "\n",
       "[5 rows x 30 columns]"
      ]
     },
     "execution_count": 32,
     "metadata": {},
     "output_type": "execute_result"
    }
   ],
   "source": [
    "new_data.head(5)"
   ]
  },
  {
   "cell_type": "code",
   "execution_count": 33,
   "id": "12444e83",
   "metadata": {
    "colab": {
     "base_uri": "https://localhost:8080/"
    },
    "id": "12444e83",
    "outputId": "1224db32-feb5-4d0b-8de7-8859720b7515"
   },
   "outputs": [],
   "source": [
    "#new_data['first_genre'].value_counts()"
   ]
  },
  {
   "cell_type": "code",
   "execution_count": 34,
   "id": "30d40672",
   "metadata": {
    "id": "30d40672"
   },
   "outputs": [],
   "source": [
    "\n",
    "new_data = new_data.drop(columns=['review_date','review_score','critics_consensus','movie_info','authors', 'publisher_name'])\n",
    "#Review score is droped because of it's inconsistencies\n"
   ]
  },
  {
   "cell_type": "code",
   "execution_count": 35,
   "id": "ae0ee81c",
   "metadata": {
    "colab": {
     "base_uri": "https://localhost:8080/"
    },
    "id": "ae0ee81c",
    "outputId": "4b892c32-bf4d-445f-e4eb-2b2fedc89203"
   },
   "outputs": [
    {
     "data": {
      "text/plain": [
       "Index(['rotten_tomatoes_link', 'critic_name', 'top_critic', 'review_type',\n",
       "       'review_content', 'movie_title', 'content_rating', 'genres',\n",
       "       'directors', 'actors', 'original_release_date',\n",
       "       'streaming_release_date', 'runtime', 'production_company',\n",
       "       'tomatometer_status', 'tomatometer_rating', 'tomatometer_count',\n",
       "       'audience_status', 'audience_rating', 'audience_count',\n",
       "       'tomatometer_top_critics_count', 'tomatometer_fresh_critics_count',\n",
       "       'tomatometer_rotten_critics_count', 'Movie_Release_Year'],\n",
       "      dtype='object')"
      ]
     },
     "execution_count": 35,
     "metadata": {},
     "output_type": "execute_result"
    }
   ],
   "source": [
    "new_data.columns"
   ]
  },
  {
   "cell_type": "code",
   "execution_count": 36,
   "id": "9a9d51c2",
   "metadata": {
    "colab": {
     "base_uri": "https://localhost:8080/"
    },
    "id": "9a9d51c2",
    "outputId": "13f6c355-1f35-4016-d267-f9ccd436f14e"
   },
   "outputs": [
    {
     "name": "stdout",
     "output_type": "stream",
     "text": [
      "<class 'pandas.core.frame.DataFrame'>\n",
      "Int64Index: 881353 entries, 0 to 1129878\n",
      "Data columns (total 24 columns):\n",
      " #   Column                            Non-Null Count   Dtype         \n",
      "---  ------                            --------------   -----         \n",
      " 0   rotten_tomatoes_link              881353 non-null  object        \n",
      " 1   critic_name                       881353 non-null  object        \n",
      " 2   top_critic                        881353 non-null  bool          \n",
      " 3   review_type                       881353 non-null  object        \n",
      " 4   review_content                    881353 non-null  object        \n",
      " 5   movie_title                       881353 non-null  object        \n",
      " 6   content_rating                    881353 non-null  object        \n",
      " 7   genres                            881353 non-null  object        \n",
      " 8   directors                         881353 non-null  object        \n",
      " 9   actors                            881353 non-null  object        \n",
      " 10  original_release_date             881353 non-null  datetime64[ns]\n",
      " 11  streaming_release_date            881353 non-null  object        \n",
      " 12  runtime                           881353 non-null  float64       \n",
      " 13  production_company                881353 non-null  object        \n",
      " 14  tomatometer_status                881353 non-null  object        \n",
      " 15  tomatometer_rating                881353 non-null  float64       \n",
      " 16  tomatometer_count                 881353 non-null  float64       \n",
      " 17  audience_status                   881353 non-null  object        \n",
      " 18  audience_rating                   881353 non-null  float64       \n",
      " 19  audience_count                    881353 non-null  float64       \n",
      " 20  tomatometer_top_critics_count     881353 non-null  int64         \n",
      " 21  tomatometer_fresh_critics_count   881353 non-null  int64         \n",
      " 22  tomatometer_rotten_critics_count  881353 non-null  int64         \n",
      " 23  Movie_Release_Year                881353 non-null  int64         \n",
      "dtypes: bool(1), datetime64[ns](1), float64(5), int64(4), object(13)\n",
      "memory usage: 162.2+ MB\n"
     ]
    }
   ],
   "source": [
    "new_data.info()"
   ]
  },
  {
   "cell_type": "code",
   "execution_count": 37,
   "id": "52c8e332",
   "metadata": {
    "colab": {
     "base_uri": "https://localhost:8080/"
    },
    "id": "52c8e332",
    "outputId": "f5440ca7-062a-4530-bef9-9dfd7a9ea9c5"
   },
   "outputs": [
    {
     "data": {
      "text/plain": [
       "array([ 53.,  64.,  97.,  74.,  37.,  86.,  35.,  57.,  80.,  89.,  71.,\n",
       "        79.,  30.,  56.,  39.,  65.,  73.,  85.,  75.,  63.,  60.,  76.,\n",
       "        94.,  68.,  58.,  42.,  55.,  67.,  78.,  93.,  66.,  29.,  40.,\n",
       "        24.,  69.,  87.,  52.,  45.,  43.,  46.,  50.,  54.,  21.,  61.,\n",
       "        62.,  32.,  36.,  18.,  47.,  82.,  90.,  33.,  38.,  59.,  81.,\n",
       "        44.,  28.,  49.,  11.,  34.,  84.,  92.,  41.,  31.,  72.,  70.,\n",
       "        77.,  91.,  83.,  95.,  88.,  25.,  12.,  27.,  22.,  20.,  16.,\n",
       "        15.,  26.,  51.,  96.,  17.,  48.,  10.,  14.,   9.,  19.,   8.,\n",
       "        23.,  99.,  13.,  98., 100.])"
      ]
     },
     "execution_count": 37,
     "metadata": {},
     "output_type": "execute_result"
    }
   ],
   "source": [
    "new_data['audience_rating'].unique()"
   ]
  },
  {
   "cell_type": "markdown",
   "id": "99f15e83",
   "metadata": {
    "id": "99f15e83"
   },
   "source": [
    "### Exploratory Data Analysis"
   ]
  },
  {
   "cell_type": "code",
   "execution_count": 38,
   "id": "2da545ef",
   "metadata": {
    "colab": {
     "base_uri": "https://localhost:8080/",
     "height": 472
    },
    "id": "2da545ef",
    "outputId": "ab137e5d-ffa0-43fd-d274-f5c2015c4622"
   },
   "outputs": [
    {
     "data": {
      "image/png": "[encoded data removed]",
      "text/plain": [
       "<Figure size 640x480 with 1 Axes>"
      ]
     },
     "metadata": {},
     "output_type": "display_data"
    }
   ],
   "source": [
    "# Distribution of Ratings:\n",
    "# Plot histogram of ratings\n",
    "plt.hist(new_data['content_rating'], bins=12)\n",
    "plt.xlabel('Rating')\n",
    "plt.ylabel('Frequency')\n",
    "plt.title('Distribution of Ratings')\n",
    "plt.show()"
   ]
  },
  {
   "cell_type": "code",
   "execution_count": 39,
   "id": "0jEN8dTNqoUK",
   "metadata": {
    "colab": {
     "base_uri": "https://localhost:8080/",
     "height": 493
    },
    "id": "0jEN8dTNqoUK",
    "outputId": "845b5780-92a9-4a14-bddb-495e69786cd2"
   },
   "outputs": [
    {
     "data": {
      "image/png": "[encoded data removed]",
      "text/plain": [
       "<Figure size 1000x500 with 1 Axes>"
      ]
     },
     "metadata": {},
     "output_type": "display_data"
    }
   ],
   "source": [
    "#Movie distribution by genre\n",
    "a = plt.cm.cool\n",
    "plt.figure(figsize=(10, 5))\n",
    "count = new_data['genres'].value_counts()[:7]\n",
    "\n",
    "sns.barplot(x=count.values, y=count.index, palette=[a(0.1), a(0.2), a(0.3), a(0.4), a(0.5), a(0.6), a(0.7)])\n",
    "\n",
    "for i, v in enumerate(count.values):\n",
    "    plt.text(0.8, i, v, color='k', fontsize=14)\n",
    "\n",
    "plt.xlabel('Count', fontsize=12)\n",
    "plt.ylabel('Genre', fontsize=12)\n",
    "plt.title(\"Distribution of Genres\", fontsize=16)\n",
    "\n",
    "plt.show()"
   ]
  },
  {
   "cell_type": "code",
   "execution_count": 40,
   "id": "7521461c",
   "metadata": {
    "colab": {
     "base_uri": "https://localhost:8080/",
     "height": 529
    },
    "id": "7521461c",
    "outputId": "3ac447af-a9ae-439b-8320-380e6cfa05a2"
   },
   "outputs": [
    {
     "data": {
      "image/png": "[encoded data removed]",
      "text/plain": [
       "<Figure size 1000x500 with 1 Axes>"
      ]
     },
     "metadata": {},
     "output_type": "display_data"
    }
   ],
   "source": [
    "#Movies by year of release\n",
    "sns.set(style=\"white\")\n",
    "\n",
    "plt.figure(figsize=(10, 5))\n",
    "plt.title('Movies by the Year', size=20)\n",
    "sns.histplot(new_data.Movie_Release_Year, kde=False)\n",
    "plt.ylabel('Number of Movies', size=15)\n",
    "plt.xlabel('Year of Release', size=15)\n",
    "plt.xlim(1920, 2019)\n",
    "plt.xticks(ticks=range(1920, 2018, 5), rotation=45, ha='right')\n",
    "plt.show()"
   ]
  },
  {
   "cell_type": "code",
   "execution_count": 41,
   "id": "627d22d6",
   "metadata": {
    "colab": {
     "base_uri": "https://localhost:8080/",
     "height": 480
    },
    "id": "627d22d6",
    "outputId": "023c84e4-3472-4837-a4e3-73e0556ed150"
   },
   "outputs": [
    {
     "data": {
      "image/png": "[encoded data removed]",
      "text/plain": [
       "<Figure size 640x480 with 1 Axes>"
      ]
     },
     "metadata": {},
     "output_type": "display_data"
    }
   ],
   "source": [
    "# Count the number of ratings per year\n",
    "ratings_per_year = new_data['Movie_Release_Year'].value_counts().sort_index()\n",
    "\n",
    "# Plot line chart of ratings over time\n",
    "plt.plot(ratings_per_year.index, ratings_per_year.values)\n",
    "plt.xlabel('Year')\n",
    "plt.ylabel('Number of Ratings')\n",
    "plt.title('Ratings over Time')\n",
    "plt.show()\n"
   ]
  },
  {
   "cell_type": "code",
   "execution_count": 42,
   "id": "2ac6b279",
   "metadata": {
    "colab": {
     "base_uri": "https://localhost:8080/",
     "height": 628
    },
    "id": "2ac6b279",
    "outputId": "4a0474b5-8e0f-4fb3-863f-699351dff5e5"
   },
   "outputs": [
    {
     "data": {
      "text/plain": [
       "Text(0, 0.5, 'Runtime (S)')"
      ]
     },
     "execution_count": 42,
     "metadata": {},
     "output_type": "execute_result"
    },
    {
     "data": {
      "image/png": "[encoded data removed]",
      "text/plain": [
       "<Figure size 1000x600 with 1 Axes>"
      ]
     },
     "metadata": {},
     "output_type": "display_data"
    }
   ],
   "source": [
    "plt.figure(figsize=(10,6))\n",
    "sns.histplot(data=new_data, x=new_data['runtime']\n",
    "               , bins=50\n",
    "             , palette='Purples'\n",
    "            ,color='blue')\n",
    "plt.title('Movie by of Runtime')\n",
    "plt.ylabel('Runtime (S)')"
   ]
  },
  {
   "cell_type": "code",
   "execution_count": 43,
   "id": "b408daf2",
   "metadata": {
    "colab": {
     "base_uri": "https://localhost:8080/",
     "height": 628
    },
    "id": "b408daf2",
    "outputId": "92826703-256b-41bd-d374-1b44b4d00440"
   },
   "outputs": [
    {
     "data": {
      "text/plain": [
       "Text(0, 0.5, 'Number of Ratings')"
      ]
     },
     "execution_count": 43,
     "metadata": {},
     "output_type": "execute_result"
    },
    {
     "data": {
      "image/png": "[encoded data removed]",
      "text/plain": [
       "<Figure size 1000x500 with 1 Axes>"
      ]
     },
     "metadata": {},
     "output_type": "display_data"
    }
   ],
   "source": [
    "plt.figure(figsize=(10,5))\n",
    "sns.histplot(data=new_data, x=new_data['review_type']\n",
    "               , bins=10\n",
    "             , palette='Purples'\n",
    "            ,color='blue')\n",
    "plt.title('Movie by Review Type')\n",
    "plt.ylabel('Number of Ratings')"
   ]
  },
  {
   "cell_type": "code",
   "execution_count": 44,
   "id": "59cb0424",
   "metadata": {
    "colab": {
     "base_uri": "https://localhost:8080/",
     "height": 375
    },
    "id": "59cb0424",
    "outputId": "89b8f099-31cb-4efa-d4e4-483a719b5e9f"
   },
   "outputs": [
    {
     "data": {
      "text/html": [
       "<div>\n",
       "<style scoped>\n",
       "    .dataframe tbody tr th:only-of-type {\n",
       "        vertical-align: middle;\n",
       "    }\n",
       "\n",
       "    .dataframe tbody tr th {\n",
       "        vertical-align: top;\n",
       "    }\n",
       "\n",
       "    .dataframe thead th {\n",
       "        text-align: right;\n",
       "    }\n",
       "</style>\n",
       "<table border=\"1\" class=\"dataframe\">\n",
       "  <thead>\n",
       "    <tr style=\"text-align: right;\">\n",
       "      <th></th>\n",
       "      <th>rotten_tomatoes_link</th>\n",
       "      <th>critic_name</th>\n",
       "      <th>top_critic</th>\n",
       "      <th>review_type</th>\n",
       "      <th>review_content</th>\n",
       "      <th>movie_title</th>\n",
       "      <th>content_rating</th>\n",
       "      <th>genres</th>\n",
       "      <th>directors</th>\n",
       "      <th>actors</th>\n",
       "      <th>...</th>\n",
       "      <th>tomatometer_status</th>\n",
       "      <th>tomatometer_rating</th>\n",
       "      <th>tomatometer_count</th>\n",
       "      <th>audience_status</th>\n",
       "      <th>audience_rating</th>\n",
       "      <th>audience_count</th>\n",
       "      <th>tomatometer_top_critics_count</th>\n",
       "      <th>tomatometer_fresh_critics_count</th>\n",
       "      <th>tomatometer_rotten_critics_count</th>\n",
       "      <th>Movie_Release_Year</th>\n",
       "    </tr>\n",
       "  </thead>\n",
       "  <tbody>\n",
       "    <tr>\n",
       "      <th>443994</th>\n",
       "      <td>m/im_still_here_2010</td>\n",
       "      <td>Catherine Bray</td>\n",
       "      <td>False</td>\n",
       "      <td>Fresh</td>\n",
       "      <td>Joaquin Phoenix gives the performance of a lif...</td>\n",
       "      <td>I'm Still Here</td>\n",
       "      <td>R</td>\n",
       "      <td>Documentary, Musical &amp; Performing Arts, Specia...</td>\n",
       "      <td>Casey Affleck</td>\n",
       "      <td>Joaquin Phoenix, Casey Affleck, Antony Langdon...</td>\n",
       "      <td>...</td>\n",
       "      <td>Rotten</td>\n",
       "      <td>53.0</td>\n",
       "      <td>131.0</td>\n",
       "      <td>Spilled</td>\n",
       "      <td>38.0</td>\n",
       "      <td>20691.0</td>\n",
       "      <td>38</td>\n",
       "      <td>70</td>\n",
       "      <td>61</td>\n",
       "      <td>2010</td>\n",
       "    </tr>\n",
       "    <tr>\n",
       "      <th>402414</th>\n",
       "      <td>m/hara_kiri_death_of_a_samurai</td>\n",
       "      <td>Andrew L. Urban</td>\n",
       "      <td>False</td>\n",
       "      <td>Fresh</td>\n",
       "      <td>A cinematic work of art, presenting a world in...</td>\n",
       "      <td>Hara-Kiri: Death of a Samurai</td>\n",
       "      <td>NR</td>\n",
       "      <td>Action &amp; Adventure, Art House &amp; International,...</td>\n",
       "      <td>Kikumi Yamagishi, Takashi Miike</td>\n",
       "      <td>Ebizô Ichikawa, Eita, Hikari Mitsushima, Naoto...</td>\n",
       "      <td>...</td>\n",
       "      <td>Certified-Fresh</td>\n",
       "      <td>76.0</td>\n",
       "      <td>42.0</td>\n",
       "      <td>Upright</td>\n",
       "      <td>75.0</td>\n",
       "      <td>4463.0</td>\n",
       "      <td>15</td>\n",
       "      <td>32</td>\n",
       "      <td>10</td>\n",
       "      <td>2012</td>\n",
       "    </tr>\n",
       "    <tr>\n",
       "      <th>1048964</th>\n",
       "      <td>m/tower_heist</td>\n",
       "      <td>William Bibbiani</td>\n",
       "      <td>False</td>\n",
       "      <td>Rotten</td>\n",
       "      <td>Feels more like a droll drama than an actual c...</td>\n",
       "      <td>Tower Heist</td>\n",
       "      <td>PG-13</td>\n",
       "      <td>Action &amp; Adventure, Comedy, Drama</td>\n",
       "      <td>Brett Ratner</td>\n",
       "      <td>Ben Stiller, Eddie Murphy, Casey Affleck, Alan...</td>\n",
       "      <td>...</td>\n",
       "      <td>Fresh</td>\n",
       "      <td>67.0</td>\n",
       "      <td>199.0</td>\n",
       "      <td>Spilled</td>\n",
       "      <td>48.0</td>\n",
       "      <td>57559.0</td>\n",
       "      <td>49</td>\n",
       "      <td>134</td>\n",
       "      <td>65</td>\n",
       "      <td>2011</td>\n",
       "    </tr>\n",
       "  </tbody>\n",
       "</table>\n",
       "<p>3 rows × 24 columns</p>\n",
       "</div>"
      ],
      "text/plain": [
       "                   rotten_tomatoes_link       critic_name  top_critic  \\\n",
       "443994             m/im_still_here_2010    Catherine Bray       False   \n",
       "402414   m/hara_kiri_death_of_a_samurai   Andrew L. Urban       False   \n",
       "1048964                   m/tower_heist  William Bibbiani       False   \n",
       "\n",
       "        review_type                                     review_content  \\\n",
       "443994        Fresh  Joaquin Phoenix gives the performance of a lif...   \n",
       "402414        Fresh  A cinematic work of art, presenting a world in...   \n",
       "1048964      Rotten  Feels more like a droll drama than an actual c...   \n",
       "\n",
       "                           movie_title content_rating  \\\n",
       "443994                  I'm Still Here              R   \n",
       "402414   Hara-Kiri: Death of a Samurai             NR   \n",
       "1048964                    Tower Heist          PG-13   \n",
       "\n",
       "                                                    genres  \\\n",
       "443994   Documentary, Musical & Performing Arts, Specia...   \n",
       "402414   Action & Adventure, Art House & International,...   \n",
       "1048964                  Action & Adventure, Comedy, Drama   \n",
       "\n",
       "                               directors  \\\n",
       "443994                     Casey Affleck   \n",
       "402414   Kikumi Yamagishi, Takashi Miike   \n",
       "1048964                     Brett Ratner   \n",
       "\n",
       "                                                    actors  ...  \\\n",
       "443994   Joaquin Phoenix, Casey Affleck, Antony Langdon...  ...   \n",
       "402414   Ebizô Ichikawa, Eita, Hikari Mitsushima, Naoto...  ...   \n",
       "1048964  Ben Stiller, Eddie Murphy, Casey Affleck, Alan...  ...   \n",
       "\n",
       "        tomatometer_status tomatometer_rating  tomatometer_count  \\\n",
       "443994              Rotten               53.0              131.0   \n",
       "402414     Certified-Fresh               76.0               42.0   \n",
       "1048964              Fresh               67.0              199.0   \n",
       "\n",
       "        audience_status audience_rating  audience_count  \\\n",
       "443994          Spilled            38.0         20691.0   \n",
       "402414          Upright            75.0          4463.0   \n",
       "1048964         Spilled            48.0         57559.0   \n",
       "\n",
       "         tomatometer_top_critics_count tomatometer_fresh_critics_count  \\\n",
       "443994                              38                              70   \n",
       "402414                              15                              32   \n",
       "1048964                             49                             134   \n",
       "\n",
       "         tomatometer_rotten_critics_count  Movie_Release_Year  \n",
       "443994                                 61                2010  \n",
       "402414                                 10                2012  \n",
       "1048964                                65                2011  \n",
       "\n",
       "[3 rows x 24 columns]"
      ]
     },
     "execution_count": 44,
     "metadata": {},
     "output_type": "execute_result"
    }
   ],
   "source": [
    "new_data.sample(3)"
   ]
  },
  {
   "cell_type": "code",
   "execution_count": 45,
   "id": "b3a13b76",
   "metadata": {},
   "outputs": [
    {
     "data": {
      "text/plain": [
       "Index(['rotten_tomatoes_link', 'critic_name', 'top_critic', 'review_type',\n",
       "       'review_content', 'movie_title', 'content_rating', 'genres',\n",
       "       'directors', 'actors', 'original_release_date',\n",
       "       'streaming_release_date', 'runtime', 'production_company',\n",
       "       'tomatometer_status', 'tomatometer_rating', 'tomatometer_count',\n",
       "       'audience_status', 'audience_rating', 'audience_count',\n",
       "       'tomatometer_top_critics_count', 'tomatometer_fresh_critics_count',\n",
       "       'tomatometer_rotten_critics_count', 'Movie_Release_Year'],\n",
       "      dtype='object')"
      ]
     },
     "execution_count": 45,
     "metadata": {},
     "output_type": "execute_result"
    }
   ],
   "source": [
    "new_data.columns"
   ]
  },
  {
   "cell_type": "code",
   "execution_count": 46,
   "id": "17a392ad",
   "metadata": {
    "id": "17a392ad"
   },
   "outputs": [],
   "source": [
    "df = new_data[[\"critic_name\", \"movie_title\", \"tomatometer_rating\", \"original_release_date\", 'genres','actors', 'content_rating', 'review_type', 'directors', 'Movie_Release_Year', 'runtime']]\n"
   ]
  },
  {
   "cell_type": "code",
   "execution_count": 47,
   "id": "c0a5a696",
   "metadata": {
    "colab": {
     "base_uri": "https://localhost:8080/",
     "height": 423
    },
    "id": "c0a5a696",
    "outputId": "8175745d-13f6-4ed4-991a-f6d1d287069f"
   },
   "outputs": [
    {
     "name": "stdout",
     "output_type": "stream",
     "text": [
      "<class 'pandas.core.frame.DataFrame'>\n",
      "Int64Index: 881353 entries, 0 to 1129878\n",
      "Data columns (total 11 columns):\n",
      " #   Column                 Non-Null Count   Dtype         \n",
      "---  ------                 --------------   -----         \n",
      " 0   critic_name            881353 non-null  object        \n",
      " 1   movie_title            881353 non-null  object        \n",
      " 2   tomatometer_rating     881353 non-null  float64       \n",
      " 3   original_release_date  881353 non-null  datetime64[ns]\n",
      " 4   genres                 881353 non-null  object        \n",
      " 5   actors                 881353 non-null  object        \n",
      " 6   content_rating         881353 non-null  object        \n",
      " 7   review_type            881353 non-null  object        \n",
      " 8   directors              881353 non-null  object        \n",
      " 9   Movie_Release_Year     881353 non-null  int64         \n",
      " 10  runtime                881353 non-null  float64       \n",
      "dtypes: datetime64[ns](1), float64(2), int64(1), object(7)\n",
      "memory usage: 80.7+ MB\n"
     ]
    }
   ],
   "source": [
    "df.info()"
   ]
  },
  {
   "cell_type": "code",
   "execution_count": 48,
   "id": "302a399f",
   "metadata": {
    "id": "302a399f"
   },
   "outputs": [],
   "source": [
    "# Define the dictionary for renaming columns\n",
    "rename_dict = {'critic_name': 'userId',\n",
    "               'movie_title': 'movieId',\n",
    "               'tomatometer_rating': 'rating',\n",
    "               'original_release_date': 'timestamp'}\n",
    "\n",
    "# Rename the columns using the dictionary\n",
    "df = df.rename(columns=rename_dict)\n"
   ]
  },
  {
   "cell_type": "code",
   "execution_count": 49,
   "id": "5-FyG-e8yTTb",
   "metadata": {
    "colab": {
     "base_uri": "https://localhost:8080/"
    },
    "id": "5-FyG-e8yTTb",
    "outputId": "2b720364-bce6-402e-c7e7-816869d896c1"
   },
   "outputs": [
    {
     "name": "stdout",
     "output_type": "stream",
     "text": [
      "Number of users: 9651, Number of Movies: 7906, Min rating: 0.0, Max rating: 100.0\n"
     ]
    }
   ],
   "source": [
    "user_ids = df[\"userId\"].unique().tolist()\n",
    "user2user_encoded = {x: i for i, x in enumerate(user_ids)}\n",
    "userencoded2user = {i: x for i, x in enumerate(user_ids)}\n",
    "\n",
    "movie_ids = df[\"movieId\"].unique().tolist()\n",
    "movie2movie_encoded = {x: i for i, x in enumerate(movie_ids)}\n",
    "movie_encoded2movie = {i: x for i, x in enumerate(movie_ids)}\n",
    "\n",
    "genres_ids = df[\"genres\"].unique().tolist()\n",
    "genres2genres_encoded = {x: i for i, x in enumerate(genres_ids)}\n",
    "genresencoded2genres = {i: x for i, x in enumerate(genres_ids)}\n",
    "\n",
    "actors_ids = df[\"actors\"].unique().tolist()\n",
    "actors2actors_encoded = {x: i for i, x in enumerate(actors_ids)}\n",
    "actorsencoded2actors = {i: x for i, x in enumerate(actors_ids)}\n",
    "\n",
    "review_type_ids = df[\"review_type\"].unique().tolist()\n",
    "review2review_encoded = {x: i for i, x in enumerate(review_type_ids)}\n",
    "review_typeencoded2review_type = {i: x for i, x in enumerate(review_type_ids)}\n",
    "\n",
    "director_ids = df[\"directors\"].unique().tolist()\n",
    "director2director_encoded = {x: i for i, x in enumerate(director_ids)}\n",
    "directorencoded2director = {i: x for i, x in enumerate(director_ids)}\n",
    "\n",
    "df[\"user\"] = df[\"userId\"].map(user2user_encoded)\n",
    "df[\"movie\"] = df[\"movieId\"].map(movie2movie_encoded)\n",
    "df[\"genreCode\"] = df[\"genres\"].map(genres2genres_encoded)\n",
    "df[\"actorsCode\"] = df[\"actors\"].map(actors2actors_encoded)\n",
    "df[\"reviewTypeCode\"] = df[\"review_type\"].map(review2review_encoded)\n",
    "df[\"directorCode\"] = df[\"directors\"].map(director2director_encoded)\n",
    "\n",
    "num_users = len(user2user_encoded)\n",
    "num_movies = len(movie_encoded2movie)\n",
    "\n",
    "df[\"rating\"] = df[\"rating\"].values.astype(np.float32)\n",
    "# min and max ratings will be used to normalize the ratings later\n",
    "min_rating = min(df[\"rating\"])\n",
    "max_rating = max(df[\"rating\"])\n",
    "\n",
    "print(\n",
    "    \"Number of users: {}, Number of Movies: {}, Min rating: {}, Max rating: {}\".format(\n",
    "        num_users, num_movies, min_rating, max_rating\n",
    "    )\n",
    ")"
   ]
  },
  {
   "cell_type": "code",
   "execution_count": 50,
   "id": "fb799a5d",
   "metadata": {},
   "outputs": [
    {
     "data": {
      "text/html": [
       "<div>\n",
       "<style scoped>\n",
       "    .dataframe tbody tr th:only-of-type {\n",
       "        vertical-align: middle;\n",
       "    }\n",
       "\n",
       "    .dataframe tbody tr th {\n",
       "        vertical-align: top;\n",
       "    }\n",
       "\n",
       "    .dataframe thead th {\n",
       "        text-align: right;\n",
       "    }\n",
       "</style>\n",
       "<table border=\"1\" class=\"dataframe\">\n",
       "  <thead>\n",
       "    <tr style=\"text-align: right;\">\n",
       "      <th></th>\n",
       "      <th>userId</th>\n",
       "      <th>movieId</th>\n",
       "      <th>rating</th>\n",
       "      <th>timestamp</th>\n",
       "      <th>genres</th>\n",
       "      <th>actors</th>\n",
       "      <th>content_rating</th>\n",
       "      <th>review_type</th>\n",
       "      <th>directors</th>\n",
       "      <th>Movie_Release_Year</th>\n",
       "      <th>runtime</th>\n",
       "      <th>user</th>\n",
       "      <th>movie</th>\n",
       "      <th>genreCode</th>\n",
       "      <th>actorsCode</th>\n",
       "      <th>reviewTypeCode</th>\n",
       "      <th>directorCode</th>\n",
       "    </tr>\n",
       "  </thead>\n",
       "  <tbody>\n",
       "    <tr>\n",
       "      <th>228239</th>\n",
       "      <td>Kevin Carr</td>\n",
       "      <td>Dr. Seuss' The Cat in the Hat</td>\n",
       "      <td>9.0</td>\n",
       "      <td>2003-11-21</td>\n",
       "      <td>Comedy, Kids &amp; Family</td>\n",
       "      <td>Mike Myers, Alec Baldwin, Kelly Preston, Dakot...</td>\n",
       "      <td>PG</td>\n",
       "      <td>Rotten</td>\n",
       "      <td>Bo Welch</td>\n",
       "      <td>2003</td>\n",
       "      <td>82.0</td>\n",
       "      <td>140</td>\n",
       "      <td>1942</td>\n",
       "      <td>159</td>\n",
       "      <td>1989</td>\n",
       "      <td>1</td>\n",
       "      <td>1422</td>\n",
       "    </tr>\n",
       "    <tr>\n",
       "      <th>97359</th>\n",
       "      <td>Shaun Munro</td>\n",
       "      <td>A Dangerous Method</td>\n",
       "      <td>78.0</td>\n",
       "      <td>2011-11-23</td>\n",
       "      <td>Drama, Mystery &amp; Suspense</td>\n",
       "      <td>Keira Knightley, Viggo Mortensen, Michael Fass...</td>\n",
       "      <td>R</td>\n",
       "      <td>Fresh</td>\n",
       "      <td>David Cronenberg</td>\n",
       "      <td>2011</td>\n",
       "      <td>99.0</td>\n",
       "      <td>1322</td>\n",
       "      <td>983</td>\n",
       "      <td>10</td>\n",
       "      <td>1012</td>\n",
       "      <td>0</td>\n",
       "      <td>209</td>\n",
       "    </tr>\n",
       "    <tr>\n",
       "      <th>97903</th>\n",
       "      <td>Harris Dang</td>\n",
       "      <td>A Dog's Way Home</td>\n",
       "      <td>59.0</td>\n",
       "      <td>2019-01-11</td>\n",
       "      <td>Drama</td>\n",
       "      <td>Ashley Judd, Edward James Olmos, Alexandra Shi...</td>\n",
       "      <td>PG</td>\n",
       "      <td>Rotten</td>\n",
       "      <td>Charles Martin Smith</td>\n",
       "      <td>2019</td>\n",
       "      <td>96.0</td>\n",
       "      <td>3439</td>\n",
       "      <td>987</td>\n",
       "      <td>7</td>\n",
       "      <td>1016</td>\n",
       "      <td>1</td>\n",
       "      <td>803</td>\n",
       "    </tr>\n",
       "  </tbody>\n",
       "</table>\n",
       "</div>"
      ],
      "text/plain": [
       "             userId                        movieId  rating  timestamp  \\\n",
       "228239   Kevin Carr  Dr. Seuss' The Cat in the Hat     9.0 2003-11-21   \n",
       "97359   Shaun Munro             A Dangerous Method    78.0 2011-11-23   \n",
       "97903   Harris Dang               A Dog's Way Home    59.0 2019-01-11   \n",
       "\n",
       "                           genres  \\\n",
       "228239      Comedy, Kids & Family   \n",
       "97359   Drama, Mystery & Suspense   \n",
       "97903                       Drama   \n",
       "\n",
       "                                                   actors content_rating  \\\n",
       "228239  Mike Myers, Alec Baldwin, Kelly Preston, Dakot...             PG   \n",
       "97359   Keira Knightley, Viggo Mortensen, Michael Fass...              R   \n",
       "97903   Ashley Judd, Edward James Olmos, Alexandra Shi...             PG   \n",
       "\n",
       "       review_type             directors  Movie_Release_Year  runtime  user  \\\n",
       "228239      Rotten              Bo Welch                2003     82.0   140   \n",
       "97359        Fresh      David Cronenberg                2011     99.0  1322   \n",
       "97903       Rotten  Charles Martin Smith                2019     96.0  3439   \n",
       "\n",
       "        movie  genreCode  actorsCode  reviewTypeCode  directorCode  \n",
       "228239   1942        159        1989               1          1422  \n",
       "97359     983         10        1012               0           209  \n",
       "97903     987          7        1016               1           803  "
      ]
     },
     "execution_count": 50,
     "metadata": {},
     "output_type": "execute_result"
    }
   ],
   "source": [
    "df.sample(3)"
   ]
  },
  {
   "cell_type": "code",
   "execution_count": 51,
   "id": "c69a5da6",
   "metadata": {},
   "outputs": [
    {
     "name": "stdout",
     "output_type": "stream",
     "text": [
      "<class 'pandas.core.frame.DataFrame'>\n",
      "Int64Index: 881353 entries, 0 to 1129878\n",
      "Data columns (total 17 columns):\n",
      " #   Column              Non-Null Count   Dtype         \n",
      "---  ------              --------------   -----         \n",
      " 0   userId              881353 non-null  object        \n",
      " 1   movieId             881353 non-null  object        \n",
      " 2   rating              881353 non-null  float32       \n",
      " 3   timestamp           881353 non-null  datetime64[ns]\n",
      " 4   genres              881353 non-null  object        \n",
      " 5   actors              881353 non-null  object        \n",
      " 6   content_rating      881353 non-null  object        \n",
      " 7   review_type         881353 non-null  object        \n",
      " 8   directors           881353 non-null  object        \n",
      " 9   Movie_Release_Year  881353 non-null  int64         \n",
      " 10  runtime             881353 non-null  float64       \n",
      " 11  user                881353 non-null  int64         \n",
      " 12  movie               881353 non-null  int64         \n",
      " 13  genreCode           881353 non-null  int64         \n",
      " 14  actorsCode          881353 non-null  int64         \n",
      " 15  reviewTypeCode      881353 non-null  int64         \n",
      " 16  directorCode        881353 non-null  int64         \n",
      "dtypes: datetime64[ns](1), float32(1), float64(1), int64(7), object(7)\n",
      "memory usage: 117.7+ MB\n"
     ]
    }
   ],
   "source": [
    "df.info()"
   ]
  },
  {
   "cell_type": "markdown",
   "id": "Syf-IjV4z4HB",
   "metadata": {
    "id": "Syf-IjV4z4HB"
   },
   "source": [
    "### Preparing training and validation data"
   ]
  },
  {
   "cell_type": "code",
   "execution_count": 52,
   "id": "c9356264",
   "metadata": {},
   "outputs": [],
   "source": [
    "reference_time = pd.Timestamp('1970-01-01')  # Unix Epoch\n",
    "df['timestamp'] = df['timestamp'].apply(lambda x: int((x - reference_time).total_seconds()))"
   ]
  },
  {
   "cell_type": "code",
   "execution_count": 53,
   "id": "19e1481e",
   "metadata": {
    "id": "19e1481e"
   },
   "outputs": [],
   "source": [
    "df = df.sample(frac=1, random_state=42)\n",
    "x = df[[\"user\", \"movie\", 'timestamp',\"genreCode\",\"actorsCode\",'directorCode','reviewTypeCode', 'Movie_Release_Year', 'runtime' ]].values \n",
    "\n",
    "# Normalize the targets between 0 and 1. Makes it easy to train.\n",
    "y = df[\"rating\"].apply(lambda x: (x - min_rating) / (max_rating - min_rating)).values\n",
    "\n",
    "\n",
    "# Training on 80% of the data and validating on 20%.\n",
    "train_indices = int(0.8 * df.shape[0])\n",
    "x_train, x_val, y_train, y_val = (\n",
    "    x[:train_indices],\n",
    "    x[train_indices:],\n",
    "    y[:train_indices],\n",
    "    y[train_indices:],\n",
    ")"
   ]
  },
  {
   "cell_type": "markdown",
   "id": "TZh0OFGUB7uH",
   "metadata": {
    "id": "TZh0OFGUB7uH"
   },
   "source": [
    "### Building the Neural Network Model"
   ]
  },
  {
   "cell_type": "code",
   "execution_count": 54,
   "id": "5c96707d",
   "metadata": {
    "id": "294cc856"
   },
   "outputs": [],
   "source": [
    "\n",
    "EMBEDDING_SIZE = 50\n",
    "\n",
    "class RecommenderNet(keras.Model):\n",
    "    def __init__(self, num_users, num_movies, embedding_size, **kwargs):\n",
    "        super().__init__(**kwargs)\n",
    "        self.num_users = num_users\n",
    "        self.num_movies = num_movies\n",
    "        self.embedding_size = embedding_size\n",
    "\n",
    "        self.user_embedding = layers.Embedding(\n",
    "            num_users,\n",
    "            embedding_size,\n",
    "            embeddings_initializer=\"he_normal\",\n",
    "            embeddings_regularizer=keras.regularizers.l2(1e-4),\n",
    "        )\n",
    "\n",
    "        self.user_bias = layers.Embedding(num_users, 1)\n",
    "        self.movie_embedding = layers.Embedding(\n",
    "            num_movies,\n",
    "            embedding_size,\n",
    "            embeddings_initializer=\"he_normal\",\n",
    "            embeddings_regularizer=keras.regularizers.l2(1e-4),\n",
    "        )\n",
    "        self.movie_bias = layers.Embedding(num_movies, 1)\n",
    "        self.dropout = layers.Dropout(0.2)  # Add a dropout layer with a dropout rate of 0.2\n",
    "\n",
    "       \n",
    "\n",
    "    def call(self, inputs):\n",
    "        user_vector = self.user_embedding(inputs[:, 0])\n",
    "        user_vector = self.dropout(user_vector)  # Apply dropout\n",
    "        user_bias = self.user_bias(inputs[:, 0])\n",
    "        movie_vector = self.movie_embedding(inputs[:, 1])\n",
    "        movie_vector = self.dropout(movie_vector)  # Apply dropout\n",
    "        movie_bias = self.movie_bias(inputs[:, 1])\n",
    "        dot_user_movie = tf.tensordot(user_vector, movie_vector, 2)\n",
    "        # Add all the components (including bias)\n",
    "        x = dot_user_movie + user_bias + movie_bias\n",
    "       \n",
    "        # The sigmoid activation forces the rating to between 0 and 1\n",
    "        return tf.nn.sigmoid(x)\n",
    "\n",
    "model = RecommenderNet(num_users, num_movies, EMBEDDING_SIZE)\n",
    "model.compile(run_eagerly=True, metrics=['accuracy'],\n",
    "    loss=tf.keras.losses.BinaryCrossentropy(),\n",
    "    optimizer=keras.optimizers.Adam(learning_rate=0.01)\n",
    ")"
   ]
  },
  {
   "cell_type": "markdown",
   "id": "-G4FRsEc0YbP",
   "metadata": {
    "id": "-G4FRsEc0YbP"
   },
   "source": [
    "### Training the model based on the data split"
   ]
  },
  {
   "cell_type": "code",
   "execution_count": 55,
   "id": "bf100334",
   "metadata": {
    "id": "294cc856"
   },
   "outputs": [
    {
     "name": "stdout",
     "output_type": "stream",
     "text": [
      "Epoch 1/25\n",
      "22034/22034 [==============================] - 421s 19ms/step - loss: 10.7356 - accuracy: 0.0047 - val_loss: 10.5870 - val_accuracy: 0.0054\n",
      "Epoch 2/25\n",
      "22034/22034 [==============================] - 398s 18ms/step - loss: 9.1081 - accuracy: 0.0058 - val_loss: 7.3872 - val_accuracy: 0.0065\n",
      "Epoch 3/25\n",
      "22034/22034 [==============================] - 408s 18ms/step - loss: 7.7681 - accuracy: 0.0064 - val_loss: 7.4720 - val_accuracy: 0.0066\n",
      "Epoch 4/25\n",
      "22034/22034 [==============================] - 403s 18ms/step - loss: 7.7546 - accuracy: 0.0067 - val_loss: 7.4745 - val_accuracy: 0.0068\n",
      "Epoch 5/25\n",
      "22034/22034 [==============================] - 403s 18ms/step - loss: 7.6157 - accuracy: 0.0069 - val_loss: 7.2432 - val_accuracy: 0.0070\n",
      "Epoch 6/25\n",
      "22034/22034 [==============================] - 398s 18ms/step - loss: 7.6778 - accuracy: 0.0070 - val_loss: 7.2952 - val_accuracy: 0.0070\n",
      "Epoch 7/25\n",
      "22034/22034 [==============================] - 396s 18ms/step - loss: 7.6615 - accuracy: 0.0071 - val_loss: 7.1796 - val_accuracy: 0.0070\n",
      "Epoch 8/25\n",
      "22034/22034 [==============================] - 402s 18ms/step - loss: 7.6932 - accuracy: 0.0071 - val_loss: 7.2820 - val_accuracy: 0.0070\n",
      "Epoch 9/25\n",
      "22034/22034 [==============================] - 393s 18ms/step - loss: 7.6600 - accuracy: 0.0071 - val_loss: 7.2079 - val_accuracy: 0.0070\n",
      "Epoch 10/25\n",
      "22034/22034 [==============================] - 400s 18ms/step - loss: 7.6402 - accuracy: 0.0072 - val_loss: 7.0732 - val_accuracy: 0.0071\n",
      "Epoch 11/25\n",
      "22034/22034 [==============================] - 388s 18ms/step - loss: 7.6672 - accuracy: 0.0072 - val_loss: 7.3813 - val_accuracy: 0.0071\n",
      "Epoch 12/25\n",
      "22034/22034 [==============================] - 394s 18ms/step - loss: 7.6440 - accuracy: 0.0072 - val_loss: 7.2553 - val_accuracy: 0.0071\n",
      "Epoch 13/25\n",
      "22034/22034 [==============================] - 389s 18ms/step - loss: 7.6839 - accuracy: 0.0072 - val_loss: 7.1552 - val_accuracy: 0.0071\n"
     ]
    }
   ],
   "source": [
    "early_stopping = tf.keras.callbacks.EarlyStopping(\n",
    "    monitor='val_loss',\n",
    "    patience=3,\n",
    "    restore_best_weights=True\n",
    ")\n",
    "\n",
    "history = model.fit(\n",
    "    x=x_train,\n",
    "    y=y_train,\n",
    "    batch_size=32,\n",
    "    epochs=25,\n",
    "    verbose=1,\n",
    "    validation_data=(x_val, y_val),\n",
    "    callbacks=[early_stopping]\n",
    ")"
   ]
  },
  {
   "cell_type": "markdown",
   "id": "75a6bba8",
   "metadata": {},
   "source": [
    "### Evaluating the Model"
   ]
  },
  {
   "cell_type": "code",
   "execution_count": 56,
   "id": "294cc856",
   "metadata": {
    "id": "294cc856"
   },
   "outputs": [
    {
     "name": "stdout",
     "output_type": "stream",
     "text": [
      "5509/5509 [==============================] - 37s 7ms/step - loss: 7.0732 - accuracy: 0.0071\n",
      "Test Loss: 7.0731587409973145\n",
      "Test Accuracy: 0.007080007344484329\n"
     ]
    }
   ],
   "source": [
    "# Evaluate the model on the test data\n",
    "test_loss, test_accuracy = model.evaluate(x_val, y_val)\n",
    "\n",
    "# Print the evaluation results\n",
    "print(\"Test Loss:\", test_loss)\n",
    "print(\"Test Accuracy:\", test_accuracy)"
   ]
  },
  {
   "cell_type": "code",
   "execution_count": 57,
   "id": "c08e6619",
   "metadata": {},
   "outputs": [
    {
     "name": "stdout",
     "output_type": "stream",
     "text": [
      "5509/5509 [==============================] - 13s 2ms/step\n",
      "RMSE: 0.3408802452602441\n",
      "MAE: 0.2710868583889593\n"
     ]
    }
   ],
   "source": [
    "# Make predictions on the test data\n",
    "y_pred = model.predict(x_val)\n",
    "\n",
    "# Convert the predicted ratings to binary labels using a threshold\n",
    "threshold = 0.5\n",
    "y_pred_binary = (y_pred >= threshold).astype(int)\n",
    "\n",
    "# Convert the true labels to binary using a threshold\n",
    "y_test_binary = (y_val >= threshold).astype(int)\n",
    "\n",
    "# Calculate RMSE and MAE (for regression evaluation)\n",
    "rmse = np.sqrt(mean_squared_error(y_val, y_pred))\n",
    "mae = mean_absolute_error(y_val, y_pred)\n",
    "\n",
    "\n",
    "# Print the evaluation results\n",
    "print(\"RMSE:\", rmse)\n",
    "print(\"MAE:\", mae)\n"
   ]
  },
  {
   "cell_type": "code",
   "execution_count": 58,
   "id": "90629552",
   "metadata": {},
   "outputs": [],
   "source": [
    "def calculate_hit_ratio_at_k(y_true, y_pred, threshold=0.5, k=10):\n",
    "    \"\"\"\n",
    "    Calculate the hit ratio at K of the recommender model.\n",
    "    \n",
    "    Parameters:\n",
    "        y_true (numpy array): True ratings of the items.\n",
    "        y_pred (numpy array): Predicted ratings of the items.\n",
    "        threshold (float): Threshold to classify positive ratings (default is 0.5).\n",
    "        k (int): Number of top recommendations to consider (default is 10).\n",
    "        \n",
    "    Returns:\n",
    "        float: Hit ratio at K of the model.\n",
    "    \"\"\"\n",
    "    y_true_binary = (y_true >= threshold)\n",
    "    \n",
    "    # Get the indices of the top K recommendations for each user\n",
    "    top_k_indices = np.argsort(y_pred, axis=0)[-k:]\n",
    "    \n",
    "    total_hits_at_k = 0\n",
    "    for i in range(y_true.shape[0]):\n",
    "        if y_true_binary[i] == 1 and i in top_k_indices:\n",
    "            total_hits_at_k += 1\n",
    "    \n",
    "    hit_ratio_at_k = total_hits_at_k / k\n",
    "    return hit_ratio_at_k\n",
    "\n"
   ]
  },
  {
   "cell_type": "code",
   "execution_count": 59,
   "id": "89e80b4b",
   "metadata": {},
   "outputs": [
    {
     "name": "stdout",
     "output_type": "stream",
     "text": [
      "Hit Ratio at 10: 1.0\n"
     ]
    }
   ],
   "source": [
    "#Hit ratio at 10\n",
    "hit_ratio_at_10 = calculate_hit_ratio_at_k(y_val, y_pred, k=10)\n",
    "\n",
    "print(\"Hit Ratio at 10:\", hit_ratio_at_10)\n",
    "\n"
   ]
  },
  {
   "cell_type": "markdown",
   "id": "Mpy4tqcZ0lxB",
   "metadata": {
    "id": "Mpy4tqcZ0lxB"
   },
   "source": [
    "**Plot training and validation loss**"
   ]
  },
  {
   "cell_type": "code",
   "execution_count": 60,
   "id": "ba632c45",
   "metadata": {},
   "outputs": [
    {
     "data": {
      "image/png": "[encoded data removed]",
      "text/plain": [
       "<Figure size 640x480 with 1 Axes>"
      ]
     },
     "metadata": {},
     "output_type": "display_data"
    }
   ],
   "source": [
    "import matplotlib.pyplot as plt\n",
    "\n",
    "# Plot the training loss and validation loss\n",
    "plt.plot(history.history[\"loss\"])\n",
    "plt.plot(history.history[\"val_loss\"])\n",
    "plt.title(\"Model Loss and Accuracy\")\n",
    "plt.ylabel(\"Loss/Accuracy\")\n",
    "plt.xlabel(\"Epoch\")\n",
    "plt.legend([\"Train Loss\", \"Validation Loss\"], loc=\"upper right\")\n",
    "plt.show()\n",
    "\n"
   ]
  },
  {
   "cell_type": "code",
   "execution_count": 61,
   "id": "5233e2a8",
   "metadata": {},
   "outputs": [
    {
     "data": {
      "image/png": "[encoded data removed]",
      "text/plain": [
       "<Figure size 640x480 with 1 Axes>"
      ]
     },
     "metadata": {},
     "output_type": "display_data"
    }
   ],
   "source": [
    "# Plot the training loss and validation loss\n",
    "plt.plot(history.history[\"loss\"])\n",
    "plt.plot(history.history[\"val_loss\"])\n",
    "plt.title(\"model loss\")\n",
    "plt.ylabel(\"loss\")\n",
    "plt.xlabel(\"epoch\")\n",
    "plt.legend([\"train\", \"test\"], loc=\"upper left\")\n",
    "plt.show()\n"
   ]
  },
  {
   "cell_type": "markdown",
   "id": "82f2c6f3",
   "metadata": {},
   "source": [
    "### Recommending Top-10 movie"
   ]
  },
  {
   "cell_type": "code",
   "execution_count": 62,
   "id": "9aa07dc8",
   "metadata": {},
   "outputs": [
    {
     "name": "stdout",
     "output_type": "stream",
     "text": [
      "247/247 [==============================] - 1s 4ms/step\n",
      "Showing recommendations for user: 2975\n",
      "====================================\n",
      "Top 10 movie recommendations\n",
      "--------------------------------\n",
      "Kangaroo Jack\n",
      "Mumford\n",
      "The Ice Storm\n",
      "In Fear\n",
      "X-Men: Apocalypse\n",
      "Hounddog\n",
      "Youssou Ndour: I Bring What I Love\n",
      "Fast & Furious\n",
      "Mao's Last Dancer\n",
      "Near Dark\n"
     ]
    }
   ],
   "source": [
    "# Generate recommendations for a user\n",
    "\n",
    "user_id = df[\"user\"].sample(1).iloc[0]\n",
    "user_movies = df[df[\"user\"] == user_id][\"movie\"]\n",
    "movies_not_watched = df[~df[\"movie\"].isin(user_movies)][\"movie\"].unique()\n",
    "user_encoded = df[df[\"user\"] == user_id][\"user\"].iloc[0]\n",
    "\n",
    "# Check if the user has watched any movies\n",
    "if len(user_movies) > 0:\n",
    "    movies_not_watched_encoded = [movie for movie in movies_not_watched if movie in range(num_movies)]\n",
    "    if len(movies_not_watched_encoded) > 0:\n",
    "        user_movie_array = np.column_stack(([user_encoded] * len(movies_not_watched_encoded), movies_not_watched_encoded))\n",
    "        ratings = model.predict(user_movie_array).flatten()\n",
    "        top_ratings_indices = ratings.argsort()[-10:][::-1]\n",
    "        recommended_movie_ids = [movies_not_watched_encoded[i] for i in top_ratings_indices]\n",
    "\n",
    "        # Map the encoded movie IDs to their original movie titles\n",
    "        movie_encoded2movie = {i: movie_title for i, movie_title in enumerate(df[\"movieId\"].unique())}\n",
    "\n",
    "        # Print the recommended movies\n",
    "        print(\"Showing recommendations for user: {}\".format(user_id))\n",
    "        print(\"====\" * 9)\n",
    "        print(\"Top 10 movie recommendations\")\n",
    "        print(\"----\" * 8)\n",
    "        recommended_movies = [movie_encoded2movie.get(movie_id) for movie_id in recommended_movie_ids]\n",
    "        for movie_id in recommended_movies:\n",
    "            \n",
    "            print(movie_id, )\n",
    "    else:\n",
    "        print(\"No movie recommendations available for the user.\")\n",
    "else:\n",
    "    print(\"No movie recommendations available for the user.\")"
   ]
  },
  {
   "cell_type": "markdown",
   "id": "ce180225",
   "metadata": {},
   "source": [
    "### Data Analysis of Result"
   ]
  },
  {
   "cell_type": "markdown",
   "id": "d144177a",
   "metadata": {},
   "source": [
    "**To Show the effectiveness of the model, we perform some analysis of the result**"
   ]
  },
  {
   "cell_type": "code",
   "execution_count": 63,
   "id": "d28bac59",
   "metadata": {},
   "outputs": [
    {
     "name": "stdout",
     "output_type": "stream",
     "text": [
      "222/222 [==============================] - 1s 2ms/step\n"
     ]
    },
    {
     "name": "stderr",
     "output_type": "stream",
     "text": [
      "C:\\Users\\701492\\AppData\\Local\\Temp\\ipykernel_13736\\497318544.py:27: FutureWarning: The frame.append method is deprecated and will be removed from pandas in a future version. Use pandas.concat instead.\n",
      "  recommendations_df = recommendations_df.append({\"User ID R\": user_id, \"Recommended Movies\": \", \".join(recommendations)}, ignore_index=True)\n"
     ]
    },
    {
     "name": "stdout",
     "output_type": "stream",
     "text": [
      "227/227 [==============================] - 0s 2ms/step\n"
     ]
    },
    {
     "name": "stderr",
     "output_type": "stream",
     "text": [
      "C:\\Users\\701492\\AppData\\Local\\Temp\\ipykernel_13736\\497318544.py:27: FutureWarning: The frame.append method is deprecated and will be removed from pandas in a future version. Use pandas.concat instead.\n",
      "  recommendations_df = recommendations_df.append({\"User ID R\": user_id, \"Recommended Movies\": \", \".join(recommendations)}, ignore_index=True)\n"
     ]
    },
    {
     "name": "stdout",
     "output_type": "stream",
     "text": [
      "176/176 [==============================] - 1s 4ms/step\n"
     ]
    },
    {
     "name": "stderr",
     "output_type": "stream",
     "text": [
      "C:\\Users\\701492\\AppData\\Local\\Temp\\ipykernel_13736\\497318544.py:27: FutureWarning: The frame.append method is deprecated and will be removed from pandas in a future version. Use pandas.concat instead.\n",
      "  recommendations_df = recommendations_df.append({\"User ID R\": user_id, \"Recommended Movies\": \", \".join(recommendations)}, ignore_index=True)\n"
     ]
    },
    {
     "name": "stdout",
     "output_type": "stream",
     "text": [
      "247/247 [==============================] - 1s 2ms/step\n"
     ]
    },
    {
     "name": "stderr",
     "output_type": "stream",
     "text": [
      "C:\\Users\\701492\\AppData\\Local\\Temp\\ipykernel_13736\\497318544.py:27: FutureWarning: The frame.append method is deprecated and will be removed from pandas in a future version. Use pandas.concat instead.\n",
      "  recommendations_df = recommendations_df.append({\"User ID R\": user_id, \"Recommended Movies\": \", \".join(recommendations)}, ignore_index=True)\n"
     ]
    },
    {
     "name": "stdout",
     "output_type": "stream",
     "text": [
      "226/226 [==============================] - 1s 4ms/step\n"
     ]
    },
    {
     "name": "stderr",
     "output_type": "stream",
     "text": [
      "C:\\Users\\701492\\AppData\\Local\\Temp\\ipykernel_13736\\497318544.py:27: FutureWarning: The frame.append method is deprecated and will be removed from pandas in a future version. Use pandas.concat instead.\n",
      "  recommendations_df = recommendations_df.append({\"User ID R\": user_id, \"Recommended Movies\": \", \".join(recommendations)}, ignore_index=True)\n"
     ]
    },
    {
     "name": "stdout",
     "output_type": "stream",
     "text": [
      "212/212 [==============================] - 0s 2ms/step\n"
     ]
    },
    {
     "name": "stderr",
     "output_type": "stream",
     "text": [
      "C:\\Users\\701492\\AppData\\Local\\Temp\\ipykernel_13736\\497318544.py:27: FutureWarning: The frame.append method is deprecated and will be removed from pandas in a future version. Use pandas.concat instead.\n",
      "  recommendations_df = recommendations_df.append({\"User ID R\": user_id, \"Recommended Movies\": \", \".join(recommendations)}, ignore_index=True)\n"
     ]
    },
    {
     "name": "stdout",
     "output_type": "stream",
     "text": [
      "247/247 [==============================] - 1s 4ms/step\n"
     ]
    },
    {
     "name": "stderr",
     "output_type": "stream",
     "text": [
      "C:\\Users\\701492\\AppData\\Local\\Temp\\ipykernel_13736\\497318544.py:27: FutureWarning: The frame.append method is deprecated and will be removed from pandas in a future version. Use pandas.concat instead.\n",
      "  recommendations_df = recommendations_df.append({\"User ID R\": user_id, \"Recommended Movies\": \", \".join(recommendations)}, ignore_index=True)\n"
     ]
    },
    {
     "name": "stdout",
     "output_type": "stream",
     "text": [
      "243/243 [==============================] - 1s 2ms/step\n"
     ]
    },
    {
     "name": "stderr",
     "output_type": "stream",
     "text": [
      "C:\\Users\\701492\\AppData\\Local\\Temp\\ipykernel_13736\\497318544.py:27: FutureWarning: The frame.append method is deprecated and will be removed from pandas in a future version. Use pandas.concat instead.\n",
      "  recommendations_df = recommendations_df.append({\"User ID R\": user_id, \"Recommended Movies\": \", \".join(recommendations)}, ignore_index=True)\n"
     ]
    },
    {
     "name": "stdout",
     "output_type": "stream",
     "text": [
      "227/227 [==============================] - 1s 3ms/step\n"
     ]
    },
    {
     "name": "stderr",
     "output_type": "stream",
     "text": [
      "C:\\Users\\701492\\AppData\\Local\\Temp\\ipykernel_13736\\497318544.py:27: FutureWarning: The frame.append method is deprecated and will be removed from pandas in a future version. Use pandas.concat instead.\n",
      "  recommendations_df = recommendations_df.append({\"User ID R\": user_id, \"Recommended Movies\": \", \".join(recommendations)}, ignore_index=True)\n"
     ]
    },
    {
     "name": "stdout",
     "output_type": "stream",
     "text": [
      "245/245 [==============================] - 1s 2ms/step\n"
     ]
    },
    {
     "name": "stderr",
     "output_type": "stream",
     "text": [
      "C:\\Users\\701492\\AppData\\Local\\Temp\\ipykernel_13736\\497318544.py:27: FutureWarning: The frame.append method is deprecated and will be removed from pandas in a future version. Use pandas.concat instead.\n",
      "  recommendations_df = recommendations_df.append({\"User ID R\": user_id, \"Recommended Movies\": \", \".join(recommendations)}, ignore_index=True)\n"
     ]
    },
    {
     "data": {
      "text/html": [
       "<div>\n",
       "<style scoped>\n",
       "    .dataframe tbody tr th:only-of-type {\n",
       "        vertical-align: middle;\n",
       "    }\n",
       "\n",
       "    .dataframe tbody tr th {\n",
       "        vertical-align: top;\n",
       "    }\n",
       "\n",
       "    .dataframe thead th {\n",
       "        text-align: right;\n",
       "    }\n",
       "</style>\n",
       "<table border=\"1\" class=\"dataframe\">\n",
       "  <thead>\n",
       "    <tr style=\"text-align: right;\">\n",
       "      <th></th>\n",
       "      <th>User ID R</th>\n",
       "      <th>Recommended Movies</th>\n",
       "    </tr>\n",
       "  </thead>\n",
       "  <tbody>\n",
       "    <tr>\n",
       "      <th>0</th>\n",
       "      <td>91</td>\n",
       "      <td>7263, 5678, 6992, 2132, 4313, 3757, 6557, 2357...</td>\n",
       "    </tr>\n",
       "    <tr>\n",
       "      <th>1</th>\n",
       "      <td>170</td>\n",
       "      <td>1701, 4415, 5139, 3712, 5655, 1852, 3113, 6589...</td>\n",
       "    </tr>\n",
       "    <tr>\n",
       "      <th>2</th>\n",
       "      <td>442</td>\n",
       "      <td>7263, 1827, 885, 5719, 1889, 6201, 5752, 5873,...</td>\n",
       "    </tr>\n",
       "    <tr>\n",
       "      <th>3</th>\n",
       "      <td>475</td>\n",
       "      <td>6350, 2220, 6777, 4936, 4159, 4703, 6055, 3648...</td>\n",
       "    </tr>\n",
       "    <tr>\n",
       "      <th>4</th>\n",
       "      <td>678</td>\n",
       "      <td>326, 1329, 6543, 1275, 5242, 980, 6489, 5693, ...</td>\n",
       "    </tr>\n",
       "    <tr>\n",
       "      <th>5</th>\n",
       "      <td>688</td>\n",
       "      <td>4250, 6485, 6541, 1445, 1367, 5802, 4141, 7010...</td>\n",
       "    </tr>\n",
       "    <tr>\n",
       "      <th>6</th>\n",
       "      <td>845</td>\n",
       "      <td>7527, 5414, 4638, 5753, 7235, 3240, 6373, 5932...</td>\n",
       "    </tr>\n",
       "    <tr>\n",
       "      <th>7</th>\n",
       "      <td>2149</td>\n",
       "      <td>398, 7250, 4105, 3, 3084, 4703, 3953, 7500, 37...</td>\n",
       "    </tr>\n",
       "    <tr>\n",
       "      <th>8</th>\n",
       "      <td>4591</td>\n",
       "      <td>1498, 3084, 5414, 259, 4141, 7262, 7261, 2598,...</td>\n",
       "    </tr>\n",
       "    <tr>\n",
       "      <th>9</th>\n",
       "      <td>7079</td>\n",
       "      <td>6350, 5752, 5775, 5414, 4105, 5123, 4058, 5240...</td>\n",
       "    </tr>\n",
       "  </tbody>\n",
       "</table>\n",
       "</div>"
      ],
      "text/plain": [
       "   User ID R                                 Recommended Movies\n",
       "0         91  7263, 5678, 6992, 2132, 4313, 3757, 6557, 2357...\n",
       "1        170  1701, 4415, 5139, 3712, 5655, 1852, 3113, 6589...\n",
       "2        442  7263, 1827, 885, 5719, 1889, 6201, 5752, 5873,...\n",
       "3        475  6350, 2220, 6777, 4936, 4159, 4703, 6055, 3648...\n",
       "4        678  326, 1329, 6543, 1275, 5242, 980, 6489, 5693, ...\n",
       "5        688  4250, 6485, 6541, 1445, 1367, 5802, 4141, 7010...\n",
       "6        845  7527, 5414, 4638, 5753, 7235, 3240, 6373, 5932...\n",
       "7       2149  398, 7250, 4105, 3, 3084, 4703, 3953, 7500, 37...\n",
       "8       4591  1498, 3084, 5414, 259, 4141, 7262, 7261, 2598,...\n",
       "9       7079  6350, 5752, 5775, 5414, 4105, 5123, 4058, 5240..."
      ]
     },
     "execution_count": 63,
     "metadata": {},
     "output_type": "execute_result"
    }
   ],
   "source": [
    "# Create an empty dataframe to store the recommendations\n",
    "recommendations_df = pd.DataFrame(columns=[\"User ID R\", \"Recommended Movies\"])\n",
    "\n",
    "for _ in range(10):\n",
    "    # Generate recommendations for a user\n",
    "    user_id = df[\"user\"].sample(1).iloc[0]\n",
    "    user_movies = df[df[\"user\"] == user_id][\"movie\"]\n",
    "    movies_not_watched = df[~df[\"movie\"].isin(user_movies)][\"movie\"].unique()\n",
    "    user_encoded = df[df[\"user\"] == user_id][\"user\"].iloc[0]\n",
    "\n",
    "    recommendations = []  # List to store recommended movie IDs\n",
    "\n",
    "    # Check if the user has watched any movies\n",
    "    if len(user_movies) > 0:\n",
    "        movies_not_watched_encoded = [movie for movie in movies_not_watched if movie in range(num_movies)]\n",
    "        if len(movies_not_watched_encoded) > 0:\n",
    "            user_movie_array = np.column_stack(([user_encoded] * len(movies_not_watched_encoded), movies_not_watched_encoded))\n",
    "            ratings = model.predict(user_movie_array).flatten()\n",
    "            top_ratings_indices = ratings.argsort()[-10:][::-1]\n",
    "            recommended_movie_ids = [movies_not_watched_encoded[i] for i in top_ratings_indices]\n",
    "\n",
    "            recommendations.extend(str(movie_id) for movie_id in recommended_movie_ids)\n",
    "    \n",
    "    # Append the recommendations to the dataframe\n",
    "    recommendations_df = recommendations_df.append({\"User ID R\": user_id, \"Recommended Movies\": \", \".join(recommendations)}, ignore_index=True)\n",
    "\n",
    "# Group the recommendations by user ID\n",
    "grouped_recommendations_df = recommendations_df.groupby(\"User ID R\")[\"Recommended Movies\"].apply(lambda x: \", \".join(x)).reset_index()\n",
    "\n",
    "# Print the grouped recommendations dataframe\n",
    "grouped_recommendations_df"
   ]
  },
  {
   "cell_type": "code",
   "execution_count": 64,
   "id": "dac757ca",
   "metadata": {},
   "outputs": [
    {
     "data": {
      "text/html": [
       "<div>\n",
       "<style scoped>\n",
       "    .dataframe tbody tr th:only-of-type {\n",
       "        vertical-align: middle;\n",
       "    }\n",
       "\n",
       "    .dataframe tbody tr th {\n",
       "        vertical-align: top;\n",
       "    }\n",
       "\n",
       "    .dataframe thead th {\n",
       "        text-align: right;\n",
       "    }\n",
       "</style>\n",
       "<table border=\"1\" class=\"dataframe\">\n",
       "  <thead>\n",
       "    <tr style=\"text-align: right;\">\n",
       "      <th></th>\n",
       "      <th>User ID R</th>\n",
       "      <th>Movie 1</th>\n",
       "      <th>Movie 2</th>\n",
       "      <th>Movie 3</th>\n",
       "      <th>Movie 4</th>\n",
       "      <th>Movie 5</th>\n",
       "      <th>Movie 6</th>\n",
       "      <th>Movie 7</th>\n",
       "      <th>Movie 8</th>\n",
       "      <th>Movie 9</th>\n",
       "      <th>Movie 10</th>\n",
       "    </tr>\n",
       "  </thead>\n",
       "  <tbody>\n",
       "    <tr>\n",
       "      <th>0</th>\n",
       "      <td>91</td>\n",
       "      <td>7263</td>\n",
       "      <td>5678</td>\n",
       "      <td>6992</td>\n",
       "      <td>2132</td>\n",
       "      <td>4313</td>\n",
       "      <td>3757</td>\n",
       "      <td>6557</td>\n",
       "      <td>2357</td>\n",
       "      <td>5085</td>\n",
       "      <td>5458</td>\n",
       "    </tr>\n",
       "    <tr>\n",
       "      <th>1</th>\n",
       "      <td>170</td>\n",
       "      <td>1701</td>\n",
       "      <td>4415</td>\n",
       "      <td>5139</td>\n",
       "      <td>3712</td>\n",
       "      <td>5655</td>\n",
       "      <td>1852</td>\n",
       "      <td>3113</td>\n",
       "      <td>6589</td>\n",
       "      <td>6453</td>\n",
       "      <td>886</td>\n",
       "    </tr>\n",
       "    <tr>\n",
       "      <th>2</th>\n",
       "      <td>442</td>\n",
       "      <td>7263</td>\n",
       "      <td>1827</td>\n",
       "      <td>885</td>\n",
       "      <td>5719</td>\n",
       "      <td>1889</td>\n",
       "      <td>6201</td>\n",
       "      <td>5752</td>\n",
       "      <td>5873</td>\n",
       "      <td>391</td>\n",
       "      <td>6714</td>\n",
       "    </tr>\n",
       "    <tr>\n",
       "      <th>3</th>\n",
       "      <td>475</td>\n",
       "      <td>6350</td>\n",
       "      <td>2220</td>\n",
       "      <td>6777</td>\n",
       "      <td>4936</td>\n",
       "      <td>4159</td>\n",
       "      <td>4703</td>\n",
       "      <td>6055</td>\n",
       "      <td>3648</td>\n",
       "      <td>6412</td>\n",
       "      <td>4473</td>\n",
       "    </tr>\n",
       "    <tr>\n",
       "      <th>4</th>\n",
       "      <td>678</td>\n",
       "      <td>326</td>\n",
       "      <td>1329</td>\n",
       "      <td>6543</td>\n",
       "      <td>1275</td>\n",
       "      <td>5242</td>\n",
       "      <td>980</td>\n",
       "      <td>6489</td>\n",
       "      <td>5693</td>\n",
       "      <td>4110</td>\n",
       "      <td>841</td>\n",
       "    </tr>\n",
       "    <tr>\n",
       "      <th>5</th>\n",
       "      <td>688</td>\n",
       "      <td>4250</td>\n",
       "      <td>6485</td>\n",
       "      <td>6541</td>\n",
       "      <td>1445</td>\n",
       "      <td>1367</td>\n",
       "      <td>5802</td>\n",
       "      <td>4141</td>\n",
       "      <td>7010</td>\n",
       "      <td>6105</td>\n",
       "      <td>7262</td>\n",
       "    </tr>\n",
       "    <tr>\n",
       "      <th>6</th>\n",
       "      <td>845</td>\n",
       "      <td>7527</td>\n",
       "      <td>5414</td>\n",
       "      <td>4638</td>\n",
       "      <td>5753</td>\n",
       "      <td>7235</td>\n",
       "      <td>3240</td>\n",
       "      <td>6373</td>\n",
       "      <td>5932</td>\n",
       "      <td>7500</td>\n",
       "      <td>7537</td>\n",
       "    </tr>\n",
       "    <tr>\n",
       "      <th>7</th>\n",
       "      <td>2149</td>\n",
       "      <td>398</td>\n",
       "      <td>7250</td>\n",
       "      <td>4105</td>\n",
       "      <td>3</td>\n",
       "      <td>3084</td>\n",
       "      <td>4703</td>\n",
       "      <td>3953</td>\n",
       "      <td>7500</td>\n",
       "      <td>3732</td>\n",
       "      <td>5845</td>\n",
       "    </tr>\n",
       "    <tr>\n",
       "      <th>8</th>\n",
       "      <td>4591</td>\n",
       "      <td>1498</td>\n",
       "      <td>3084</td>\n",
       "      <td>5414</td>\n",
       "      <td>259</td>\n",
       "      <td>4141</td>\n",
       "      <td>7262</td>\n",
       "      <td>7261</td>\n",
       "      <td>2598</td>\n",
       "      <td>5572</td>\n",
       "      <td>5240</td>\n",
       "    </tr>\n",
       "    <tr>\n",
       "      <th>9</th>\n",
       "      <td>7079</td>\n",
       "      <td>6350</td>\n",
       "      <td>5752</td>\n",
       "      <td>5775</td>\n",
       "      <td>5414</td>\n",
       "      <td>4105</td>\n",
       "      <td>5123</td>\n",
       "      <td>4058</td>\n",
       "      <td>5240</td>\n",
       "      <td>5869</td>\n",
       "      <td>7262</td>\n",
       "    </tr>\n",
       "  </tbody>\n",
       "</table>\n",
       "</div>"
      ],
      "text/plain": [
       "   User ID R Movie 1 Movie 2 Movie 3 Movie 4 Movie 5 Movie 6 Movie 7 Movie 8  \\\n",
       "0         91    7263    5678    6992    2132    4313    3757    6557    2357   \n",
       "1        170    1701    4415    5139    3712    5655    1852    3113    6589   \n",
       "2        442    7263    1827     885    5719    1889    6201    5752    5873   \n",
       "3        475    6350    2220    6777    4936    4159    4703    6055    3648   \n",
       "4        678     326    1329    6543    1275    5242     980    6489    5693   \n",
       "5        688    4250    6485    6541    1445    1367    5802    4141    7010   \n",
       "6        845    7527    5414    4638    5753    7235    3240    6373    5932   \n",
       "7       2149     398    7250    4105       3    3084    4703    3953    7500   \n",
       "8       4591    1498    3084    5414     259    4141    7262    7261    2598   \n",
       "9       7079    6350    5752    5775    5414    4105    5123    4058    5240   \n",
       "\n",
       "  Movie 9 Movie 10  \n",
       "0    5085     5458  \n",
       "1    6453      886  \n",
       "2     391     6714  \n",
       "3    6412     4473  \n",
       "4    4110      841  \n",
       "5    6105     7262  \n",
       "6    7500     7537  \n",
       "7    3732     5845  \n",
       "8    5572     5240  \n",
       "9    5869     7262  "
      ]
     },
     "execution_count": 64,
     "metadata": {},
     "output_type": "execute_result"
    }
   ],
   "source": [
    "df_rec = pd.DataFrame(grouped_recommendations_df)\n",
    "\n",
    "# Split the \"Recommended Movies\" column into separate columns\n",
    "df_rec[['Movie 1', 'Movie 2', 'Movie 3', 'Movie 4', 'Movie 5', 'Movie 6', 'Movie 7', 'Movie 8', 'Movie 9', 'Movie 10']] = grouped_recommendations_df['Recommended Movies'].str.split(\", \", expand=True)\n",
    "\n",
    "# Drop the \"Recommended Movies\" column\n",
    "df_rec.drop('Recommended Movies', axis=1, inplace=True)\n",
    "\n",
    "df_rec"
   ]
  },
  {
   "cell_type": "code",
   "execution_count": null,
   "id": "f7f21a66",
   "metadata": {},
   "outputs": [],
   "source": [
    "'''\n",
    "Using the df_rec dataframe to extract the recommended movie IDs,\n",
    "we then filter the df dataframe to get the relevant information for each analysis.\n",
    "\n",
    "'''"
   ]
  },
  {
   "cell_type": "code",
   "execution_count": 86,
   "id": "e035d67b",
   "metadata": {},
   "outputs": [
    {
     "data": {
      "image/png": "[encoded data removed]",
      "text/plain": [
       "<Figure size 600x400 with 1 Axes>"
      ]
     },
     "metadata": {},
     "output_type": "display_data"
    },
    {
     "data": {
      "image/png": "[encoded data removed]",
      "text/plain": [
       "<Figure size 600x400 with 1 Axes>"
      ]
     },
     "metadata": {},
     "output_type": "display_data"
    },
    {
     "data": {
      "image/png": "[encoded data removed]",
      "text/plain": [
       "<Figure size 600x400 with 1 Axes>"
      ]
     },
     "metadata": {},
     "output_type": "display_data"
    },
    {
     "data": {
      "image/png": "[encoded data removed]",
      "text/plain": [
       "<Figure size 600x400 with 1 Axes>"
      ]
     },
     "metadata": {},
     "output_type": "display_data"
    },
    {
     "data": {
      "image/png": "[encoded data removed]",
      "text/plain": [
       "<Figure size 600x400 with 1 Axes>"
      ]
     },
     "metadata": {},
     "output_type": "display_data"
    }
   ],
   "source": [
    "#Data analysis of movie genre\n",
    "def analyze_genre_counts(df_rec, index):\n",
    "    x = df_rec[index:index+1].values[0].astype('int')\n",
    "    x = x[1:]\n",
    "\n",
    "    analysis_df = df[df['movie'].isin(x)]\n",
    "    unique_movies_df = analysis_df.drop_duplicates(subset=['movie'])\n",
    "\n",
    "    data = unique_movies_df\n",
    "\n",
    "    # Extract genre labels and their respective counts\n",
    "    genres = data['genres']\n",
    "    genre_counts = {}\n",
    "\n",
    "    for genre_list in genres:\n",
    "        genre_list = genre_list.split(', ')\n",
    "        for genre in genre_list:\n",
    "            if genre in genre_counts:\n",
    "                genre_counts[genre] += 1\n",
    "            else:\n",
    "                genre_counts[genre] = 1\n",
    "\n",
    "    # Create a bar plot of genre counts\n",
    "    plt.figure(figsize=(6, 4))\n",
    "    plt.bar(genre_counts.keys(), genre_counts.values())\n",
    "    plt.xlabel('Genres')\n",
    "    plt.ylabel('Count')\n",
    "    plt.title('Movie Genres')\n",
    "    plt.xticks(rotation=45)\n",
    "    plt.show()\n",
    "\n",
    "# Example usage\n",
    "for i in range(5):  # Loop over df_rec subsets from 0:1 to 4:5\n",
    "    analyze_genre_counts(df_rec, i)\n"
   ]
  },
  {
   "cell_type": "code",
   "execution_count": 97,
   "id": "7d851e9b",
   "metadata": {},
   "outputs": [
    {
     "data": {
      "image/png": "[encoded data removed]",
      "text/plain": [
       "<Figure size 600x400 with 1 Axes>"
      ]
     },
     "metadata": {},
     "output_type": "display_data"
    }
   ],
   "source": [
    "#User Rating Analysis\n",
    "\n",
    "# Get user ratings for the recommended movies from the main DataFrame\n",
    "user_ratings_df = df[df['movie'].isin(recommended_movie_ids)][['userId', 'rating']]\n",
    "\n",
    "# Extract user rating labels and their respective counts\n",
    "user_rating_counts = user_ratings_df['rating'].value_counts()\n",
    "\n",
    "# Create a bar plot of user rating counts for the recommended movies\n",
    "plt.figure(figsize=(6, 4))\n",
    "plt.bar(user_rating_counts.index, user_rating_counts.values)\n",
    "plt.xlabel('User Rating')\n",
    "plt.ylabel('Count')\n",
    "plt.title('User Ratings for Recommended Movies')\n",
    "plt.xticks(rotation=45)\n",
    "plt.show()\n"
   ]
  },
  {
   "cell_type": "code",
   "execution_count": 91,
   "id": "07642e80",
   "metadata": {},
   "outputs": [
    {
     "name": "stdout",
     "output_type": "stream",
     "text": [
      "Number of Unique Genres in Recommended Movies: 16\n"
     ]
    }
   ],
   "source": [
    "#Diversity Analysis\n",
    "\n",
    "'''\n",
    "Here we calculate the number of unique genres\n",
    "present in the recommended movies.\n",
    "'''\n",
    "# Extract movie IDs of the recommended movies\n",
    "recommended_movie_ids = df_rec.iloc[:, 1:].values.flatten().astype(int)\n",
    "\n",
    "# Filter the main DataFrame to get the recommended movies\n",
    "recommended_movies_df = df[df['movie'].isin(recommended_movie_ids)]\n",
    "\n",
    "# Extract unique genres for the recommended movies\n",
    "unique_genres = recommended_movies_df['genres'].str.split(', ').explode().unique()\n",
    "\n",
    "# Count the number of unique genres\n",
    "num_unique_genres = len(unique_genres)\n",
    "\n",
    "print(\"Number of Unique Genres in Recommended Movies:\", num_unique_genres)\n"
   ]
  },
  {
   "cell_type": "markdown",
   "id": "97b01d88",
   "metadata": {},
   "source": [
    "#### Cold Start Analysis"
   ]
  },
  {
   "cell_type": "code",
   "execution_count": 93,
   "id": "4b604eee",
   "metadata": {},
   "outputs": [
    {
     "name": "stdout",
     "output_type": "stream",
     "text": [
      "New Users in Recommended Movies: [  19  556  483 ... 7661 5761 8088]\n",
      "New Movies in Recommended Movies: [4512 6632 4708 ... 2328 3033 3419]\n"
     ]
    }
   ],
   "source": [
    "#Cold Start Analysis\n",
    "\n",
    "'''\n",
    "We investigate whether any new users \n",
    "or whether new movies are present in the recommended movies.\n",
    "'''\n",
    "\n",
    "# Extract user IDs from the first row of df_rec (excluding the first column)\n",
    "user_ids = df_rec.iloc[0, 1:].values.astype(int)\n",
    "\n",
    "# Extract movie IDs of the recommended movies\n",
    "recommended_movie_ids = df_rec.iloc[:, 1:].values.flatten().astype(int)\n",
    "\n",
    "# Check if there are any new users or movies in the recommended movies\n",
    "new_users = df[~df['user'].isin(user_ids)]['user'].unique()\n",
    "new_movies = df[~df['movie'].isin(recommended_movie_ids)]['movie'].unique()\n",
    "\n",
    "print(\"New Users in Recommended Movies:\", new_users)\n",
    "print(\"New Movies in Recommended Movies:\", new_movies)\n"
   ]
  },
  {
   "cell_type": "code",
   "execution_count": null,
   "id": "61588f9d",
   "metadata": {},
   "outputs": [],
   "source": []
  },
  {
   "cell_type": "markdown",
   "id": "4ac5c525",
   "metadata": {},
   "source": [
    "#### Content Rating"
   ]
  },
  {
   "cell_type": "code",
   "execution_count": 87,
   "id": "17ff3329",
   "metadata": {},
   "outputs": [
    {
     "data": {
      "image/png": "[encoded data removed]",
      "text/plain": [
       "<Figure size 600x400 with 1 Axes>"
      ]
     },
     "metadata": {},
     "output_type": "display_data"
    }
   ],
   "source": [
    "# Extract content ratings of the recommended movies\n",
    "content_ratings = df_rec.iloc[:, 1:].values.flatten().astype(int)\n",
    "content_ratings_df = df[df['movie'].isin(content_ratings)]\n",
    "\n",
    "# Extract content rating labels and their respective counts\n",
    "content_rating_counts = content_ratings_df['content_rating'].value_counts()\n",
    "\n",
    "# Create a bar plot of content rating counts\n",
    "plt.figure(figsize=(6, 4))\n",
    "plt.bar(content_rating_counts.index, content_rating_counts.values)\n",
    "plt.xlabel('Content Rating')\n",
    "plt.ylabel('Count')\n",
    "plt.title('Content Rating of Recommended Movies')\n",
    "plt.xticks(rotation=45)\n",
    "plt.show()\n"
   ]
  }
 ],
 "metadata": {
  "colab": {
   "provenance": []
  },
  "kernelspec": {
   "display_name": "Python 3 (ipykernel)",
   "language": "python",
   "name": "python3"
  },
  "language_info": {
   "codemirror_mode": {
    "name": "ipython",
    "version": 3
   },
   "file_extension": ".py",
   "mimetype": "text/x-python",
   "name": "python",
   "nbconvert_exporter": "python",
   "pygments_lexer": "ipython3",
   "version": "3.9.13"
  }
 },
 "nbformat": 4,
 "nbformat_minor": 5
}
